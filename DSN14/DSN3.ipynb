{
 "cells": [
  {
   "cell_type": "code",
   "execution_count": 16,
   "metadata": {
    "collapsed": true
   },
   "outputs": [],
   "source": [
    "import pandas as pd\n",
    "import numpy as np"
   ]
  },
  {
   "cell_type": "code",
   "execution_count": 17,
   "metadata": {},
   "outputs": [
    {
     "data": {
      "text/html": [
       "<div>\n",
       "<style scoped>\n",
       "    .dataframe tbody tr th:only-of-type {\n",
       "        vertical-align: middle;\n",
       "    }\n",
       "\n",
       "    .dataframe tbody tr th {\n",
       "        vertical-align: top;\n",
       "    }\n",
       "\n",
       "    .dataframe thead th {\n",
       "        text-align: right;\n",
       "    }\n",
       "</style>\n",
       "<table border=\"1\" class=\"dataframe\">\n",
       "  <thead>\n",
       "    <tr style=\"text-align: right;\">\n",
       "      <th></th>\n",
       "      <th>SID</th>\n",
       "      <th>label</th>\n",
       "      <th>SMART_1</th>\n",
       "      <th>SMART_3</th>\n",
       "      <th>SMART_5</th>\n",
       "      <th>SMART_7</th>\n",
       "      <th>SMART_9</th>\n",
       "      <th>SMART_187</th>\n",
       "      <th>SMART_189</th>\n",
       "      <th>SMART_194</th>\n",
       "      <th>...</th>\n",
       "      <th>SMART_197</th>\n",
       "      <th>RAW_5</th>\n",
       "      <th>RAW_197</th>\n",
       "      <th>cg_1</th>\n",
       "      <th>cg_5</th>\n",
       "      <th>cg_187</th>\n",
       "      <th>cg_195</th>\n",
       "      <th>cg_197</th>\n",
       "      <th>cgr_5</th>\n",
       "      <th>cgr_197</th>\n",
       "    </tr>\n",
       "  </thead>\n",
       "  <tbody>\n",
       "    <tr>\n",
       "      <th>0</th>\n",
       "      <td>434.0</td>\n",
       "      <td>1.0</td>\n",
       "      <td>0.387097</td>\n",
       "      <td>1.0</td>\n",
       "      <td>0.979798</td>\n",
       "      <td>0.536585</td>\n",
       "      <td>0.157895</td>\n",
       "      <td>1.0</td>\n",
       "      <td>-1.0</td>\n",
       "      <td>-0.542857</td>\n",
       "      <td>...</td>\n",
       "      <td>1.0</td>\n",
       "      <td>-0.964083</td>\n",
       "      <td>-1.0</td>\n",
       "      <td>0.096774</td>\n",
       "      <td>0.0</td>\n",
       "      <td>0.0</td>\n",
       "      <td>0.000000</td>\n",
       "      <td>0.0</td>\n",
       "      <td>0.0</td>\n",
       "      <td>0.0</td>\n",
       "    </tr>\n",
       "    <tr>\n",
       "      <th>1</th>\n",
       "      <td>434.0</td>\n",
       "      <td>1.0</td>\n",
       "      <td>0.387097</td>\n",
       "      <td>1.0</td>\n",
       "      <td>0.979798</td>\n",
       "      <td>0.536585</td>\n",
       "      <td>0.157895</td>\n",
       "      <td>1.0</td>\n",
       "      <td>-1.0</td>\n",
       "      <td>-0.542857</td>\n",
       "      <td>...</td>\n",
       "      <td>1.0</td>\n",
       "      <td>-0.964083</td>\n",
       "      <td>-1.0</td>\n",
       "      <td>0.064516</td>\n",
       "      <td>0.0</td>\n",
       "      <td>0.0</td>\n",
       "      <td>0.043011</td>\n",
       "      <td>0.0</td>\n",
       "      <td>0.0</td>\n",
       "      <td>0.0</td>\n",
       "    </tr>\n",
       "    <tr>\n",
       "      <th>2</th>\n",
       "      <td>434.0</td>\n",
       "      <td>1.0</td>\n",
       "      <td>0.419355</td>\n",
       "      <td>1.0</td>\n",
       "      <td>0.979798</td>\n",
       "      <td>0.536585</td>\n",
       "      <td>0.157895</td>\n",
       "      <td>1.0</td>\n",
       "      <td>-1.0</td>\n",
       "      <td>-0.485714</td>\n",
       "      <td>...</td>\n",
       "      <td>1.0</td>\n",
       "      <td>-0.964083</td>\n",
       "      <td>-1.0</td>\n",
       "      <td>0.064516</td>\n",
       "      <td>0.0</td>\n",
       "      <td>0.0</td>\n",
       "      <td>0.064516</td>\n",
       "      <td>0.0</td>\n",
       "      <td>0.0</td>\n",
       "      <td>0.0</td>\n",
       "    </tr>\n",
       "    <tr>\n",
       "      <th>3</th>\n",
       "      <td>434.0</td>\n",
       "      <td>1.0</td>\n",
       "      <td>0.451613</td>\n",
       "      <td>1.0</td>\n",
       "      <td>0.979798</td>\n",
       "      <td>0.536585</td>\n",
       "      <td>0.157895</td>\n",
       "      <td>1.0</td>\n",
       "      <td>-1.0</td>\n",
       "      <td>-0.542857</td>\n",
       "      <td>...</td>\n",
       "      <td>1.0</td>\n",
       "      <td>-0.964083</td>\n",
       "      <td>-1.0</td>\n",
       "      <td>0.096774</td>\n",
       "      <td>0.0</td>\n",
       "      <td>0.0</td>\n",
       "      <td>0.000000</td>\n",
       "      <td>0.0</td>\n",
       "      <td>0.0</td>\n",
       "      <td>0.0</td>\n",
       "    </tr>\n",
       "    <tr>\n",
       "      <th>4</th>\n",
       "      <td>434.0</td>\n",
       "      <td>1.0</td>\n",
       "      <td>0.483871</td>\n",
       "      <td>1.0</td>\n",
       "      <td>0.979798</td>\n",
       "      <td>0.536585</td>\n",
       "      <td>0.157895</td>\n",
       "      <td>1.0</td>\n",
       "      <td>-1.0</td>\n",
       "      <td>-0.542857</td>\n",
       "      <td>...</td>\n",
       "      <td>1.0</td>\n",
       "      <td>-0.964083</td>\n",
       "      <td>-1.0</td>\n",
       "      <td>0.096774</td>\n",
       "      <td>0.0</td>\n",
       "      <td>0.0</td>\n",
       "      <td>0.021506</td>\n",
       "      <td>0.0</td>\n",
       "      <td>0.0</td>\n",
       "      <td>0.0</td>\n",
       "    </tr>\n",
       "  </tbody>\n",
       "</table>\n",
       "<p>5 rows × 21 columns</p>\n",
       "</div>"
      ],
      "text/plain": [
       "     SID  label   SMART_1  SMART_3   SMART_5   SMART_7   SMART_9  SMART_187  \\\n",
       "0  434.0    1.0  0.387097      1.0  0.979798  0.536585  0.157895        1.0   \n",
       "1  434.0    1.0  0.387097      1.0  0.979798  0.536585  0.157895        1.0   \n",
       "2  434.0    1.0  0.419355      1.0  0.979798  0.536585  0.157895        1.0   \n",
       "3  434.0    1.0  0.451613      1.0  0.979798  0.536585  0.157895        1.0   \n",
       "4  434.0    1.0  0.483871      1.0  0.979798  0.536585  0.157895        1.0   \n",
       "\n",
       "   SMART_189  SMART_194   ...     SMART_197     RAW_5  RAW_197      cg_1  \\\n",
       "0       -1.0  -0.542857   ...           1.0 -0.964083     -1.0  0.096774   \n",
       "1       -1.0  -0.542857   ...           1.0 -0.964083     -1.0  0.064516   \n",
       "2       -1.0  -0.485714   ...           1.0 -0.964083     -1.0  0.064516   \n",
       "3       -1.0  -0.542857   ...           1.0 -0.964083     -1.0  0.096774   \n",
       "4       -1.0  -0.542857   ...           1.0 -0.964083     -1.0  0.096774   \n",
       "\n",
       "   cg_5  cg_187    cg_195  cg_197  cgr_5  cgr_197  \n",
       "0   0.0     0.0  0.000000     0.0    0.0      0.0  \n",
       "1   0.0     0.0  0.043011     0.0    0.0      0.0  \n",
       "2   0.0     0.0  0.064516     0.0    0.0      0.0  \n",
       "3   0.0     0.0  0.000000     0.0    0.0      0.0  \n",
       "4   0.0     0.0  0.021506     0.0    0.0      0.0  \n",
       "\n",
       "[5 rows x 21 columns]"
      ]
     },
     "execution_count": 17,
     "metadata": {},
     "output_type": "execute_result"
    }
   ],
   "source": [
    "new_good=pd.read_csv('/Users/zhilinyang/Desktop/work/new_good2.csv')\n",
    "new_good=new_good.iloc[:,1:]\n",
    "new_good.head()"
   ]
  },
  {
   "cell_type": "code",
   "execution_count": 18,
   "metadata": {},
   "outputs": [
    {
     "data": {
      "text/plain": [
       "22962"
      ]
     },
     "execution_count": 18,
     "metadata": {},
     "output_type": "execute_result"
    }
   ],
   "source": [
    "good_list=new_good['SID'].unique()\n",
    "len(good_list)"
   ]
  },
  {
   "cell_type": "code",
   "execution_count": null,
   "metadata": {},
   "outputs": [],
   "source": [
    "new_bad=pd.read_csv('/Users/zhilinyang/Desktop/work/new_bad.csv')\n",
    "new_bad=new_bad.iloc[:,1:]\n",
    "new_bad.head(20)"
   ]
  },
  {
   "cell_type": "code",
   "execution_count": 20,
   "metadata": {},
   "outputs": [
    {
     "data": {
      "text/plain": [
       "433"
      ]
     },
     "execution_count": 20,
     "metadata": {},
     "output_type": "execute_result"
    }
   ],
   "source": [
    "bad_list=new_bad['SID'].unique()\n",
    "len(bad_list)"
   ]
  },
  {
   "cell_type": "code",
   "execution_count": 13,
   "metadata": {},
   "outputs": [
    {
     "data": {
      "text/html": [
       "<div>\n",
       "<style scoped>\n",
       "    .dataframe tbody tr th:only-of-type {\n",
       "        vertical-align: middle;\n",
       "    }\n",
       "\n",
       "    .dataframe tbody tr th {\n",
       "        vertical-align: top;\n",
       "    }\n",
       "\n",
       "    .dataframe thead th {\n",
       "        text-align: right;\n",
       "    }\n",
       "</style>\n",
       "<table border=\"1\" class=\"dataframe\">\n",
       "  <thead>\n",
       "    <tr style=\"text-align: right;\">\n",
       "      <th></th>\n",
       "      <th>SID</th>\n",
       "      <th>SMART_1</th>\n",
       "      <th>SMART_3</th>\n",
       "      <th>SMART_5</th>\n",
       "      <th>SMART_7</th>\n",
       "      <th>SMART_9</th>\n",
       "      <th>SMART_187</th>\n",
       "      <th>SMART_189</th>\n",
       "      <th>SMART_194</th>\n",
       "      <th>SMART_195</th>\n",
       "      <th>SMART_197</th>\n",
       "      <th>RAW_5</th>\n",
       "      <th>RAW_197</th>\n",
       "      <th>cg_1</th>\n",
       "      <th>cg_5</th>\n",
       "      <th>cg_187</th>\n",
       "      <th>cg_195</th>\n",
       "      <th>cg_197</th>\n",
       "      <th>cgr_5</th>\n",
       "      <th>cgr_197</th>\n",
       "    </tr>\n",
       "  </thead>\n",
       "  <tbody>\n",
       "    <tr>\n",
       "      <th>0</th>\n",
       "      <td>11868.0</td>\n",
       "      <td>0.258065</td>\n",
       "      <td>0.555556</td>\n",
       "      <td>1.0</td>\n",
       "      <td>0.390244</td>\n",
       "      <td>0.578947</td>\n",
       "      <td>1.00000</td>\n",
       "      <td>1.000000</td>\n",
       "      <td>-0.600000</td>\n",
       "      <td>-0.075269</td>\n",
       "      <td>1.0</td>\n",
       "      <td>-1.000000</td>\n",
       "      <td>-1.000000</td>\n",
       "      <td>0.129032</td>\n",
       "      <td>0.0</td>\n",
       "      <td>0.0</td>\n",
       "      <td>0.043011</td>\n",
       "      <td>0.0</td>\n",
       "      <td>0.0</td>\n",
       "      <td>0.0</td>\n",
       "    </tr>\n",
       "    <tr>\n",
       "      <th>1</th>\n",
       "      <td>6988.0</td>\n",
       "      <td>0.387097</td>\n",
       "      <td>1.000000</td>\n",
       "      <td>1.0</td>\n",
       "      <td>0.512195</td>\n",
       "      <td>0.157895</td>\n",
       "      <td>1.00000</td>\n",
       "      <td>1.000000</td>\n",
       "      <td>-0.257143</td>\n",
       "      <td>-0.032258</td>\n",
       "      <td>1.0</td>\n",
       "      <td>-0.999527</td>\n",
       "      <td>-1.000000</td>\n",
       "      <td>0.258065</td>\n",
       "      <td>0.0</td>\n",
       "      <td>0.0</td>\n",
       "      <td>0.021505</td>\n",
       "      <td>0.0</td>\n",
       "      <td>0.0</td>\n",
       "      <td>0.0</td>\n",
       "    </tr>\n",
       "    <tr>\n",
       "      <th>2</th>\n",
       "      <td>21300.0</td>\n",
       "      <td>0.419355</td>\n",
       "      <td>0.777778</td>\n",
       "      <td>1.0</td>\n",
       "      <td>0.317073</td>\n",
       "      <td>0.789474</td>\n",
       "      <td>1.00000</td>\n",
       "      <td>0.636364</td>\n",
       "      <td>-0.428571</td>\n",
       "      <td>-0.010753</td>\n",
       "      <td>1.0</td>\n",
       "      <td>-1.000000</td>\n",
       "      <td>-1.000000</td>\n",
       "      <td>0.129032</td>\n",
       "      <td>0.0</td>\n",
       "      <td>0.0</td>\n",
       "      <td>0.021506</td>\n",
       "      <td>0.0</td>\n",
       "      <td>0.0</td>\n",
       "      <td>0.0</td>\n",
       "    </tr>\n",
       "    <tr>\n",
       "      <th>3</th>\n",
       "      <td>307.0</td>\n",
       "      <td>0.193548</td>\n",
       "      <td>0.555556</td>\n",
       "      <td>1.0</td>\n",
       "      <td>0.560976</td>\n",
       "      <td>-0.052632</td>\n",
       "      <td>0.79798</td>\n",
       "      <td>0.939394</td>\n",
       "      <td>-0.828571</td>\n",
       "      <td>-0.053763</td>\n",
       "      <td>1.0</td>\n",
       "      <td>-0.991021</td>\n",
       "      <td>-0.997753</td>\n",
       "      <td>0.129033</td>\n",
       "      <td>0.0</td>\n",
       "      <td>0.0</td>\n",
       "      <td>0.000000</td>\n",
       "      <td>0.0</td>\n",
       "      <td>0.0</td>\n",
       "      <td>0.0</td>\n",
       "    </tr>\n",
       "    <tr>\n",
       "      <th>4</th>\n",
       "      <td>15293.0</td>\n",
       "      <td>0.290323</td>\n",
       "      <td>0.555556</td>\n",
       "      <td>1.0</td>\n",
       "      <td>0.414634</td>\n",
       "      <td>0.578947</td>\n",
       "      <td>1.00000</td>\n",
       "      <td>1.000000</td>\n",
       "      <td>-0.542857</td>\n",
       "      <td>-0.053763</td>\n",
       "      <td>1.0</td>\n",
       "      <td>-1.000000</td>\n",
       "      <td>-1.000000</td>\n",
       "      <td>0.129032</td>\n",
       "      <td>0.0</td>\n",
       "      <td>0.0</td>\n",
       "      <td>0.000000</td>\n",
       "      <td>0.0</td>\n",
       "      <td>0.0</td>\n",
       "      <td>0.0</td>\n",
       "    </tr>\n",
       "  </tbody>\n",
       "</table>\n",
       "</div>"
      ],
      "text/plain": [
       "       SID   SMART_1   SMART_3  SMART_5   SMART_7   SMART_9  SMART_187  \\\n",
       "0  11868.0  0.258065  0.555556      1.0  0.390244  0.578947    1.00000   \n",
       "1   6988.0  0.387097  1.000000      1.0  0.512195  0.157895    1.00000   \n",
       "2  21300.0  0.419355  0.777778      1.0  0.317073  0.789474    1.00000   \n",
       "3    307.0  0.193548  0.555556      1.0  0.560976 -0.052632    0.79798   \n",
       "4  15293.0  0.290323  0.555556      1.0  0.414634  0.578947    1.00000   \n",
       "\n",
       "   SMART_189  SMART_194  SMART_195  SMART_197     RAW_5   RAW_197      cg_1  \\\n",
       "0   1.000000  -0.600000  -0.075269        1.0 -1.000000 -1.000000  0.129032   \n",
       "1   1.000000  -0.257143  -0.032258        1.0 -0.999527 -1.000000  0.258065   \n",
       "2   0.636364  -0.428571  -0.010753        1.0 -1.000000 -1.000000  0.129032   \n",
       "3   0.939394  -0.828571  -0.053763        1.0 -0.991021 -0.997753  0.129033   \n",
       "4   1.000000  -0.542857  -0.053763        1.0 -1.000000 -1.000000  0.129032   \n",
       "\n",
       "   cg_5  cg_187    cg_195  cg_197  cgr_5  cgr_197  \n",
       "0   0.0     0.0  0.043011     0.0    0.0      0.0  \n",
       "1   0.0     0.0  0.021505     0.0    0.0      0.0  \n",
       "2   0.0     0.0  0.021506     0.0    0.0      0.0  \n",
       "3   0.0     0.0  0.000000     0.0    0.0      0.0  \n",
       "4   0.0     0.0  0.000000     0.0    0.0      0.0  "
      ]
     },
     "execution_count": 13,
     "metadata": {},
     "output_type": "execute_result"
    }
   ],
   "source": [
    "train_df=pd.read_csv('/Users/zhilinyang/Desktop/work/train_df2.csv')\n",
    "train_df=train_df.iloc[:,1:]\n",
    "train_df.head()"
   ]
  },
  {
   "cell_type": "code",
   "execution_count": 21,
   "metadata": {
    "collapsed": true
   },
   "outputs": [],
   "source": [
    "y_train=np.ones(len(train_df))\n",
    "y_train[train_df['SID'].isin(good_list)]=0"
   ]
  },
  {
   "cell_type": "code",
   "execution_count": 22,
   "metadata": {
    "collapsed": true
   },
   "outputs": [],
   "source": [
    "y_train[~train_df['SID'].isin(good_list)]=1"
   ]
  },
  {
   "cell_type": "code",
   "execution_count": 23,
   "metadata": {},
   "outputs": [
    {
     "name": "stdout",
     "output_type": "stream",
     "text": [
      "[ 0.  0.  0.  1.  0.  0.  0.  0.  0.  0.  0.  0.  0.  0.  1.  0.  0.  0.\n",
      "  0.  0.]\n"
     ]
    }
   ],
   "source": [
    "print(y_train[:20])"
   ]
  },
  {
   "cell_type": "code",
   "execution_count": 24,
   "metadata": {
    "collapsed": true
   },
   "outputs": [],
   "source": [
    "dropcols=['SMART_197','RAW_197','cg_5','cg_187','cg_197','cgr_197']\n",
    "train_df=train_df.drop(dropcols,axis=1)"
   ]
  },
  {
   "cell_type": "code",
   "execution_count": 11,
   "metadata": {
    "collapsed": true
   },
   "outputs": [],
   "source": [
    "from sklearn.tree import DecisionTreeClassifier\n",
    "DT=DecisionTreeClassifier(criterion='entropy',min_samples_split = 20, min_samples_leaf = 7, min_impurity_decrease = 0.001,class_weight={0:1,1:10})"
   ]
  },
  {
   "cell_type": "code",
   "execution_count": 83,
   "metadata": {},
   "outputs": [
    {
     "data": {
      "text/plain": [
       "DecisionTreeClassifier(class_weight={0: 1, 1: 10}, criterion='entropy',\n",
       "            max_depth=None, max_features=None, max_leaf_nodes=None,\n",
       "            min_impurity_decrease=0.001, min_impurity_split=None,\n",
       "            min_samples_leaf=7, min_samples_split=20,\n",
       "            min_weight_fraction_leaf=0.0, presort=False, random_state=None,\n",
       "            splitter='best')"
      ]
     },
     "execution_count": 83,
     "metadata": {},
     "output_type": "execute_result"
    }
   ],
   "source": [
    "DT.fit(train_df.iloc[:,1:],y_train)"
   ]
  },
  {
   "cell_type": "code",
   "execution_count": 37,
   "metadata": {},
   "outputs": [
    {
     "data": {
      "text/html": [
       "<div>\n",
       "<style scoped>\n",
       "    .dataframe tbody tr th:only-of-type {\n",
       "        vertical-align: middle;\n",
       "    }\n",
       "\n",
       "    .dataframe tbody tr th {\n",
       "        vertical-align: top;\n",
       "    }\n",
       "\n",
       "    .dataframe thead th {\n",
       "        text-align: right;\n",
       "    }\n",
       "</style>\n",
       "<table border=\"1\" class=\"dataframe\">\n",
       "  <thead>\n",
       "    <tr style=\"text-align: right;\">\n",
       "      <th></th>\n",
       "      <th>SID</th>\n",
       "      <th>SMART_1</th>\n",
       "      <th>SMART_3</th>\n",
       "      <th>SMART_5</th>\n",
       "      <th>SMART_7</th>\n",
       "      <th>SMART_9</th>\n",
       "      <th>SMART_187</th>\n",
       "      <th>SMART_189</th>\n",
       "      <th>SMART_194</th>\n",
       "      <th>SMART_195</th>\n",
       "      <th>SMART_197</th>\n",
       "      <th>RAW_5</th>\n",
       "      <th>RAW_197</th>\n",
       "      <th>cg_1</th>\n",
       "      <th>cg_5</th>\n",
       "      <th>cg_187</th>\n",
       "      <th>cg_195</th>\n",
       "      <th>cg_197</th>\n",
       "      <th>cgr_5</th>\n",
       "      <th>cgr_197</th>\n",
       "    </tr>\n",
       "  </thead>\n",
       "  <tbody>\n",
       "    <tr>\n",
       "      <th>0</th>\n",
       "      <td>4475.0</td>\n",
       "      <td>0.290323</td>\n",
       "      <td>1.000000</td>\n",
       "      <td>1.0</td>\n",
       "      <td>0.536585</td>\n",
       "      <td>0.052632</td>\n",
       "      <td>1.0</td>\n",
       "      <td>1.000000</td>\n",
       "      <td>-0.714286</td>\n",
       "      <td>-0.161290</td>\n",
       "      <td>1.0</td>\n",
       "      <td>-0.997637</td>\n",
       "      <td>-1.0</td>\n",
       "      <td>0.161290</td>\n",
       "      <td>0.0</td>\n",
       "      <td>0.0</td>\n",
       "      <td>0.086021</td>\n",
       "      <td>0.0</td>\n",
       "      <td>0.0</td>\n",
       "      <td>0.0</td>\n",
       "    </tr>\n",
       "    <tr>\n",
       "      <th>1</th>\n",
       "      <td>14671.0</td>\n",
       "      <td>0.387097</td>\n",
       "      <td>0.555556</td>\n",
       "      <td>1.0</td>\n",
       "      <td>0.390244</td>\n",
       "      <td>0.578947</td>\n",
       "      <td>1.0</td>\n",
       "      <td>0.030303</td>\n",
       "      <td>-0.600000</td>\n",
       "      <td>-0.010753</td>\n",
       "      <td>1.0</td>\n",
       "      <td>-1.000000</td>\n",
       "      <td>-1.0</td>\n",
       "      <td>0.032258</td>\n",
       "      <td>0.0</td>\n",
       "      <td>0.0</td>\n",
       "      <td>0.064516</td>\n",
       "      <td>0.0</td>\n",
       "      <td>0.0</td>\n",
       "      <td>0.0</td>\n",
       "    </tr>\n",
       "    <tr>\n",
       "      <th>2</th>\n",
       "      <td>19920.0</td>\n",
       "      <td>0.419355</td>\n",
       "      <td>0.259259</td>\n",
       "      <td>1.0</td>\n",
       "      <td>0.390244</td>\n",
       "      <td>0.789474</td>\n",
       "      <td>1.0</td>\n",
       "      <td>1.000000</td>\n",
       "      <td>-0.485714</td>\n",
       "      <td>-0.032258</td>\n",
       "      <td>1.0</td>\n",
       "      <td>-1.000000</td>\n",
       "      <td>-1.0</td>\n",
       "      <td>0.064516</td>\n",
       "      <td>0.0</td>\n",
       "      <td>0.0</td>\n",
       "      <td>0.021505</td>\n",
       "      <td>0.0</td>\n",
       "      <td>0.0</td>\n",
       "      <td>0.0</td>\n",
       "    </tr>\n",
       "    <tr>\n",
       "      <th>3</th>\n",
       "      <td>2785.0</td>\n",
       "      <td>0.387097</td>\n",
       "      <td>1.000000</td>\n",
       "      <td>1.0</td>\n",
       "      <td>0.560976</td>\n",
       "      <td>0.052632</td>\n",
       "      <td>1.0</td>\n",
       "      <td>1.000000</td>\n",
       "      <td>-0.600000</td>\n",
       "      <td>-0.290323</td>\n",
       "      <td>1.0</td>\n",
       "      <td>-0.997637</td>\n",
       "      <td>-1.0</td>\n",
       "      <td>0.161291</td>\n",
       "      <td>0.0</td>\n",
       "      <td>0.0</td>\n",
       "      <td>0.021505</td>\n",
       "      <td>0.0</td>\n",
       "      <td>0.0</td>\n",
       "      <td>0.0</td>\n",
       "    </tr>\n",
       "    <tr>\n",
       "      <th>4</th>\n",
       "      <td>13665.0</td>\n",
       "      <td>0.387097</td>\n",
       "      <td>0.555556</td>\n",
       "      <td>1.0</td>\n",
       "      <td>0.414634</td>\n",
       "      <td>0.578947</td>\n",
       "      <td>1.0</td>\n",
       "      <td>1.000000</td>\n",
       "      <td>-0.371429</td>\n",
       "      <td>-0.096774</td>\n",
       "      <td>1.0</td>\n",
       "      <td>-1.000000</td>\n",
       "      <td>-1.0</td>\n",
       "      <td>0.193549</td>\n",
       "      <td>0.0</td>\n",
       "      <td>0.0</td>\n",
       "      <td>0.021505</td>\n",
       "      <td>0.0</td>\n",
       "      <td>0.0</td>\n",
       "      <td>0.0</td>\n",
       "    </tr>\n",
       "  </tbody>\n",
       "</table>\n",
       "</div>"
      ],
      "text/plain": [
       "       SID   SMART_1   SMART_3  SMART_5   SMART_7   SMART_9  SMART_187  \\\n",
       "0   4475.0  0.290323  1.000000      1.0  0.536585  0.052632        1.0   \n",
       "1  14671.0  0.387097  0.555556      1.0  0.390244  0.578947        1.0   \n",
       "2  19920.0  0.419355  0.259259      1.0  0.390244  0.789474        1.0   \n",
       "3   2785.0  0.387097  1.000000      1.0  0.560976  0.052632        1.0   \n",
       "4  13665.0  0.387097  0.555556      1.0  0.414634  0.578947        1.0   \n",
       "\n",
       "   SMART_189  SMART_194  SMART_195  SMART_197     RAW_5  RAW_197      cg_1  \\\n",
       "0   1.000000  -0.714286  -0.161290        1.0 -0.997637     -1.0  0.161290   \n",
       "1   0.030303  -0.600000  -0.010753        1.0 -1.000000     -1.0  0.032258   \n",
       "2   1.000000  -0.485714  -0.032258        1.0 -1.000000     -1.0  0.064516   \n",
       "3   1.000000  -0.600000  -0.290323        1.0 -0.997637     -1.0  0.161291   \n",
       "4   1.000000  -0.371429  -0.096774        1.0 -1.000000     -1.0  0.193549   \n",
       "\n",
       "   cg_5  cg_187    cg_195  cg_197  cgr_5  cgr_197  \n",
       "0   0.0     0.0  0.086021     0.0    0.0      0.0  \n",
       "1   0.0     0.0  0.064516     0.0    0.0      0.0  \n",
       "2   0.0     0.0  0.021505     0.0    0.0      0.0  \n",
       "3   0.0     0.0  0.021505     0.0    0.0      0.0  \n",
       "4   0.0     0.0  0.021505     0.0    0.0      0.0  "
      ]
     },
     "execution_count": 37,
     "metadata": {},
     "output_type": "execute_result"
    }
   ],
   "source": [
    "test_df=pd.read_csv('/Users/zhilinyang/Desktop/work/test_df2.csv')\n",
    "test_df=test_df.iloc[:,1:]\n",
    "test_df.head()"
   ]
  },
  {
   "cell_type": "code",
   "execution_count": 38,
   "metadata": {},
   "outputs": [
    {
     "data": {
      "text/html": [
       "<div>\n",
       "<style scoped>\n",
       "    .dataframe tbody tr th:only-of-type {\n",
       "        vertical-align: middle;\n",
       "    }\n",
       "\n",
       "    .dataframe tbody tr th {\n",
       "        vertical-align: top;\n",
       "    }\n",
       "\n",
       "    .dataframe thead th {\n",
       "        text-align: right;\n",
       "    }\n",
       "</style>\n",
       "<table border=\"1\" class=\"dataframe\">\n",
       "  <thead>\n",
       "    <tr style=\"text-align: right;\">\n",
       "      <th></th>\n",
       "      <th>1</th>\n",
       "    </tr>\n",
       "  </thead>\n",
       "  <tbody>\n",
       "    <tr>\n",
       "      <th>0</th>\n",
       "      <td>0.0</td>\n",
       "    </tr>\n",
       "    <tr>\n",
       "      <th>1</th>\n",
       "      <td>0.0</td>\n",
       "    </tr>\n",
       "    <tr>\n",
       "      <th>2</th>\n",
       "      <td>0.0</td>\n",
       "    </tr>\n",
       "    <tr>\n",
       "      <th>3</th>\n",
       "      <td>0.0</td>\n",
       "    </tr>\n",
       "    <tr>\n",
       "      <th>4</th>\n",
       "      <td>0.0</td>\n",
       "    </tr>\n",
       "  </tbody>\n",
       "</table>\n",
       "</div>"
      ],
      "text/plain": [
       "     1\n",
       "0  0.0\n",
       "1  0.0\n",
       "2  0.0\n",
       "3  0.0\n",
       "4  0.0"
      ]
     },
     "execution_count": 38,
     "metadata": {},
     "output_type": "execute_result"
    }
   ],
   "source": [
    "y_test=pd.read_csv('/Users/zhilinyang/Desktop/work/y_test2.csv',header=None)\n",
    "y_test=y_test.iloc[:,1:]\n",
    "y_test.head()"
   ]
  },
  {
   "cell_type": "code",
   "execution_count": 26,
   "metadata": {
    "collapsed": true
   },
   "outputs": [],
   "source": [
    "from sklearn.metrics import confusion_matrix\n",
    "def FDR(y_true, y_pred):\n",
    "    mat=confusion_matrix(y_true=y_true,y_pred=y_pred)\n",
    "    TP=mat[1,1]\n",
    "    FN=mat[1,0]\n",
    "    FDR=TP/(TP+FN)\n",
    "    return FDR"
   ]
  },
  {
   "cell_type": "code",
   "execution_count": 27,
   "metadata": {
    "collapsed": true
   },
   "outputs": [],
   "source": [
    "def FAR(y_true, y_pred):\n",
    "    mat=confusion_matrix(y_true=y_true,y_pred=y_pred)\n",
    "    FP=mat[0,1]\n",
    "    TN=mat[0,0]\n",
    "    FAR=FP/(FP+TN)\n",
    "    return FAR"
   ]
  },
  {
   "cell_type": "code",
   "execution_count": 28,
   "metadata": {
    "collapsed": true
   },
   "outputs": [],
   "source": [
    "def disk_state(testset,y_true,disk_name_list):\n",
    "    result=[]\n",
    "    test_set=testset.groupby('SID')\n",
    "    for disk in disk_name_list:\n",
    "        sample_index=test_set.get_group(disk).index\n",
    "        sample_result=y_true.reindex(sample_index)\n",
    "        sample_result=sample_result.values\n",
    "        if sample_result.sum():\n",
    "            result.append(1)\n",
    "        else:\n",
    "            result.append(0)\n",
    "    return result"
   ]
  },
  {
   "cell_type": "code",
   "execution_count": 29,
   "metadata": {
    "collapsed": true
   },
   "outputs": [],
   "source": [
    "def disk_FDR(x_test,y_pred,y_test):\n",
    "    disk_pred=predict_disk(x_test,y_pred,x_test['SID'].unique())\n",
    "    true_state=disk_state(x_test,y_test,x_test['SID'].unique())\n",
    "    true_state=np.array(true_state)\n",
    "    disk_pred=np.array(disk_pred)\n",
    "    diskfdr=FDR(true_state, disk_pred)\n",
    "    return diskfdr"
   ]
  },
  {
   "cell_type": "code",
   "execution_count": 30,
   "metadata": {
    "collapsed": true
   },
   "outputs": [],
   "source": [
    "def disk_FAR(x_test,y_pred,y_test):\n",
    "    disk_pred=predict_disk(x_test,y_pred,x_test['SID'].unique())\n",
    "    true_state=disk_state(x_test,y_test,x_test['SID'].unique())\n",
    "    true_state=np.array(true_state)\n",
    "    disk_pred=np.array(disk_pred)\n",
    "    diskfdr=FAR(true_state, disk_pred)\n",
    "    return diskfdr"
   ]
  },
  {
   "cell_type": "code",
   "execution_count": 31,
   "metadata": {
    "collapsed": true
   },
   "outputs": [],
   "source": [
    "def predict_disk(testset,y_pred,disk_name_list):\n",
    "    result=[]\n",
    "    test_set=testset.groupby('SID')\n",
    "    y_pred=pd.Series(y_pred)\n",
    "    for disk in disk_name_list:\n",
    "        sample_index=test_set.get_group(disk).index\n",
    "        sample_result=y_pred.reindex(sample_index)\n",
    "        sample_result=pd.Series(sample_result)\n",
    "        if sample_result.sum()>len(sample_result)/2:\n",
    "            result.append(1)\n",
    "        else:\n",
    "            result.append(0)\n",
    "    return result"
   ]
  },
  {
   "cell_type": "code",
   "execution_count": 48,
   "metadata": {},
   "outputs": [
    {
     "data": {
      "text/plain": [
       "0.96124031007751942"
      ]
     },
     "execution_count": 48,
     "metadata": {},
     "output_type": "execute_result"
    }
   ],
   "source": [
    "disk_FDR(test_df,y_pred,y_test) #For DT"
   ]
  },
  {
   "cell_type": "code",
   "execution_count": 32,
   "metadata": {},
   "outputs": [
    {
     "data": {
      "text/plain": [
       "433"
      ]
     },
     "execution_count": 32,
     "metadata": {},
     "output_type": "execute_result"
    }
   ],
   "source": [
    "fail_list=new_bad['SID'].unique()\n",
    "len(fail_list)"
   ]
  },
  {
   "cell_type": "code",
   "execution_count": 33,
   "metadata": {
    "collapsed": true
   },
   "outputs": [],
   "source": [
    "train_list=train_df['SID'].unique()"
   ]
  },
  {
   "cell_type": "code",
   "execution_count": 34,
   "metadata": {
    "collapsed": true
   },
   "outputs": [],
   "source": [
    "def get_new_test(N,good_df,fail_df,train_list):\n",
    "    x_test=pd.DataFrame()\n",
    "    groups=good_df.groupby('SID')\n",
    "    my_good=pd.Series(good_list).sample(frac=0.3).values\n",
    "    for name in my_good:\n",
    "        grp=groups.get_group(name)\n",
    "        sample=grp.iloc[len(grp)-N:len(grp)]\n",
    "        x_test=x_test.append(sample)\n",
    "    good_num=len(x_test)\n",
    "    \n",
    "    groups=fail_df.groupby('SID')\n",
    "    for name in pd.Series(fail_list).sample(frac=0.9):\n",
    "        if name not in train_list:\n",
    "            grp=groups.get_group(name)\n",
    "            sample=grp.iloc[len(grp)-N:len(grp)]\n",
    "            x_test=x_test.append(sample)\n",
    "    \n",
    "    x_test=x_test.drop(dropcols,axis=1)\n",
    "    y_test=[0 for i in range(0,good_num)]+[1 for i in range(good_num,len(x_test))]\n",
    "    y_test=np.array(y_test)\n",
    "    return x_test,y_test"
   ]
  },
  {
   "cell_type": "code",
   "execution_count": 85,
   "metadata": {
    "collapsed": true
   },
   "outputs": [],
   "source": [
    "new_x_test,new_y_test=get_new_test(3,new_good,new_bad,train_list)"
   ]
  },
  {
   "cell_type": "code",
   "execution_count": 86,
   "metadata": {},
   "outputs": [
    {
     "name": "stdout",
     "output_type": "stream",
     "text": [
      "21021 21021\n"
     ]
    }
   ],
   "source": [
    "print(len(new_x_test),len(new_y_test))"
   ]
  },
  {
   "cell_type": "code",
   "execution_count": 66,
   "metadata": {},
   "outputs": [
    {
     "data": {
      "text/plain": [
       "6889"
      ]
     },
     "execution_count": 66,
     "metadata": {},
     "output_type": "execute_result"
    }
   ],
   "source": [
    "len(pd.Series(good_list).sample(frac=0.3))"
   ]
  },
  {
   "cell_type": "code",
   "execution_count": 90,
   "metadata": {},
   "outputs": [
    {
     "data": {
      "text/html": [
       "<div>\n",
       "<style scoped>\n",
       "    .dataframe tbody tr th:only-of-type {\n",
       "        vertical-align: middle;\n",
       "    }\n",
       "\n",
       "    .dataframe tbody tr th {\n",
       "        vertical-align: top;\n",
       "    }\n",
       "\n",
       "    .dataframe thead th {\n",
       "        text-align: right;\n",
       "    }\n",
       "</style>\n",
       "<table border=\"1\" class=\"dataframe\">\n",
       "  <thead>\n",
       "    <tr style=\"text-align: right;\">\n",
       "      <th></th>\n",
       "      <th>SID</th>\n",
       "      <th>SMART_1</th>\n",
       "      <th>SMART_3</th>\n",
       "      <th>SMART_5</th>\n",
       "      <th>SMART_7</th>\n",
       "      <th>SMART_9</th>\n",
       "      <th>SMART_187</th>\n",
       "      <th>SMART_189</th>\n",
       "      <th>SMART_194</th>\n",
       "      <th>SMART_195</th>\n",
       "      <th>RAW_5</th>\n",
       "      <th>cg_1</th>\n",
       "      <th>cg_195</th>\n",
       "      <th>cgr_5</th>\n",
       "    </tr>\n",
       "  </thead>\n",
       "  <tbody>\n",
       "    <tr>\n",
       "      <th>641737</th>\n",
       "      <td>4399.0</td>\n",
       "      <td>0.451613</td>\n",
       "      <td>1.0</td>\n",
       "      <td>1.0</td>\n",
       "      <td>0.560976</td>\n",
       "      <td>0.052632</td>\n",
       "      <td>1.0</td>\n",
       "      <td>0.69697</td>\n",
       "      <td>-0.428571</td>\n",
       "      <td>-0.118280</td>\n",
       "      <td>-0.999527</td>\n",
       "      <td>0.129032</td>\n",
       "      <td>0.021506</td>\n",
       "      <td>0.0</td>\n",
       "    </tr>\n",
       "    <tr>\n",
       "      <th>641738</th>\n",
       "      <td>4399.0</td>\n",
       "      <td>0.451613</td>\n",
       "      <td>1.0</td>\n",
       "      <td>1.0</td>\n",
       "      <td>0.560976</td>\n",
       "      <td>0.052632</td>\n",
       "      <td>1.0</td>\n",
       "      <td>0.69697</td>\n",
       "      <td>-0.485714</td>\n",
       "      <td>-0.118280</td>\n",
       "      <td>-0.999527</td>\n",
       "      <td>0.096774</td>\n",
       "      <td>0.021506</td>\n",
       "      <td>0.0</td>\n",
       "    </tr>\n",
       "    <tr>\n",
       "      <th>641739</th>\n",
       "      <td>4399.0</td>\n",
       "      <td>0.451613</td>\n",
       "      <td>1.0</td>\n",
       "      <td>1.0</td>\n",
       "      <td>0.560976</td>\n",
       "      <td>0.052632</td>\n",
       "      <td>1.0</td>\n",
       "      <td>0.69697</td>\n",
       "      <td>-0.485714</td>\n",
       "      <td>-0.139785</td>\n",
       "      <td>-0.999527</td>\n",
       "      <td>0.064516</td>\n",
       "      <td>0.021505</td>\n",
       "      <td>0.0</td>\n",
       "    </tr>\n",
       "    <tr>\n",
       "      <th>1594327</th>\n",
       "      <td>10289.0</td>\n",
       "      <td>0.387097</td>\n",
       "      <td>1.0</td>\n",
       "      <td>1.0</td>\n",
       "      <td>0.268293</td>\n",
       "      <td>0.578947</td>\n",
       "      <td>1.0</td>\n",
       "      <td>1.00000</td>\n",
       "      <td>-0.714286</td>\n",
       "      <td>-0.118280</td>\n",
       "      <td>-1.000000</td>\n",
       "      <td>0.129032</td>\n",
       "      <td>0.021506</td>\n",
       "      <td>0.0</td>\n",
       "    </tr>\n",
       "    <tr>\n",
       "      <th>1594328</th>\n",
       "      <td>10289.0</td>\n",
       "      <td>0.419355</td>\n",
       "      <td>1.0</td>\n",
       "      <td>1.0</td>\n",
       "      <td>0.268293</td>\n",
       "      <td>0.578947</td>\n",
       "      <td>1.0</td>\n",
       "      <td>1.00000</td>\n",
       "      <td>-0.657143</td>\n",
       "      <td>-0.118280</td>\n",
       "      <td>-1.000000</td>\n",
       "      <td>0.129032</td>\n",
       "      <td>0.000000</td>\n",
       "      <td>0.0</td>\n",
       "    </tr>\n",
       "  </tbody>\n",
       "</table>\n",
       "</div>"
      ],
      "text/plain": [
       "             SID   SMART_1  SMART_3  SMART_5   SMART_7   SMART_9  SMART_187  \\\n",
       "641737    4399.0  0.451613      1.0      1.0  0.560976  0.052632        1.0   \n",
       "641738    4399.0  0.451613      1.0      1.0  0.560976  0.052632        1.0   \n",
       "641739    4399.0  0.451613      1.0      1.0  0.560976  0.052632        1.0   \n",
       "1594327  10289.0  0.387097      1.0      1.0  0.268293  0.578947        1.0   \n",
       "1594328  10289.0  0.419355      1.0      1.0  0.268293  0.578947        1.0   \n",
       "\n",
       "         SMART_189  SMART_194  SMART_195     RAW_5      cg_1    cg_195  cgr_5  \n",
       "641737     0.69697  -0.428571  -0.118280 -0.999527  0.129032  0.021506    0.0  \n",
       "641738     0.69697  -0.485714  -0.118280 -0.999527  0.096774  0.021506    0.0  \n",
       "641739     0.69697  -0.485714  -0.139785 -0.999527  0.064516  0.021505    0.0  \n",
       "1594327    1.00000  -0.714286  -0.118280 -1.000000  0.129032  0.021506    0.0  \n",
       "1594328    1.00000  -0.657143  -0.118280 -1.000000  0.129032  0.000000    0.0  "
      ]
     },
     "execution_count": 90,
     "metadata": {},
     "output_type": "execute_result"
    }
   ],
   "source": [
    "new_x_test=new_x_test.drop('label',axis=1)\n",
    "new_x_test.head()"
   ]
  },
  {
   "cell_type": "code",
   "execution_count": 91,
   "metadata": {},
   "outputs": [
    {
     "data": {
      "text/plain": [
       "0.96610169491525422"
      ]
     },
     "execution_count": 91,
     "metadata": {},
     "output_type": "execute_result"
    }
   ],
   "source": [
    "new_x_test.index=range(0,len(new_x_test))\n",
    "y_pred=DT.predict(new_x_test.iloc[:,1:])\n",
    "disk_FDR(new_x_test,y_pred,pd.Series(new_y_test))"
   ]
  },
  {
   "cell_type": "code",
   "execution_count": null,
   "metadata": {
    "collapsed": true
   },
   "outputs": [],
   "source": []
  },
  {
   "cell_type": "code",
   "execution_count": 87,
   "metadata": {
    "collapsed": true
   },
   "outputs": [],
   "source": [
    "from sklearn.neural_network import MLPClassifier\n",
    "clf = MLPClassifier(activation='tanh',alpha=0.02, hidden_layer_sizes=(20, 1), max_iter=400, learning_rate_init=0.1)"
   ]
  },
  {
   "cell_type": "code",
   "execution_count": 88,
   "metadata": {},
   "outputs": [
    {
     "data": {
      "text/plain": [
       "MLPClassifier(activation='tanh', alpha=0.02, batch_size='auto', beta_1=0.9,\n",
       "       beta_2=0.999, early_stopping=False, epsilon=1e-08,\n",
       "       hidden_layer_sizes=(20, 1), learning_rate='constant',\n",
       "       learning_rate_init=0.1, max_iter=400, momentum=0.9,\n",
       "       nesterovs_momentum=True, power_t=0.5, random_state=None,\n",
       "       shuffle=True, solver='adam', tol=0.0001, validation_fraction=0.1,\n",
       "       verbose=False, warm_start=False)"
      ]
     },
     "execution_count": 88,
     "metadata": {},
     "output_type": "execute_result"
    }
   ],
   "source": [
    "clf.fit(train_df.iloc[:,1:], y_train)"
   ]
  },
  {
   "cell_type": "code",
   "execution_count": 89,
   "metadata": {
    "collapsed": true
   },
   "outputs": [],
   "source": [
    "def voting(N):\n",
    "    x_test,y_test=get_new_test(N,new_good,new_bad,train_list)\n",
    "    y_test=pd.Series(y_test)\n",
    "    x_test=x_test.drop('label',axis=1)\n",
    "    x_test.index=range(0,len(x_test))\n",
    "    y_predDT=DT.predict(x_test.iloc[:,1:])\n",
    "    FDR1=disk_FDR(x_test,y_predDT,y_test)\n",
    "    FAR1=disk_FAR(x_test,y_predDT,y_test) \n",
    "    y_predNN=clf.predict(x_test.iloc[:,1:])\n",
    "    FDR2=disk_FDR(x_test,y_predNN,y_test) \n",
    "    FAR2=disk_FAR(x_test,y_predNN,y_test) \n",
    "    print(\"vote: %d DT FDR: %f, DT FAR: %f, NN FDR: %f, NN FAR: %f\"% (N, FDR1, FAR1, FDR2, FAR2))"
   ]
  },
  {
   "cell_type": "code",
   "execution_count": 93,
   "metadata": {},
   "outputs": [
    {
     "name": "stdout",
     "output_type": "stream",
     "text": [
      "vote: 1 DT FDR: 0.958333, DT FAR: 0.010016, NN FDR: 0.766667, NN FAR: 0.003339\n",
      "vote: 3 DT FDR: 0.957265, DT FAR: 0.010451, NN FDR: 0.769231, NN FAR: 0.002758\n",
      "vote: 5 DT FDR: 0.958333, DT FAR: 0.011468, NN FDR: 0.766667, NN FAR: 0.002613\n",
      "vote: 7 DT FDR: 0.974138, DT FAR: 0.010306, NN FDR: 0.767241, NN FAR: 0.002903\n",
      "vote: 9 DT FDR: 0.957265, DT FAR: 0.009580, NN FDR: 0.769231, NN FAR: 0.003048\n",
      "vote: 11 DT FDR: 0.964912, DT FAR: 0.008855, NN FDR: 0.745614, NN FAR: 0.002323\n",
      "vote: 15 DT FDR: 0.974576, DT FAR: 0.005661, NN FDR: 0.762712, NN FAR: 0.002613\n",
      "vote: 17 DT FDR: 0.973913, DT FAR: 0.007258, NN FDR: 0.791304, NN FAR: 0.002903\n",
      "vote: 27 DT FDR: 0.975000, DT FAR: 0.008855, NN FDR: 0.750000, NN FAR: 0.003484\n"
     ]
    }
   ],
   "source": [
    "voting(1)\n",
    "voting(3)\n",
    "voting(5)\n",
    "voting(7)\n",
    "voting(9)\n",
    "voting(11)\n",
    "voting(15)\n",
    "voting(17)\n",
    "voting(27)"
   ]
  },
  {
   "cell_type": "code",
   "execution_count": 1,
   "metadata": {},
   "outputs": [
    {
     "name": "stderr",
     "output_type": "stream",
     "text": [
      "No handles with labels found to put in legend.\n"
     ]
    },
    {
     "data": {
      "image/png": "[encoded data removed]",
      "text/plain": [
       "<matplotlib.figure.Figure at 0x112947518>"
      ]
     },
     "metadata": {},
     "output_type": "display_data"
    }
   ],
   "source": [
    "import matplotlib.pyplot as plt\n",
    "x1=[0.010016,0.010451,0.011468,0.010306,0.009580,0.008855,0.005661,0.007258,0.008855]\n",
    "x2=[0.003339,0.002758,0.002613,0.002903,0.003048,0.002323,0.002613,0.002903,0.003484]\n",
    "y1=[0.958333,0.957265,0.958333,0.974138,0.957265,0.964912,0.974576,0.973913,0.975000]\n",
    "y2=[0.766667,0.769231,0.766667,0.767241,0.769231,0.745614,0.762712,0.791304,0.750000]\n",
    "\n",
    "plt.plot(x1, y1, color='blue', marker='o')\n",
    "plt.plot(x2, y2, color='red', marker='o')\n",
    "plt.legend(loc='lower right')\n",
    "plt.show()"
   ]
  },
  {
   "cell_type": "code",
   "execution_count": 4,
   "metadata": {},
   "outputs": [
    {
     "data": {
      "text/plain": [
       "array([6, 7, 5, 8, 4, 0, 3, 1, 2])"
      ]
     },
     "execution_count": 4,
     "metadata": {},
     "output_type": "execute_result"
    }
   ],
   "source": [
    "import numpy as np\n",
    "indices1=np.argsort(np.array(x1))"
   ]
  },
  {
   "cell_type": "code",
   "execution_count": 6,
   "metadata": {},
   "outputs": [
    {
     "data": {
      "text/plain": [
       "array([ 0.974576,  0.973913,  0.964912,  0.975   ,  0.957265,  0.958333,\n",
       "        0.974138,  0.957265,  0.958333])"
      ]
     },
     "execution_count": 6,
     "metadata": {},
     "output_type": "execute_result"
    }
   ],
   "source": [
    "y1=np.array(y1)[indices1]\n",
    "y1"
   ]
  },
  {
   "cell_type": "code",
   "execution_count": 7,
   "metadata": {},
   "outputs": [
    {
     "data": {
      "text/plain": [
       "array([ 0.745614,  0.766667,  0.762712,  0.769231,  0.767241,  0.791304,\n",
       "        0.769231,  0.766667,  0.75    ])"
      ]
     },
     "execution_count": 7,
     "metadata": {},
     "output_type": "execute_result"
    }
   ],
   "source": [
    "indices2=np.argsort(np.array(x2))\n",
    "y2=np.array(y2)[indices2]\n",
    "y2"
   ]
  },
  {
   "cell_type": "code",
   "execution_count": 9,
   "metadata": {
    "collapsed": true
   },
   "outputs": [],
   "source": [
    "x1=np.sort(np.array(x1))\n",
    "x2=np.sort(np.array(x2))"
   ]
  },
  {
   "cell_type": "code",
   "execution_count": 11,
   "metadata": {},
   "outputs": [
    {
     "data": {
      "image/png": "[encoded data removed]",
      "text/plain": [
       "<matplotlib.figure.Figure at 0x1200486a0>"
      ]
     },
     "metadata": {},
     "output_type": "display_data"
    }
   ],
   "source": [
    "plt.plot(x1, y1, color='blue', marker='o',label='Decision tree')\n",
    "plt.plot(x2, y2, color='red', marker='o',label='Neural network')\n",
    "plt.xlabel('False alarm rate (%)')\n",
    "plt.ylabel('Detection rate (%)')\n",
    "plt.legend(loc='lower right')\n",
    "plt.show()"
   ]
  },
  {
   "cell_type": "code",
   "execution_count": 107,
   "metadata": {
    "collapsed": true
   },
   "outputs": [],
   "source": [
    "def TIA(classifier):\n",
    "    groups=new_bad.groupby('SID')\n",
    "    stat=[]\n",
    "    for name in fail_list:\n",
    "        if name not in train_list:\n",
    "            grp=groups.get_group(name)\n",
    "            grp=grp.drop(dropcols,axis=1)\n",
    "            pred=classifier.predict(grp.iloc[:,2:])\n",
    "            tia=0\n",
    "            for ind in range(0,len(pred)):\n",
    "                if pred[ind]==1:\n",
    "                    tia=len(pred)-ind\n",
    "                    break\n",
    "            stat.append(tia)\n",
    "    return stat    "
   ]
  },
  {
   "cell_type": "code",
   "execution_count": 108,
   "metadata": {
    "collapsed": true
   },
   "outputs": [],
   "source": [
    "DTstat=TIA(DT)"
   ]
  },
  {
   "cell_type": "code",
   "execution_count": 132,
   "metadata": {},
   "outputs": [
    {
     "data": {
      "text/plain": [
       "<matplotlib.axes._subplots.AxesSubplot at 0x11adf1c18>"
      ]
     },
     "execution_count": 132,
     "metadata": {},
     "output_type": "execute_result"
    },
    {
     "data": {
      "image/png": "[encoded data removed]",
      "text/plain": [
       "<matplotlib.figure.Figure at 0x11704f940>"
      ]
     },
     "metadata": {},
     "output_type": "display_data"
    }
   ],
   "source": [
    "import matplotlib.pyplot as plt\n",
    "%matplotlib inline\n",
    "pd.Series(DTstat).hist(bins=5,rwidth=0.5)"
   ]
  },
  {
   "cell_type": "code",
   "execution_count": 133,
   "metadata": {},
   "outputs": [
    {
     "data": {
      "text/plain": [
       "<matplotlib.axes._subplots.AxesSubplot at 0x11aecd588>"
      ]
     },
     "execution_count": 133,
     "metadata": {},
     "output_type": "execute_result"
    },
    {
     "data": {
      "image/png": "[encoded data removed]",
      "text/plain": [
       "<matplotlib.figure.Figure at 0x11acf7978>"
      ]
     },
     "metadata": {},
     "output_type": "display_data"
    }
   ],
   "source": [
    "NNstat=TIA(clf)\n",
    "pd.Series(NNstat).hist(bins=5,rwidth=0.5)"
   ]
  },
  {
   "cell_type": "code",
   "execution_count": 12,
   "metadata": {},
   "outputs": [
    {
     "data": {
      "text/html": [
       "<div>\n",
       "<style scoped>\n",
       "    .dataframe tbody tr th:only-of-type {\n",
       "        vertical-align: middle;\n",
       "    }\n",
       "\n",
       "    .dataframe tbody tr th {\n",
       "        vertical-align: top;\n",
       "    }\n",
       "\n",
       "    .dataframe thead th {\n",
       "        text-align: right;\n",
       "    }\n",
       "</style>\n",
       "<table border=\"1\" class=\"dataframe\">\n",
       "  <thead>\n",
       "    <tr style=\"text-align: right;\">\n",
       "      <th></th>\n",
       "      <th>SID</th>\n",
       "      <th>SMART_1</th>\n",
       "      <th>SMART_3</th>\n",
       "      <th>SMART_5</th>\n",
       "      <th>SMART_7</th>\n",
       "      <th>SMART_9</th>\n",
       "      <th>SMART_187</th>\n",
       "      <th>SMART_189</th>\n",
       "      <th>SMART_194</th>\n",
       "      <th>SMART_195</th>\n",
       "      <th>RAW_5</th>\n",
       "      <th>cg_1</th>\n",
       "      <th>cg_195</th>\n",
       "      <th>cgr_5</th>\n",
       "    </tr>\n",
       "  </thead>\n",
       "  <tbody>\n",
       "    <tr>\n",
       "      <th>0</th>\n",
       "      <td>11868.0</td>\n",
       "      <td>0.258065</td>\n",
       "      <td>0.555556</td>\n",
       "      <td>1.0</td>\n",
       "      <td>0.390244</td>\n",
       "      <td>0.578947</td>\n",
       "      <td>1.00000</td>\n",
       "      <td>1.000000</td>\n",
       "      <td>-0.600000</td>\n",
       "      <td>-0.075269</td>\n",
       "      <td>-1.000000</td>\n",
       "      <td>0.129032</td>\n",
       "      <td>0.043011</td>\n",
       "      <td>0.0</td>\n",
       "    </tr>\n",
       "    <tr>\n",
       "      <th>1</th>\n",
       "      <td>6988.0</td>\n",
       "      <td>0.387097</td>\n",
       "      <td>1.000000</td>\n",
       "      <td>1.0</td>\n",
       "      <td>0.512195</td>\n",
       "      <td>0.157895</td>\n",
       "      <td>1.00000</td>\n",
       "      <td>1.000000</td>\n",
       "      <td>-0.257143</td>\n",
       "      <td>-0.032258</td>\n",
       "      <td>-0.999527</td>\n",
       "      <td>0.258065</td>\n",
       "      <td>0.021505</td>\n",
       "      <td>0.0</td>\n",
       "    </tr>\n",
       "    <tr>\n",
       "      <th>2</th>\n",
       "      <td>21300.0</td>\n",
       "      <td>0.419355</td>\n",
       "      <td>0.777778</td>\n",
       "      <td>1.0</td>\n",
       "      <td>0.317073</td>\n",
       "      <td>0.789474</td>\n",
       "      <td>1.00000</td>\n",
       "      <td>0.636364</td>\n",
       "      <td>-0.428571</td>\n",
       "      <td>-0.010753</td>\n",
       "      <td>-1.000000</td>\n",
       "      <td>0.129032</td>\n",
       "      <td>0.021506</td>\n",
       "      <td>0.0</td>\n",
       "    </tr>\n",
       "    <tr>\n",
       "      <th>3</th>\n",
       "      <td>307.0</td>\n",
       "      <td>0.193548</td>\n",
       "      <td>0.555556</td>\n",
       "      <td>1.0</td>\n",
       "      <td>0.560976</td>\n",
       "      <td>-0.052632</td>\n",
       "      <td>0.79798</td>\n",
       "      <td>0.939394</td>\n",
       "      <td>-0.828571</td>\n",
       "      <td>-0.053763</td>\n",
       "      <td>-0.991021</td>\n",
       "      <td>0.129033</td>\n",
       "      <td>0.000000</td>\n",
       "      <td>0.0</td>\n",
       "    </tr>\n",
       "    <tr>\n",
       "      <th>4</th>\n",
       "      <td>15293.0</td>\n",
       "      <td>0.290323</td>\n",
       "      <td>0.555556</td>\n",
       "      <td>1.0</td>\n",
       "      <td>0.414634</td>\n",
       "      <td>0.578947</td>\n",
       "      <td>1.00000</td>\n",
       "      <td>1.000000</td>\n",
       "      <td>-0.542857</td>\n",
       "      <td>-0.053763</td>\n",
       "      <td>-1.000000</td>\n",
       "      <td>0.129032</td>\n",
       "      <td>0.000000</td>\n",
       "      <td>0.0</td>\n",
       "    </tr>\n",
       "  </tbody>\n",
       "</table>\n",
       "</div>"
      ],
      "text/plain": [
       "       SID   SMART_1   SMART_3  SMART_5   SMART_7   SMART_9  SMART_187  \\\n",
       "0  11868.0  0.258065  0.555556      1.0  0.390244  0.578947    1.00000   \n",
       "1   6988.0  0.387097  1.000000      1.0  0.512195  0.157895    1.00000   \n",
       "2  21300.0  0.419355  0.777778      1.0  0.317073  0.789474    1.00000   \n",
       "3    307.0  0.193548  0.555556      1.0  0.560976 -0.052632    0.79798   \n",
       "4  15293.0  0.290323  0.555556      1.0  0.414634  0.578947    1.00000   \n",
       "\n",
       "   SMART_189  SMART_194  SMART_195     RAW_5      cg_1    cg_195  cgr_5  \n",
       "0   1.000000  -0.600000  -0.075269 -1.000000  0.129032  0.043011    0.0  \n",
       "1   1.000000  -0.257143  -0.032258 -0.999527  0.258065  0.021505    0.0  \n",
       "2   0.636364  -0.428571  -0.010753 -1.000000  0.129032  0.021506    0.0  \n",
       "3   0.939394  -0.828571  -0.053763 -0.991021  0.129033  0.000000    0.0  \n",
       "4   1.000000  -0.542857  -0.053763 -1.000000  0.129032  0.000000    0.0  "
      ]
     },
     "execution_count": 12,
     "metadata": {},
     "output_type": "execute_result"
    }
   ],
   "source": [
    "train_df.head()"
   ]
  },
  {
   "cell_type": "code",
   "execution_count": 35,
   "metadata": {
    "collapsed": true
   },
   "outputs": [],
   "source": [
    "new_x_test,new_y_test=get_new_test(11,new_good,new_bad,train_list)"
   ]
  },
  {
   "cell_type": "code",
   "execution_count": 36,
   "metadata": {
    "collapsed": true
   },
   "outputs": [],
   "source": [
    "new_x_test=new_x_test.drop('label',axis=1)"
   ]
  },
  {
   "cell_type": "code",
   "execution_count": 37,
   "metadata": {},
   "outputs": [
    {
     "data": {
      "text/html": [
       "<div>\n",
       "<style scoped>\n",
       "    .dataframe tbody tr th:only-of-type {\n",
       "        vertical-align: middle;\n",
       "    }\n",
       "\n",
       "    .dataframe tbody tr th {\n",
       "        vertical-align: top;\n",
       "    }\n",
       "\n",
       "    .dataframe thead th {\n",
       "        text-align: right;\n",
       "    }\n",
       "</style>\n",
       "<table border=\"1\" class=\"dataframe\">\n",
       "  <thead>\n",
       "    <tr style=\"text-align: right;\">\n",
       "      <th></th>\n",
       "      <th>SID</th>\n",
       "      <th>SMART_1</th>\n",
       "      <th>SMART_3</th>\n",
       "      <th>SMART_5</th>\n",
       "      <th>SMART_7</th>\n",
       "      <th>SMART_9</th>\n",
       "      <th>SMART_187</th>\n",
       "      <th>SMART_189</th>\n",
       "      <th>SMART_194</th>\n",
       "      <th>SMART_195</th>\n",
       "      <th>RAW_5</th>\n",
       "      <th>cg_1</th>\n",
       "      <th>cg_195</th>\n",
       "      <th>cgr_5</th>\n",
       "    </tr>\n",
       "  </thead>\n",
       "  <tbody>\n",
       "    <tr>\n",
       "      <th>839819</th>\n",
       "      <td>5622.0</td>\n",
       "      <td>0.354839</td>\n",
       "      <td>1.0</td>\n",
       "      <td>1.0</td>\n",
       "      <td>0.536585</td>\n",
       "      <td>0.052632</td>\n",
       "      <td>1.0</td>\n",
       "      <td>1.0</td>\n",
       "      <td>-0.257143</td>\n",
       "      <td>-0.204301</td>\n",
       "      <td>-0.998582</td>\n",
       "      <td>0.064516</td>\n",
       "      <td>0.064516</td>\n",
       "      <td>0.0</td>\n",
       "    </tr>\n",
       "    <tr>\n",
       "      <th>839820</th>\n",
       "      <td>5622.0</td>\n",
       "      <td>0.387097</td>\n",
       "      <td>1.0</td>\n",
       "      <td>1.0</td>\n",
       "      <td>0.536585</td>\n",
       "      <td>0.052632</td>\n",
       "      <td>1.0</td>\n",
       "      <td>1.0</td>\n",
       "      <td>-0.200000</td>\n",
       "      <td>-0.182796</td>\n",
       "      <td>-0.998582</td>\n",
       "      <td>0.064516</td>\n",
       "      <td>0.043011</td>\n",
       "      <td>0.0</td>\n",
       "    </tr>\n",
       "    <tr>\n",
       "      <th>839821</th>\n",
       "      <td>5622.0</td>\n",
       "      <td>0.387097</td>\n",
       "      <td>1.0</td>\n",
       "      <td>1.0</td>\n",
       "      <td>0.536585</td>\n",
       "      <td>0.052632</td>\n",
       "      <td>1.0</td>\n",
       "      <td>1.0</td>\n",
       "      <td>-0.200000</td>\n",
       "      <td>-0.204301</td>\n",
       "      <td>-0.998582</td>\n",
       "      <td>0.387097</td>\n",
       "      <td>0.043011</td>\n",
       "      <td>0.0</td>\n",
       "    </tr>\n",
       "    <tr>\n",
       "      <th>839822</th>\n",
       "      <td>5622.0</td>\n",
       "      <td>0.419355</td>\n",
       "      <td>1.0</td>\n",
       "      <td>1.0</td>\n",
       "      <td>0.536585</td>\n",
       "      <td>0.052632</td>\n",
       "      <td>1.0</td>\n",
       "      <td>1.0</td>\n",
       "      <td>-0.200000</td>\n",
       "      <td>-0.204301</td>\n",
       "      <td>-0.998582</td>\n",
       "      <td>0.258065</td>\n",
       "      <td>0.021505</td>\n",
       "      <td>0.0</td>\n",
       "    </tr>\n",
       "    <tr>\n",
       "      <th>839823</th>\n",
       "      <td>5622.0</td>\n",
       "      <td>0.451613</td>\n",
       "      <td>1.0</td>\n",
       "      <td>1.0</td>\n",
       "      <td>0.536585</td>\n",
       "      <td>0.052632</td>\n",
       "      <td>1.0</td>\n",
       "      <td>1.0</td>\n",
       "      <td>-0.314286</td>\n",
       "      <td>-0.204301</td>\n",
       "      <td>-0.998582</td>\n",
       "      <td>0.225807</td>\n",
       "      <td>0.021505</td>\n",
       "      <td>0.0</td>\n",
       "    </tr>\n",
       "  </tbody>\n",
       "</table>\n",
       "</div>"
      ],
      "text/plain": [
       "           SID   SMART_1  SMART_3  SMART_5   SMART_7   SMART_9  SMART_187  \\\n",
       "839819  5622.0  0.354839      1.0      1.0  0.536585  0.052632        1.0   \n",
       "839820  5622.0  0.387097      1.0      1.0  0.536585  0.052632        1.0   \n",
       "839821  5622.0  0.387097      1.0      1.0  0.536585  0.052632        1.0   \n",
       "839822  5622.0  0.419355      1.0      1.0  0.536585  0.052632        1.0   \n",
       "839823  5622.0  0.451613      1.0      1.0  0.536585  0.052632        1.0   \n",
       "\n",
       "        SMART_189  SMART_194  SMART_195     RAW_5      cg_1    cg_195  cgr_5  \n",
       "839819        1.0  -0.257143  -0.204301 -0.998582  0.064516  0.064516    0.0  \n",
       "839820        1.0  -0.200000  -0.182796 -0.998582  0.064516  0.043011    0.0  \n",
       "839821        1.0  -0.200000  -0.204301 -0.998582  0.387097  0.043011    0.0  \n",
       "839822        1.0  -0.200000  -0.204301 -0.998582  0.258065  0.021505    0.0  \n",
       "839823        1.0  -0.314286  -0.204301 -0.998582  0.225807  0.021505    0.0  "
      ]
     },
     "execution_count": 37,
     "metadata": {},
     "output_type": "execute_result"
    }
   ],
   "source": [
    "new_x_test.head()"
   ]
  },
  {
   "cell_type": "code",
   "execution_count": 38,
   "metadata": {
    "collapsed": true
   },
   "outputs": [],
   "source": [
    "def smaller_set(trainset, y_train, good_list, bad_list, fraction):\n",
    "    trainset['label']=np.array(y_train)\n",
    "    small_good=list(pd.Series(good_list).sample(frac=fraction))\n",
    "    s1=set(bad_list)\n",
    "    s2=set(trainset['SID'])\n",
    "    small=list(s1 & s2)\n",
    "    small_bad=list(pd.Series(small).sample(frac=fraction))\n",
    "    small_names=np.array(small_good+small_bad)\n",
    "    new_set=trainset[trainset['SID'].isin(small_names)]\n",
    "    label=new_set['label']\n",
    "    new_set=new_set.drop('label',axis=1)\n",
    "    new_set.index=range(0,len(new_set))\n",
    "    return new_set,np.array(label)"
   ]
  },
  {
   "cell_type": "code",
   "execution_count": 28,
   "metadata": {
    "collapsed": true
   },
   "outputs": [],
   "source": [
    "train_A,label=smaller_set(train_df, y_train, good_list, bad_list, 0.1)"
   ]
  },
  {
   "cell_type": "code",
   "execution_count": 29,
   "metadata": {},
   "outputs": [
    {
     "data": {
      "text/html": [
       "<div>\n",
       "<style scoped>\n",
       "    .dataframe tbody tr th:only-of-type {\n",
       "        vertical-align: middle;\n",
       "    }\n",
       "\n",
       "    .dataframe tbody tr th {\n",
       "        vertical-align: top;\n",
       "    }\n",
       "\n",
       "    .dataframe thead th {\n",
       "        text-align: right;\n",
       "    }\n",
       "</style>\n",
       "<table border=\"1\" class=\"dataframe\">\n",
       "  <thead>\n",
       "    <tr style=\"text-align: right;\">\n",
       "      <th></th>\n",
       "      <th>SID</th>\n",
       "      <th>SMART_1</th>\n",
       "      <th>SMART_3</th>\n",
       "      <th>SMART_5</th>\n",
       "      <th>SMART_7</th>\n",
       "      <th>SMART_9</th>\n",
       "      <th>SMART_187</th>\n",
       "      <th>SMART_189</th>\n",
       "      <th>SMART_194</th>\n",
       "      <th>SMART_195</th>\n",
       "      <th>RAW_5</th>\n",
       "      <th>cg_1</th>\n",
       "      <th>cg_195</th>\n",
       "      <th>cgr_5</th>\n",
       "    </tr>\n",
       "  </thead>\n",
       "  <tbody>\n",
       "    <tr>\n",
       "      <th>0</th>\n",
       "      <td>3913.0</td>\n",
       "      <td>0.419355</td>\n",
       "      <td>1.000000</td>\n",
       "      <td>1.0</td>\n",
       "      <td>0.560976</td>\n",
       "      <td>0.052632</td>\n",
       "      <td>1.0</td>\n",
       "      <td>0.898990</td>\n",
       "      <td>-0.657143</td>\n",
       "      <td>-0.161290</td>\n",
       "      <td>-1.000000</td>\n",
       "      <td>0.064516</td>\n",
       "      <td>0.086021</td>\n",
       "      <td>0.0</td>\n",
       "    </tr>\n",
       "    <tr>\n",
       "      <th>1</th>\n",
       "      <td>12711.0</td>\n",
       "      <td>0.419355</td>\n",
       "      <td>0.555556</td>\n",
       "      <td>1.0</td>\n",
       "      <td>0.439024</td>\n",
       "      <td>0.578947</td>\n",
       "      <td>1.0</td>\n",
       "      <td>0.979798</td>\n",
       "      <td>-0.600000</td>\n",
       "      <td>-0.010753</td>\n",
       "      <td>-0.999527</td>\n",
       "      <td>0.032258</td>\n",
       "      <td>0.021505</td>\n",
       "      <td>0.0</td>\n",
       "    </tr>\n",
       "    <tr>\n",
       "      <th>2</th>\n",
       "      <td>21185.0</td>\n",
       "      <td>0.258065</td>\n",
       "      <td>-0.037037</td>\n",
       "      <td>1.0</td>\n",
       "      <td>0.292683</td>\n",
       "      <td>0.789474</td>\n",
       "      <td>1.0</td>\n",
       "      <td>0.919192</td>\n",
       "      <td>-0.485714</td>\n",
       "      <td>-0.010753</td>\n",
       "      <td>-1.000000</td>\n",
       "      <td>0.161290</td>\n",
       "      <td>0.021505</td>\n",
       "      <td>0.0</td>\n",
       "    </tr>\n",
       "    <tr>\n",
       "      <th>3</th>\n",
       "      <td>6110.0</td>\n",
       "      <td>0.193548</td>\n",
       "      <td>1.000000</td>\n",
       "      <td>1.0</td>\n",
       "      <td>0.512195</td>\n",
       "      <td>0.157895</td>\n",
       "      <td>1.0</td>\n",
       "      <td>0.777778</td>\n",
       "      <td>-0.600000</td>\n",
       "      <td>-0.161290</td>\n",
       "      <td>-0.986767</td>\n",
       "      <td>0.225807</td>\n",
       "      <td>0.000000</td>\n",
       "      <td>0.0</td>\n",
       "    </tr>\n",
       "    <tr>\n",
       "      <th>4</th>\n",
       "      <td>13272.0</td>\n",
       "      <td>0.387097</td>\n",
       "      <td>0.555556</td>\n",
       "      <td>1.0</td>\n",
       "      <td>0.414634</td>\n",
       "      <td>0.578947</td>\n",
       "      <td>1.0</td>\n",
       "      <td>0.959596</td>\n",
       "      <td>-0.600000</td>\n",
       "      <td>-0.247312</td>\n",
       "      <td>-1.000000</td>\n",
       "      <td>0.193549</td>\n",
       "      <td>0.000000</td>\n",
       "      <td>0.0</td>\n",
       "    </tr>\n",
       "  </tbody>\n",
       "</table>\n",
       "</div>"
      ],
      "text/plain": [
       "       SID   SMART_1   SMART_3  SMART_5   SMART_7   SMART_9  SMART_187  \\\n",
       "0   3913.0  0.419355  1.000000      1.0  0.560976  0.052632        1.0   \n",
       "1  12711.0  0.419355  0.555556      1.0  0.439024  0.578947        1.0   \n",
       "2  21185.0  0.258065 -0.037037      1.0  0.292683  0.789474        1.0   \n",
       "3   6110.0  0.193548  1.000000      1.0  0.512195  0.157895        1.0   \n",
       "4  13272.0  0.387097  0.555556      1.0  0.414634  0.578947        1.0   \n",
       "\n",
       "   SMART_189  SMART_194  SMART_195     RAW_5      cg_1    cg_195  cgr_5  \n",
       "0   0.898990  -0.657143  -0.161290 -1.000000  0.064516  0.086021    0.0  \n",
       "1   0.979798  -0.600000  -0.010753 -0.999527  0.032258  0.021505    0.0  \n",
       "2   0.919192  -0.485714  -0.010753 -1.000000  0.161290  0.021505    0.0  \n",
       "3   0.777778  -0.600000  -0.161290 -0.986767  0.225807  0.000000    0.0  \n",
       "4   0.959596  -0.600000  -0.247312 -1.000000  0.193549  0.000000    0.0  "
      ]
     },
     "execution_count": 29,
     "metadata": {},
     "output_type": "execute_result"
    }
   ],
   "source": [
    "train_A.head()"
   ]
  },
  {
   "cell_type": "code",
   "execution_count": 30,
   "metadata": {},
   "outputs": [
    {
     "data": {
      "text/plain": [
       "7248"
      ]
     },
     "execution_count": 30,
     "metadata": {},
     "output_type": "execute_result"
    }
   ],
   "source": [
    "len(train_A)"
   ]
  },
  {
   "cell_type": "code",
   "execution_count": 31,
   "metadata": {
    "collapsed": true
   },
   "outputs": [],
   "source": [
    "from sklearn.tree import DecisionTreeClassifier\n",
    "DT=DecisionTreeClassifier(criterion='entropy',min_samples_split = 20, min_samples_leaf = 7, min_impurity_decrease = 0.001,class_weight={0:1,1:10})"
   ]
  },
  {
   "cell_type": "code",
   "execution_count": 32,
   "metadata": {},
   "outputs": [
    {
     "data": {
      "text/plain": [
       "array([0, 0, 0, ..., 1, 1, 1])"
      ]
     },
     "execution_count": 32,
     "metadata": {},
     "output_type": "execute_result"
    }
   ],
   "source": [
    "new_y_test"
   ]
  },
  {
   "cell_type": "code",
   "execution_count": 33,
   "metadata": {},
   "outputs": [
    {
     "data": {
      "text/html": [
       "<div>\n",
       "<style scoped>\n",
       "    .dataframe tbody tr th:only-of-type {\n",
       "        vertical-align: middle;\n",
       "    }\n",
       "\n",
       "    .dataframe tbody tr th {\n",
       "        vertical-align: top;\n",
       "    }\n",
       "\n",
       "    .dataframe thead th {\n",
       "        text-align: right;\n",
       "    }\n",
       "</style>\n",
       "<table border=\"1\" class=\"dataframe\">\n",
       "  <thead>\n",
       "    <tr style=\"text-align: right;\">\n",
       "      <th></th>\n",
       "      <th>SID</th>\n",
       "      <th>SMART_1</th>\n",
       "      <th>SMART_3</th>\n",
       "      <th>SMART_5</th>\n",
       "      <th>SMART_7</th>\n",
       "      <th>SMART_9</th>\n",
       "      <th>SMART_187</th>\n",
       "      <th>SMART_189</th>\n",
       "      <th>SMART_194</th>\n",
       "      <th>SMART_195</th>\n",
       "      <th>RAW_5</th>\n",
       "      <th>cg_1</th>\n",
       "      <th>cg_195</th>\n",
       "      <th>cgr_5</th>\n",
       "    </tr>\n",
       "  </thead>\n",
       "  <tbody>\n",
       "    <tr>\n",
       "      <th>0</th>\n",
       "      <td>20550.0</td>\n",
       "      <td>0.419355</td>\n",
       "      <td>0.259259</td>\n",
       "      <td>1.0</td>\n",
       "      <td>0.390244</td>\n",
       "      <td>0.789474</td>\n",
       "      <td>1.0</td>\n",
       "      <td>1.0</td>\n",
       "      <td>-0.428571</td>\n",
       "      <td>-0.032258</td>\n",
       "      <td>-1.0</td>\n",
       "      <td>0.129032</td>\n",
       "      <td>0.043011</td>\n",
       "      <td>0.0</td>\n",
       "    </tr>\n",
       "    <tr>\n",
       "      <th>1</th>\n",
       "      <td>20550.0</td>\n",
       "      <td>0.451613</td>\n",
       "      <td>0.259259</td>\n",
       "      <td>1.0</td>\n",
       "      <td>0.390244</td>\n",
       "      <td>0.789474</td>\n",
       "      <td>1.0</td>\n",
       "      <td>1.0</td>\n",
       "      <td>-0.542857</td>\n",
       "      <td>-0.010753</td>\n",
       "      <td>-1.0</td>\n",
       "      <td>0.161290</td>\n",
       "      <td>0.021505</td>\n",
       "      <td>0.0</td>\n",
       "    </tr>\n",
       "    <tr>\n",
       "      <th>2</th>\n",
       "      <td>20550.0</td>\n",
       "      <td>0.161290</td>\n",
       "      <td>0.259259</td>\n",
       "      <td>1.0</td>\n",
       "      <td>0.390244</td>\n",
       "      <td>0.789474</td>\n",
       "      <td>1.0</td>\n",
       "      <td>1.0</td>\n",
       "      <td>-0.542857</td>\n",
       "      <td>-0.010753</td>\n",
       "      <td>-1.0</td>\n",
       "      <td>0.193549</td>\n",
       "      <td>0.000000</td>\n",
       "      <td>0.0</td>\n",
       "    </tr>\n",
       "    <tr>\n",
       "      <th>3</th>\n",
       "      <td>20550.0</td>\n",
       "      <td>0.258065</td>\n",
       "      <td>0.259259</td>\n",
       "      <td>1.0</td>\n",
       "      <td>0.390244</td>\n",
       "      <td>0.789474</td>\n",
       "      <td>1.0</td>\n",
       "      <td>1.0</td>\n",
       "      <td>-0.542857</td>\n",
       "      <td>-0.010753</td>\n",
       "      <td>-1.0</td>\n",
       "      <td>0.129032</td>\n",
       "      <td>0.000000</td>\n",
       "      <td>0.0</td>\n",
       "    </tr>\n",
       "    <tr>\n",
       "      <th>4</th>\n",
       "      <td>20550.0</td>\n",
       "      <td>0.290323</td>\n",
       "      <td>0.259259</td>\n",
       "      <td>1.0</td>\n",
       "      <td>0.390244</td>\n",
       "      <td>0.789474</td>\n",
       "      <td>1.0</td>\n",
       "      <td>1.0</td>\n",
       "      <td>-0.542857</td>\n",
       "      <td>-0.032258</td>\n",
       "      <td>-1.0</td>\n",
       "      <td>0.096774</td>\n",
       "      <td>0.021505</td>\n",
       "      <td>0.0</td>\n",
       "    </tr>\n",
       "  </tbody>\n",
       "</table>\n",
       "</div>"
      ],
      "text/plain": [
       "       SID   SMART_1   SMART_3  SMART_5   SMART_7   SMART_9  SMART_187  \\\n",
       "0  20550.0  0.419355  0.259259      1.0  0.390244  0.789474        1.0   \n",
       "1  20550.0  0.451613  0.259259      1.0  0.390244  0.789474        1.0   \n",
       "2  20550.0  0.161290  0.259259      1.0  0.390244  0.789474        1.0   \n",
       "3  20550.0  0.258065  0.259259      1.0  0.390244  0.789474        1.0   \n",
       "4  20550.0  0.290323  0.259259      1.0  0.390244  0.789474        1.0   \n",
       "\n",
       "   SMART_189  SMART_194  SMART_195  RAW_5      cg_1    cg_195  cgr_5  \n",
       "0        1.0  -0.428571  -0.032258   -1.0  0.129032  0.043011    0.0  \n",
       "1        1.0  -0.542857  -0.010753   -1.0  0.161290  0.021505    0.0  \n",
       "2        1.0  -0.542857  -0.010753   -1.0  0.193549  0.000000    0.0  \n",
       "3        1.0  -0.542857  -0.010753   -1.0  0.129032  0.000000    0.0  \n",
       "4        1.0  -0.542857  -0.032258   -1.0  0.096774  0.021505    0.0  "
      ]
     },
     "execution_count": 33,
     "metadata": {},
     "output_type": "execute_result"
    }
   ],
   "source": [
    "new_x_test.index=range(0,len(new_x_test))\n",
    "new_x_test.head()"
   ]
  },
  {
   "cell_type": "code",
   "execution_count": 34,
   "metadata": {},
   "outputs": [
    {
     "data": {
      "text/plain": [
       "DecisionTreeClassifier(class_weight={0: 1, 1: 10}, criterion='entropy',\n",
       "            max_depth=None, max_features=None, max_leaf_nodes=None,\n",
       "            min_impurity_decrease=0.001, min_impurity_split=None,\n",
       "            min_samples_leaf=7, min_samples_split=20,\n",
       "            min_weight_fraction_leaf=0.0, presort=False, random_state=None,\n",
       "            splitter='best')"
      ]
     },
     "execution_count": 34,
     "metadata": {},
     "output_type": "execute_result"
    }
   ],
   "source": [
    "DT.fit(train_A.iloc[:,1:],label)"
   ]
  },
  {
   "cell_type": "code",
   "execution_count": 35,
   "metadata": {
    "collapsed": true
   },
   "outputs": [],
   "source": [
    "y_pred=DT.predict(new_x_test.iloc[:,1:])"
   ]
  },
  {
   "cell_type": "code",
   "execution_count": 36,
   "metadata": {},
   "outputs": [
    {
     "data": {
      "text/plain": [
       "0.81512605042016806"
      ]
     },
     "execution_count": 36,
     "metadata": {},
     "output_type": "execute_result"
    }
   ],
   "source": [
    "disk_FDR(new_x_test,y_pred,pd.Series(new_y_test))"
   ]
  },
  {
   "cell_type": "code",
   "execution_count": 40,
   "metadata": {
    "collapsed": true
   },
   "outputs": [],
   "source": [
    "def diff_set(percent):\n",
    "    train,label=smaller_set(train_df, y_train, good_list, bad_list, percent)\n",
    "    DT.fit(train.iloc[:,1:],label)\n",
    "    y_pred=DT.predict(new_x_test.iloc[:,1:])\n",
    "    fdr=disk_FDR(new_x_test,y_pred,pd.Series(new_y_test))\n",
    "    far=disk_FAR(new_x_test,y_pred,pd.Series(new_y_test))\n",
    "    print('FDR:%f FAR:%f'%(fdr,far))"
   ]
  },
  {
   "cell_type": "code",
   "execution_count": 41,
   "metadata": {},
   "outputs": [
    {
     "name": "stdout",
     "output_type": "stream",
     "text": [
      "FDR:0.840336 FAR:0.008419\n",
      "FDR:0.823529 FAR:0.002903\n",
      "FDR:0.890756 FAR:0.006822\n",
      "FDR:0.915966 FAR:0.006242\n"
     ]
    }
   ],
   "source": [
    "diff_set(0.1)\n",
    "diff_set(0.25)\n",
    "diff_set(0.5)\n",
    "diff_set(0.75)"
   ]
  },
  {
   "cell_type": "code",
   "execution_count": 43,
   "metadata": {
    "collapsed": true
   },
   "outputs": [],
   "source": [
    "from sklearn.neural_network import MLPClassifier\n",
    "clf = MLPClassifier(activation='tanh',alpha=0.03, hidden_layer_sizes=(20, 1), max_iter=400, learning_rate_init=0.1)"
   ]
  },
  {
   "cell_type": "code",
   "execution_count": 44,
   "metadata": {
    "collapsed": true
   },
   "outputs": [],
   "source": [
    "def diff_set2(percent):\n",
    "    train,label=smaller_set(train_df, y_train, good_list, bad_list, percent)\n",
    "    clf.fit(train.iloc[:,1:],label)\n",
    "    y_pred=clf.predict(new_x_test.iloc[:,1:])\n",
    "    fdr=disk_FDR(new_x_test,y_pred,pd.Series(new_y_test))\n",
    "    far=disk_FAR(new_x_test,y_pred,pd.Series(new_y_test))\n",
    "    print('FDR:%f FAR:%f'%(fdr,far))"
   ]
  },
  {
   "cell_type": "code",
   "execution_count": 41,
   "metadata": {
    "collapsed": true
   },
   "outputs": [],
   "source": [
    "new_x_test.index=range(0,len(new_x_test))"
   ]
  },
  {
   "cell_type": "code",
   "execution_count": 45,
   "metadata": {},
   "outputs": [
    {
     "name": "stdout",
     "output_type": "stream",
     "text": [
      "FDR:0.576271 FAR:0.003774\n",
      "FDR:0.762712 FAR:0.002323\n",
      "FDR:0.669492 FAR:0.000145\n",
      "FDR:0.669492 FAR:0.004210\n"
     ]
    }
   ],
   "source": [
    "diff_set2(0.1)\n",
    "diff_set2(0.25)\n",
    "diff_set2(0.5)\n",
    "diff_set2(0.75)"
   ]
  },
  {
   "cell_type": "code",
   "execution_count": null,
   "metadata": {
    "collapsed": true
   },
   "outputs": [],
   "source": []
  }
 ],
 "metadata": {
  "kernelspec": {
   "display_name": "Python 3",
   "language": "python",
   "name": "python3"
  },
  "language_info": {
   "codemirror_mode": {
    "name": "ipython",
    "version": 3
   },
   "file_extension": ".py",
   "mimetype": "text/x-python",
   "name": "python",
   "nbconvert_exporter": "python",
   "pygments_lexer": "ipython3",
   "version": "3.6.3"
  }
 },
 "nbformat": 4,
 "nbformat_minor": 2
}
