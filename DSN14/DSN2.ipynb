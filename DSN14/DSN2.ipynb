{
 "cells": [
  {
   "cell_type": "code",
   "execution_count": 1,
   "metadata": {
    "collapsed": true
   },
   "outputs": [],
   "source": [
    "import pandas as pd\n",
    "import numpy as np"
   ]
  },
  {
   "cell_type": "code",
   "execution_count": 2,
   "metadata": {},
   "outputs": [
    {
     "data": {
      "text/html": [
       "<div>\n",
       "<style scoped>\n",
       "    .dataframe tbody tr th:only-of-type {\n",
       "        vertical-align: middle;\n",
       "    }\n",
       "\n",
       "    .dataframe tbody tr th {\n",
       "        vertical-align: top;\n",
       "    }\n",
       "\n",
       "    .dataframe thead th {\n",
       "        text-align: right;\n",
       "    }\n",
       "</style>\n",
       "<table border=\"1\" class=\"dataframe\">\n",
       "  <thead>\n",
       "    <tr style=\"text-align: right;\">\n",
       "      <th></th>\n",
       "      <th>SID</th>\n",
       "      <th>SMART_1</th>\n",
       "      <th>SMART_3</th>\n",
       "      <th>SMART_5</th>\n",
       "      <th>SMART_7</th>\n",
       "      <th>SMART_9</th>\n",
       "      <th>SMART_187</th>\n",
       "      <th>SMART_189</th>\n",
       "      <th>SMART_194</th>\n",
       "      <th>SMART_195</th>\n",
       "      <th>SMART_197</th>\n",
       "      <th>RAW_5</th>\n",
       "      <th>RAW_197</th>\n",
       "      <th>cg_1</th>\n",
       "      <th>cg_5</th>\n",
       "      <th>cg_187</th>\n",
       "      <th>cg_195</th>\n",
       "      <th>cg_197</th>\n",
       "      <th>cgr_5</th>\n",
       "      <th>cgr_197</th>\n",
       "    </tr>\n",
       "  </thead>\n",
       "  <tbody>\n",
       "    <tr>\n",
       "      <th>0</th>\n",
       "      <td>11868.0</td>\n",
       "      <td>0.258065</td>\n",
       "      <td>0.555556</td>\n",
       "      <td>1.0</td>\n",
       "      <td>0.390244</td>\n",
       "      <td>0.578947</td>\n",
       "      <td>1.00000</td>\n",
       "      <td>1.000000</td>\n",
       "      <td>-0.600000</td>\n",
       "      <td>-0.075269</td>\n",
       "      <td>1.0</td>\n",
       "      <td>-1.000000</td>\n",
       "      <td>-1.000000</td>\n",
       "      <td>0.129032</td>\n",
       "      <td>0.0</td>\n",
       "      <td>0.0</td>\n",
       "      <td>0.043011</td>\n",
       "      <td>0.0</td>\n",
       "      <td>0.0</td>\n",
       "      <td>0.0</td>\n",
       "    </tr>\n",
       "    <tr>\n",
       "      <th>1</th>\n",
       "      <td>6988.0</td>\n",
       "      <td>0.387097</td>\n",
       "      <td>1.000000</td>\n",
       "      <td>1.0</td>\n",
       "      <td>0.512195</td>\n",
       "      <td>0.157895</td>\n",
       "      <td>1.00000</td>\n",
       "      <td>1.000000</td>\n",
       "      <td>-0.257143</td>\n",
       "      <td>-0.032258</td>\n",
       "      <td>1.0</td>\n",
       "      <td>-0.999527</td>\n",
       "      <td>-1.000000</td>\n",
       "      <td>0.258065</td>\n",
       "      <td>0.0</td>\n",
       "      <td>0.0</td>\n",
       "      <td>0.021505</td>\n",
       "      <td>0.0</td>\n",
       "      <td>0.0</td>\n",
       "      <td>0.0</td>\n",
       "    </tr>\n",
       "    <tr>\n",
       "      <th>2</th>\n",
       "      <td>21300.0</td>\n",
       "      <td>0.419355</td>\n",
       "      <td>0.777778</td>\n",
       "      <td>1.0</td>\n",
       "      <td>0.317073</td>\n",
       "      <td>0.789474</td>\n",
       "      <td>1.00000</td>\n",
       "      <td>0.636364</td>\n",
       "      <td>-0.428571</td>\n",
       "      <td>-0.010753</td>\n",
       "      <td>1.0</td>\n",
       "      <td>-1.000000</td>\n",
       "      <td>-1.000000</td>\n",
       "      <td>0.129032</td>\n",
       "      <td>0.0</td>\n",
       "      <td>0.0</td>\n",
       "      <td>0.021506</td>\n",
       "      <td>0.0</td>\n",
       "      <td>0.0</td>\n",
       "      <td>0.0</td>\n",
       "    </tr>\n",
       "    <tr>\n",
       "      <th>3</th>\n",
       "      <td>307.0</td>\n",
       "      <td>0.193548</td>\n",
       "      <td>0.555556</td>\n",
       "      <td>1.0</td>\n",
       "      <td>0.560976</td>\n",
       "      <td>-0.052632</td>\n",
       "      <td>0.79798</td>\n",
       "      <td>0.939394</td>\n",
       "      <td>-0.828571</td>\n",
       "      <td>-0.053763</td>\n",
       "      <td>1.0</td>\n",
       "      <td>-0.991021</td>\n",
       "      <td>-0.997753</td>\n",
       "      <td>0.129033</td>\n",
       "      <td>0.0</td>\n",
       "      <td>0.0</td>\n",
       "      <td>0.000000</td>\n",
       "      <td>0.0</td>\n",
       "      <td>0.0</td>\n",
       "      <td>0.0</td>\n",
       "    </tr>\n",
       "    <tr>\n",
       "      <th>4</th>\n",
       "      <td>15293.0</td>\n",
       "      <td>0.290323</td>\n",
       "      <td>0.555556</td>\n",
       "      <td>1.0</td>\n",
       "      <td>0.414634</td>\n",
       "      <td>0.578947</td>\n",
       "      <td>1.00000</td>\n",
       "      <td>1.000000</td>\n",
       "      <td>-0.542857</td>\n",
       "      <td>-0.053763</td>\n",
       "      <td>1.0</td>\n",
       "      <td>-1.000000</td>\n",
       "      <td>-1.000000</td>\n",
       "      <td>0.129032</td>\n",
       "      <td>0.0</td>\n",
       "      <td>0.0</td>\n",
       "      <td>0.000000</td>\n",
       "      <td>0.0</td>\n",
       "      <td>0.0</td>\n",
       "      <td>0.0</td>\n",
       "    </tr>\n",
       "  </tbody>\n",
       "</table>\n",
       "</div>"
      ],
      "text/plain": [
       "       SID   SMART_1   SMART_3  SMART_5   SMART_7   SMART_9  SMART_187  \\\n",
       "0  11868.0  0.258065  0.555556      1.0  0.390244  0.578947    1.00000   \n",
       "1   6988.0  0.387097  1.000000      1.0  0.512195  0.157895    1.00000   \n",
       "2  21300.0  0.419355  0.777778      1.0  0.317073  0.789474    1.00000   \n",
       "3    307.0  0.193548  0.555556      1.0  0.560976 -0.052632    0.79798   \n",
       "4  15293.0  0.290323  0.555556      1.0  0.414634  0.578947    1.00000   \n",
       "\n",
       "   SMART_189  SMART_194  SMART_195  SMART_197     RAW_5   RAW_197      cg_1  \\\n",
       "0   1.000000  -0.600000  -0.075269        1.0 -1.000000 -1.000000  0.129032   \n",
       "1   1.000000  -0.257143  -0.032258        1.0 -0.999527 -1.000000  0.258065   \n",
       "2   0.636364  -0.428571  -0.010753        1.0 -1.000000 -1.000000  0.129032   \n",
       "3   0.939394  -0.828571  -0.053763        1.0 -0.991021 -0.997753  0.129033   \n",
       "4   1.000000  -0.542857  -0.053763        1.0 -1.000000 -1.000000  0.129032   \n",
       "\n",
       "   cg_5  cg_187    cg_195  cg_197  cgr_5  cgr_197  \n",
       "0   0.0     0.0  0.043011     0.0    0.0      0.0  \n",
       "1   0.0     0.0  0.021505     0.0    0.0      0.0  \n",
       "2   0.0     0.0  0.021506     0.0    0.0      0.0  \n",
       "3   0.0     0.0  0.000000     0.0    0.0      0.0  \n",
       "4   0.0     0.0  0.000000     0.0    0.0      0.0  "
      ]
     },
     "execution_count": 2,
     "metadata": {},
     "output_type": "execute_result"
    }
   ],
   "source": [
    "train_df2=pd.read_csv('/Users/zhilinyang/Desktop/work/train_df2.csv')\n",
    "train_df2=train_df2.iloc[:,1:]\n",
    "train_df2.head()"
   ]
  },
  {
   "cell_type": "code",
   "execution_count": 3,
   "metadata": {},
   "outputs": [
    {
     "data": {
      "text/html": [
       "<div>\n",
       "<style scoped>\n",
       "    .dataframe tbody tr th:only-of-type {\n",
       "        vertical-align: middle;\n",
       "    }\n",
       "\n",
       "    .dataframe tbody tr th {\n",
       "        vertical-align: top;\n",
       "    }\n",
       "\n",
       "    .dataframe thead th {\n",
       "        text-align: right;\n",
       "    }\n",
       "</style>\n",
       "<table border=\"1\" class=\"dataframe\">\n",
       "  <thead>\n",
       "    <tr style=\"text-align: right;\">\n",
       "      <th></th>\n",
       "      <th>SID</th>\n",
       "      <th>SMART_1</th>\n",
       "      <th>SMART_3</th>\n",
       "      <th>SMART_5</th>\n",
       "      <th>SMART_7</th>\n",
       "      <th>SMART_9</th>\n",
       "      <th>SMART_187</th>\n",
       "      <th>SMART_189</th>\n",
       "      <th>SMART_194</th>\n",
       "      <th>SMART_195</th>\n",
       "      <th>SMART_197</th>\n",
       "      <th>RAW_5</th>\n",
       "      <th>RAW_197</th>\n",
       "      <th>cg_1</th>\n",
       "      <th>cg_5</th>\n",
       "      <th>cg_187</th>\n",
       "      <th>cg_195</th>\n",
       "      <th>cg_197</th>\n",
       "      <th>cgr_5</th>\n",
       "      <th>cgr_197</th>\n",
       "    </tr>\n",
       "  </thead>\n",
       "  <tbody>\n",
       "    <tr>\n",
       "      <th>0</th>\n",
       "      <td>4475.0</td>\n",
       "      <td>0.290323</td>\n",
       "      <td>1.000000</td>\n",
       "      <td>1.0</td>\n",
       "      <td>0.536585</td>\n",
       "      <td>0.052632</td>\n",
       "      <td>1.0</td>\n",
       "      <td>1.000000</td>\n",
       "      <td>-0.714286</td>\n",
       "      <td>-0.161290</td>\n",
       "      <td>1.0</td>\n",
       "      <td>-0.997637</td>\n",
       "      <td>-1.0</td>\n",
       "      <td>0.161290</td>\n",
       "      <td>0.0</td>\n",
       "      <td>0.0</td>\n",
       "      <td>0.086021</td>\n",
       "      <td>0.0</td>\n",
       "      <td>0.0</td>\n",
       "      <td>0.0</td>\n",
       "    </tr>\n",
       "    <tr>\n",
       "      <th>1</th>\n",
       "      <td>14671.0</td>\n",
       "      <td>0.387097</td>\n",
       "      <td>0.555556</td>\n",
       "      <td>1.0</td>\n",
       "      <td>0.390244</td>\n",
       "      <td>0.578947</td>\n",
       "      <td>1.0</td>\n",
       "      <td>0.030303</td>\n",
       "      <td>-0.600000</td>\n",
       "      <td>-0.010753</td>\n",
       "      <td>1.0</td>\n",
       "      <td>-1.000000</td>\n",
       "      <td>-1.0</td>\n",
       "      <td>0.032258</td>\n",
       "      <td>0.0</td>\n",
       "      <td>0.0</td>\n",
       "      <td>0.064516</td>\n",
       "      <td>0.0</td>\n",
       "      <td>0.0</td>\n",
       "      <td>0.0</td>\n",
       "    </tr>\n",
       "    <tr>\n",
       "      <th>2</th>\n",
       "      <td>19920.0</td>\n",
       "      <td>0.419355</td>\n",
       "      <td>0.259259</td>\n",
       "      <td>1.0</td>\n",
       "      <td>0.390244</td>\n",
       "      <td>0.789474</td>\n",
       "      <td>1.0</td>\n",
       "      <td>1.000000</td>\n",
       "      <td>-0.485714</td>\n",
       "      <td>-0.032258</td>\n",
       "      <td>1.0</td>\n",
       "      <td>-1.000000</td>\n",
       "      <td>-1.0</td>\n",
       "      <td>0.064516</td>\n",
       "      <td>0.0</td>\n",
       "      <td>0.0</td>\n",
       "      <td>0.021505</td>\n",
       "      <td>0.0</td>\n",
       "      <td>0.0</td>\n",
       "      <td>0.0</td>\n",
       "    </tr>\n",
       "    <tr>\n",
       "      <th>3</th>\n",
       "      <td>2785.0</td>\n",
       "      <td>0.387097</td>\n",
       "      <td>1.000000</td>\n",
       "      <td>1.0</td>\n",
       "      <td>0.560976</td>\n",
       "      <td>0.052632</td>\n",
       "      <td>1.0</td>\n",
       "      <td>1.000000</td>\n",
       "      <td>-0.600000</td>\n",
       "      <td>-0.290323</td>\n",
       "      <td>1.0</td>\n",
       "      <td>-0.997637</td>\n",
       "      <td>-1.0</td>\n",
       "      <td>0.161291</td>\n",
       "      <td>0.0</td>\n",
       "      <td>0.0</td>\n",
       "      <td>0.021505</td>\n",
       "      <td>0.0</td>\n",
       "      <td>0.0</td>\n",
       "      <td>0.0</td>\n",
       "    </tr>\n",
       "    <tr>\n",
       "      <th>4</th>\n",
       "      <td>13665.0</td>\n",
       "      <td>0.387097</td>\n",
       "      <td>0.555556</td>\n",
       "      <td>1.0</td>\n",
       "      <td>0.414634</td>\n",
       "      <td>0.578947</td>\n",
       "      <td>1.0</td>\n",
       "      <td>1.000000</td>\n",
       "      <td>-0.371429</td>\n",
       "      <td>-0.096774</td>\n",
       "      <td>1.0</td>\n",
       "      <td>-1.000000</td>\n",
       "      <td>-1.0</td>\n",
       "      <td>0.193549</td>\n",
       "      <td>0.0</td>\n",
       "      <td>0.0</td>\n",
       "      <td>0.021505</td>\n",
       "      <td>0.0</td>\n",
       "      <td>0.0</td>\n",
       "      <td>0.0</td>\n",
       "    </tr>\n",
       "  </tbody>\n",
       "</table>\n",
       "</div>"
      ],
      "text/plain": [
       "       SID   SMART_1   SMART_3  SMART_5   SMART_7   SMART_9  SMART_187  \\\n",
       "0   4475.0  0.290323  1.000000      1.0  0.536585  0.052632        1.0   \n",
       "1  14671.0  0.387097  0.555556      1.0  0.390244  0.578947        1.0   \n",
       "2  19920.0  0.419355  0.259259      1.0  0.390244  0.789474        1.0   \n",
       "3   2785.0  0.387097  1.000000      1.0  0.560976  0.052632        1.0   \n",
       "4  13665.0  0.387097  0.555556      1.0  0.414634  0.578947        1.0   \n",
       "\n",
       "   SMART_189  SMART_194  SMART_195  SMART_197     RAW_5  RAW_197      cg_1  \\\n",
       "0   1.000000  -0.714286  -0.161290        1.0 -0.997637     -1.0  0.161290   \n",
       "1   0.030303  -0.600000  -0.010753        1.0 -1.000000     -1.0  0.032258   \n",
       "2   1.000000  -0.485714  -0.032258        1.0 -1.000000     -1.0  0.064516   \n",
       "3   1.000000  -0.600000  -0.290323        1.0 -0.997637     -1.0  0.161291   \n",
       "4   1.000000  -0.371429  -0.096774        1.0 -1.000000     -1.0  0.193549   \n",
       "\n",
       "   cg_5  cg_187    cg_195  cg_197  cgr_5  cgr_197  \n",
       "0   0.0     0.0  0.086021     0.0    0.0      0.0  \n",
       "1   0.0     0.0  0.064516     0.0    0.0      0.0  \n",
       "2   0.0     0.0  0.021505     0.0    0.0      0.0  \n",
       "3   0.0     0.0  0.021505     0.0    0.0      0.0  \n",
       "4   0.0     0.0  0.021505     0.0    0.0      0.0  "
      ]
     },
     "execution_count": 3,
     "metadata": {},
     "output_type": "execute_result"
    }
   ],
   "source": [
    "test_df2=pd.read_csv('/Users/zhilinyang/Desktop/work/test_df2.csv')\n",
    "test_df2=test_df2.iloc[:,1:]\n",
    "test_df2.head()"
   ]
  },
  {
   "cell_type": "code",
   "execution_count": 4,
   "metadata": {},
   "outputs": [
    {
     "data": {
      "text/html": [
       "<div>\n",
       "<style scoped>\n",
       "    .dataframe tbody tr th:only-of-type {\n",
       "        vertical-align: middle;\n",
       "    }\n",
       "\n",
       "    .dataframe tbody tr th {\n",
       "        vertical-align: top;\n",
       "    }\n",
       "\n",
       "    .dataframe thead th {\n",
       "        text-align: right;\n",
       "    }\n",
       "</style>\n",
       "<table border=\"1\" class=\"dataframe\">\n",
       "  <thead>\n",
       "    <tr style=\"text-align: right;\">\n",
       "      <th></th>\n",
       "      <th>1</th>\n",
       "    </tr>\n",
       "  </thead>\n",
       "  <tbody>\n",
       "    <tr>\n",
       "      <th>0</th>\n",
       "      <td>0.0</td>\n",
       "    </tr>\n",
       "    <tr>\n",
       "      <th>1</th>\n",
       "      <td>0.0</td>\n",
       "    </tr>\n",
       "    <tr>\n",
       "      <th>2</th>\n",
       "      <td>0.0</td>\n",
       "    </tr>\n",
       "    <tr>\n",
       "      <th>3</th>\n",
       "      <td>1.0</td>\n",
       "    </tr>\n",
       "    <tr>\n",
       "      <th>4</th>\n",
       "      <td>0.0</td>\n",
       "    </tr>\n",
       "  </tbody>\n",
       "</table>\n",
       "</div>"
      ],
      "text/plain": [
       "     1\n",
       "0  0.0\n",
       "1  0.0\n",
       "2  0.0\n",
       "3  1.0\n",
       "4  0.0"
      ]
     },
     "execution_count": 4,
     "metadata": {},
     "output_type": "execute_result"
    }
   ],
   "source": [
    "y_train2=pd.read_csv('/Users/zhilinyang/Desktop/work/y_train2.csv',header=None)\n",
    "y_train2=y_train2.iloc[:,1:]\n",
    "y_train2.head()"
   ]
  },
  {
   "cell_type": "code",
   "execution_count": 5,
   "metadata": {},
   "outputs": [
    {
     "data": {
      "text/html": [
       "<div>\n",
       "<style scoped>\n",
       "    .dataframe tbody tr th:only-of-type {\n",
       "        vertical-align: middle;\n",
       "    }\n",
       "\n",
       "    .dataframe tbody tr th {\n",
       "        vertical-align: top;\n",
       "    }\n",
       "\n",
       "    .dataframe thead th {\n",
       "        text-align: right;\n",
       "    }\n",
       "</style>\n",
       "<table border=\"1\" class=\"dataframe\">\n",
       "  <thead>\n",
       "    <tr style=\"text-align: right;\">\n",
       "      <th></th>\n",
       "      <th>1</th>\n",
       "    </tr>\n",
       "  </thead>\n",
       "  <tbody>\n",
       "    <tr>\n",
       "      <th>0</th>\n",
       "      <td>0.0</td>\n",
       "    </tr>\n",
       "    <tr>\n",
       "      <th>1</th>\n",
       "      <td>0.0</td>\n",
       "    </tr>\n",
       "    <tr>\n",
       "      <th>2</th>\n",
       "      <td>0.0</td>\n",
       "    </tr>\n",
       "    <tr>\n",
       "      <th>3</th>\n",
       "      <td>0.0</td>\n",
       "    </tr>\n",
       "    <tr>\n",
       "      <th>4</th>\n",
       "      <td>0.0</td>\n",
       "    </tr>\n",
       "  </tbody>\n",
       "</table>\n",
       "</div>"
      ],
      "text/plain": [
       "     1\n",
       "0  0.0\n",
       "1  0.0\n",
       "2  0.0\n",
       "3  0.0\n",
       "4  0.0"
      ]
     },
     "execution_count": 5,
     "metadata": {},
     "output_type": "execute_result"
    }
   ],
   "source": [
    "y_test2=pd.read_csv('/Users/zhilinyang/Desktop/work/y_test2.csv',header=None)\n",
    "y_test2=y_test2.iloc[:,1:]\n",
    "y_test2.head()"
   ]
  },
  {
   "cell_type": "code",
   "execution_count": 19,
   "metadata": {
    "collapsed": true
   },
   "outputs": [],
   "source": [
    "from sklearn.tree import DecisionTreeClassifier\n",
    "DT=DecisionTreeClassifier(criterion='entropy',min_samples_split = 20, min_samples_leaf = 7, min_impurity_decrease = 0.001,class_weight={0:1,1:2})"
   ]
  },
  {
   "cell_type": "code",
   "execution_count": 20,
   "metadata": {},
   "outputs": [
    {
     "data": {
      "text/plain": [
       "DecisionTreeClassifier(class_weight={0: 1, 1: 2}, criterion='entropy',\n",
       "            max_depth=None, max_features=None, max_leaf_nodes=None,\n",
       "            min_impurity_decrease=0.001, min_impurity_split=None,\n",
       "            min_samples_leaf=7, min_samples_split=20,\n",
       "            min_weight_fraction_leaf=0.0, presort=False, random_state=None,\n",
       "            splitter='best')"
      ]
     },
     "execution_count": 20,
     "metadata": {},
     "output_type": "execute_result"
    }
   ],
   "source": [
    "DT.fit(train_df2.iloc[:,1:],y_train2.values)"
   ]
  },
  {
   "cell_type": "code",
   "execution_count": 21,
   "metadata": {
    "collapsed": true
   },
   "outputs": [],
   "source": [
    "y_pred2=DT.predict(test_df2.iloc[:,1:])"
   ]
  },
  {
   "cell_type": "code",
   "execution_count": 22,
   "metadata": {},
   "outputs": [
    {
     "data": {
      "text/plain": [
       "1802.0"
      ]
     },
     "execution_count": 22,
     "metadata": {},
     "output_type": "execute_result"
    }
   ],
   "source": [
    "y_pred2.sum()"
   ]
  },
  {
   "cell_type": "code",
   "execution_count": 132,
   "metadata": {
    "collapsed": true
   },
   "outputs": [],
   "source": [
    "from sklearn.metrics import confusion_matrix\n",
    "def FDR(y_true, y_pred):\n",
    "    mat=confusion_matrix(y_true=y_true,y_pred=y_pred)\n",
    "    TP=mat[1,1]\n",
    "    FN=mat[1,0]\n",
    "    FDR=TP/(TP+FN)\n",
    "    return FDR"
   ]
  },
  {
   "cell_type": "code",
   "execution_count": 104,
   "metadata": {
    "collapsed": true
   },
   "outputs": [],
   "source": [
    "def FAR(y_true, y_pred):\n",
    "    mat=confusion_matrix(y_true=y_true,y_pred=y_pred)\n",
    "    FP=mat[0,1]\n",
    "    TN=mat[0,0]\n",
    "    FAR=FP/(FP+TN)\n",
    "    return FAR"
   ]
  },
  {
   "cell_type": "code",
   "execution_count": 105,
   "metadata": {
    "collapsed": true
   },
   "outputs": [],
   "source": [
    "def disk_state(testset,y_true,disk_name_list):\n",
    "    result=[]\n",
    "    test_set=testset.groupby('SID')\n",
    "    for disk in disk_name_list:\n",
    "        sample_index=test_set.get_group(disk).index\n",
    "        sample_result=y_true.reindex(sample_index)\n",
    "        sample_result=sample_result.values\n",
    "        if sample_result.sum():\n",
    "            result.append(1)\n",
    "        else:\n",
    "            result.append(0)\n",
    "    return result"
   ]
  },
  {
   "cell_type": "code",
   "execution_count": 106,
   "metadata": {
    "collapsed": true
   },
   "outputs": [],
   "source": [
    "def disk_FDR(x_test,y_pred,y_test):\n",
    "    disk_pred=predict_disk(x_test,y_pred,x_test['SID'].unique())\n",
    "    true_state=disk_state(x_test,y_test,x_test['SID'].unique())\n",
    "    true_state=np.array(true_state)\n",
    "    disk_pred=np.array(disk_pred)\n",
    "    diskfdr=FDR(true_state, disk_pred)\n",
    "    return diskfdr"
   ]
  },
  {
   "cell_type": "code",
   "execution_count": 107,
   "metadata": {
    "collapsed": true
   },
   "outputs": [],
   "source": [
    "def disk_FAR(x_test,y_pred,y_test):\n",
    "    disk_pred=predict_disk(x_test,y_pred,x_test['SID'].unique())\n",
    "    true_state=disk_state(x_test,y_test,x_test['SID'].unique())\n",
    "    true_state=np.array(true_state)\n",
    "    disk_pred=np.array(disk_pred)\n",
    "    diskfdr=FAR(true_state, disk_pred)\n",
    "    return diskfdr"
   ]
  },
  {
   "cell_type": "code",
   "execution_count": 29,
   "metadata": {},
   "outputs": [
    {
     "data": {
      "text/plain": [
       "0.93023255813953487"
      ]
     },
     "execution_count": 29,
     "metadata": {},
     "output_type": "execute_result"
    }
   ],
   "source": [
    "disk_FDR(test_df2,y_pred2,y_test2) #For DT"
   ]
  },
  {
   "cell_type": "code",
   "execution_count": 30,
   "metadata": {},
   "outputs": [
    {
     "data": {
      "text/plain": [
       "0.0059723614804481455"
      ]
     },
     "execution_count": 30,
     "metadata": {},
     "output_type": "execute_result"
    }
   ],
   "source": [
    "disk_FAR(test_df2,y_pred2,y_test2) #For DT"
   ]
  },
  {
   "cell_type": "code",
   "execution_count": 21,
   "metadata": {
    "collapsed": true
   },
   "outputs": [],
   "source": [
    "from sklearn.neural_network import MLPClassifier\n",
    "clf = MLPClassifier(activation='tanh',alpha=0.02, hidden_layer_sizes=(20, 1), max_iter=400, learning_rate_init=0.1)"
   ]
  },
  {
   "cell_type": "code",
   "execution_count": 17,
   "metadata": {},
   "outputs": [
    {
     "name": "stderr",
     "output_type": "stream",
     "text": [
      "/Users/zhilinyang/anaconda3/lib/python3.6/site-packages/sklearn/neural_network/multilayer_perceptron.py:912: DataConversionWarning: A column-vector y was passed when a 1d array was expected. Please change the shape of y to (n_samples, ), for example using ravel().\n",
      "  y = column_or_1d(y, warn=True)\n"
     ]
    },
    {
     "data": {
      "text/plain": [
       "MLPClassifier(activation='tanh', alpha=0.03, batch_size='auto', beta_1=0.9,\n",
       "       beta_2=0.999, early_stopping=False, epsilon=1e-08,\n",
       "       hidden_layer_sizes=(20, 1), learning_rate='constant',\n",
       "       learning_rate_init=0.1, max_iter=400, momentum=0.9,\n",
       "       nesterovs_momentum=True, power_t=0.5, random_state=None,\n",
       "       shuffle=True, solver='adam', tol=0.0001, validation_fraction=0.1,\n",
       "       verbose=False, warm_start=False)"
      ]
     },
     "execution_count": 17,
     "metadata": {},
     "output_type": "execute_result"
    }
   ],
   "source": [
    "clf.fit(train_df2.iloc[:,1:], y_train2)"
   ]
  },
  {
   "cell_type": "code",
   "execution_count": 13,
   "metadata": {
    "collapsed": true
   },
   "outputs": [],
   "source": [
    "y_pred2=clf.predict(test_df2.iloc[:,1:])"
   ]
  },
  {
   "cell_type": "code",
   "execution_count": 40,
   "metadata": {},
   "outputs": [
    {
     "data": {
      "text/plain": [
       "0.83720930232558144"
      ]
     },
     "execution_count": 40,
     "metadata": {},
     "output_type": "execute_result"
    }
   ],
   "source": [
    "disk_FDR(test_df2,y_pred2,y_test2) #For NN"
   ]
  },
  {
   "cell_type": "code",
   "execution_count": 41,
   "metadata": {},
   "outputs": [
    {
     "data": {
      "text/plain": [
       "0.025240856183791797"
      ]
     },
     "execution_count": 41,
     "metadata": {},
     "output_type": "execute_result"
    }
   ],
   "source": [
    "disk_FAR(test_df2,y_pred2,y_test2) #For NN"
   ]
  },
  {
   "cell_type": "code",
   "execution_count": 12,
   "metadata": {},
   "outputs": [
    {
     "data": {
      "text/plain": [
       "\"“Raw Read Error Rate”:'SMART_1'\\n“Hardware ECC Recovered”:'SMART_195'\\n“Reallocated Sectors Count (raw value)'RAW_5'” \""
      ]
     },
     "execution_count": 12,
     "metadata": {},
     "output_type": "execute_result"
    }
   ],
   "source": [
    "dropcols=['SMART_197','RAW_197','cg_5','cg_187','cg_197','cgr_197']\n",
    "train_df3=train_df2.drop(dropcols,axis=1)\n",
    "test_df3=test_df2.drop(dropcols,axis=1)\n",
    "'''“Raw Read Error Rate”:'SMART_1'\n",
    "“Hardware ECC Recovered”:'SMART_195'\n",
    "“Reallocated Sectors Count (raw value)'RAW_5'” '''"
   ]
  },
  {
   "cell_type": "code",
   "execution_count": 62,
   "metadata": {
    "collapsed": true
   },
   "outputs": [],
   "source": [
    "from sklearn.tree import DecisionTreeClassifier\n",
    "DT=DecisionTreeClassifier(criterion='entropy',min_samples_split = 20, min_samples_leaf = 7, min_impurity_decrease = 0.001,class_weight={0:1,1:2})"
   ]
  },
  {
   "cell_type": "code",
   "execution_count": 63,
   "metadata": {},
   "outputs": [
    {
     "data": {
      "text/plain": [
       "DecisionTreeClassifier(class_weight={0: 1, 1: 2}, criterion='entropy',\n",
       "            max_depth=None, max_features=None, max_leaf_nodes=None,\n",
       "            min_impurity_decrease=0.001, min_impurity_split=None,\n",
       "            min_samples_leaf=7, min_samples_split=20,\n",
       "            min_weight_fraction_leaf=0.0, presort=False, random_state=None,\n",
       "            splitter='best')"
      ]
     },
     "execution_count": 63,
     "metadata": {},
     "output_type": "execute_result"
    }
   ],
   "source": [
    "DT.fit(train_df3.iloc[:,1:],y_train2.values)"
   ]
  },
  {
   "cell_type": "code",
   "execution_count": 64,
   "metadata": {
    "collapsed": true
   },
   "outputs": [],
   "source": [
    "y_pred3=DT.predict(test_df3.iloc[:,1:])"
   ]
  },
  {
   "cell_type": "code",
   "execution_count": 65,
   "metadata": {},
   "outputs": [
    {
     "data": {
      "text/plain": [
       "0.93023255813953487"
      ]
     },
     "execution_count": 65,
     "metadata": {},
     "output_type": "execute_result"
    }
   ],
   "source": [
    "disk_FDR(test_df3,y_pred3,y_test2) #For DT"
   ]
  },
  {
   "cell_type": "code",
   "execution_count": 66,
   "metadata": {},
   "outputs": [
    {
     "data": {
      "text/plain": [
       "0.0059723614804481455"
      ]
     },
     "execution_count": 66,
     "metadata": {},
     "output_type": "execute_result"
    }
   ],
   "source": [
    "disk_FAR(test_df3,y_pred3,y_test2) #For DT"
   ]
  },
  {
   "cell_type": "code",
   "execution_count": 22,
   "metadata": {},
   "outputs": [
    {
     "name": "stderr",
     "output_type": "stream",
     "text": [
      "/Users/zhilinyang/anaconda3/lib/python3.6/site-packages/sklearn/neural_network/multilayer_perceptron.py:912: DataConversionWarning: A column-vector y was passed when a 1d array was expected. Please change the shape of y to (n_samples, ), for example using ravel().\n",
      "  y = column_or_1d(y, warn=True)\n"
     ]
    },
    {
     "data": {
      "text/plain": [
       "MLPClassifier(activation='tanh', alpha=0.02, batch_size='auto', beta_1=0.9,\n",
       "       beta_2=0.999, early_stopping=False, epsilon=1e-08,\n",
       "       hidden_layer_sizes=(20, 1), learning_rate='constant',\n",
       "       learning_rate_init=0.1, max_iter=400, momentum=0.9,\n",
       "       nesterovs_momentum=True, power_t=0.5, random_state=None,\n",
       "       shuffle=True, solver='adam', tol=0.0001, validation_fraction=0.1,\n",
       "       verbose=False, warm_start=False)"
      ]
     },
     "execution_count": 22,
     "metadata": {},
     "output_type": "execute_result"
    }
   ],
   "source": [
    "clf.fit(train_df3.iloc[:,1:], y_train2)"
   ]
  },
  {
   "cell_type": "code",
   "execution_count": 27,
   "metadata": {
    "collapsed": true
   },
   "outputs": [],
   "source": [
    "y_pred3=clf.predict(test_df3.iloc[:,1:])"
   ]
  },
  {
   "cell_type": "code",
   "execution_count": 28,
   "metadata": {},
   "outputs": [
    {
     "data": {
      "text/plain": [
       "1292.0"
      ]
     },
     "execution_count": 28,
     "metadata": {},
     "output_type": "execute_result"
    }
   ],
   "source": [
    "y_pred3.sum()"
   ]
  },
  {
   "cell_type": "code",
   "execution_count": 29,
   "metadata": {},
   "outputs": [
    {
     "data": {
      "text/plain": [
       "0.75193798449612403"
      ]
     },
     "execution_count": 29,
     "metadata": {},
     "output_type": "execute_result"
    }
   ],
   "source": [
    "disk_FDR(test_df3,y_pred3,y_test2) #For NN"
   ]
  },
  {
   "cell_type": "code",
   "execution_count": 30,
   "metadata": {},
   "outputs": [
    {
     "data": {
      "text/plain": [
       "0.0024848511269017831"
      ]
     },
     "execution_count": 30,
     "metadata": {},
     "output_type": "execute_result"
    }
   ],
   "source": [
    "disk_FAR(test_df3,y_pred3,y_test2) #For NN"
   ]
  },
  {
   "cell_type": "code",
   "execution_count": 31,
   "metadata": {},
   "outputs": [
    {
     "data": {
      "text/plain": [
       "23068"
      ]
     },
     "execution_count": 31,
     "metadata": {},
     "output_type": "execute_result"
    }
   ],
   "source": [
    "len(test_df2['SID'].unique())"
   ]
  },
  {
   "cell_type": "code",
   "execution_count": 34,
   "metadata": {},
   "outputs": [
    {
     "data": {
      "text/html": [
       "<div>\n",
       "<style scoped>\n",
       "    .dataframe tbody tr th:only-of-type {\n",
       "        vertical-align: middle;\n",
       "    }\n",
       "\n",
       "    .dataframe tbody tr th {\n",
       "        vertical-align: top;\n",
       "    }\n",
       "\n",
       "    .dataframe thead th {\n",
       "        text-align: right;\n",
       "    }\n",
       "</style>\n",
       "<table border=\"1\" class=\"dataframe\">\n",
       "  <thead>\n",
       "    <tr style=\"text-align: right;\">\n",
       "      <th></th>\n",
       "      <th>SID</th>\n",
       "      <th>label</th>\n",
       "      <th>SMART_1</th>\n",
       "      <th>SMART_3</th>\n",
       "      <th>SMART_5</th>\n",
       "      <th>SMART_7</th>\n",
       "      <th>SMART_9</th>\n",
       "      <th>SMART_187</th>\n",
       "      <th>SMART_189</th>\n",
       "      <th>SMART_194</th>\n",
       "      <th>SMART_195</th>\n",
       "      <th>SMART_197</th>\n",
       "      <th>RAW_5</th>\n",
       "      <th>RAW_197</th>\n",
       "    </tr>\n",
       "  </thead>\n",
       "  <tbody>\n",
       "    <tr>\n",
       "      <th>0</th>\n",
       "      <td>1</td>\n",
       "      <td>-1</td>\n",
       "      <td>0.483871</td>\n",
       "      <td>0.259259</td>\n",
       "      <td>-1.0</td>\n",
       "      <td>0.317073</td>\n",
       "      <td>0.894737</td>\n",
       "      <td>0.878788</td>\n",
       "      <td>0.89899</td>\n",
       "      <td>-0.657143</td>\n",
       "      <td>-0.118280</td>\n",
       "      <td>1.0</td>\n",
       "      <td>0.935255</td>\n",
       "      <td>-1.0</td>\n",
       "    </tr>\n",
       "    <tr>\n",
       "      <th>1</th>\n",
       "      <td>1</td>\n",
       "      <td>-1</td>\n",
       "      <td>0.000000</td>\n",
       "      <td>0.259259</td>\n",
       "      <td>-1.0</td>\n",
       "      <td>0.317073</td>\n",
       "      <td>0.894737</td>\n",
       "      <td>0.878788</td>\n",
       "      <td>0.89899</td>\n",
       "      <td>-0.657143</td>\n",
       "      <td>-0.118280</td>\n",
       "      <td>1.0</td>\n",
       "      <td>0.935255</td>\n",
       "      <td>-1.0</td>\n",
       "    </tr>\n",
       "    <tr>\n",
       "      <th>2</th>\n",
       "      <td>1</td>\n",
       "      <td>-1</td>\n",
       "      <td>0.096774</td>\n",
       "      <td>0.259259</td>\n",
       "      <td>-1.0</td>\n",
       "      <td>0.317073</td>\n",
       "      <td>0.894737</td>\n",
       "      <td>0.878788</td>\n",
       "      <td>0.89899</td>\n",
       "      <td>-0.714286</td>\n",
       "      <td>-0.139785</td>\n",
       "      <td>1.0</td>\n",
       "      <td>0.935255</td>\n",
       "      <td>-1.0</td>\n",
       "    </tr>\n",
       "    <tr>\n",
       "      <th>3</th>\n",
       "      <td>1</td>\n",
       "      <td>-1</td>\n",
       "      <td>0.193548</td>\n",
       "      <td>0.259259</td>\n",
       "      <td>-1.0</td>\n",
       "      <td>0.317073</td>\n",
       "      <td>0.894737</td>\n",
       "      <td>0.878788</td>\n",
       "      <td>0.89899</td>\n",
       "      <td>-0.657143</td>\n",
       "      <td>-0.139785</td>\n",
       "      <td>1.0</td>\n",
       "      <td>0.935255</td>\n",
       "      <td>-1.0</td>\n",
       "    </tr>\n",
       "    <tr>\n",
       "      <th>4</th>\n",
       "      <td>1</td>\n",
       "      <td>-1</td>\n",
       "      <td>0.290323</td>\n",
       "      <td>0.259259</td>\n",
       "      <td>-1.0</td>\n",
       "      <td>0.317073</td>\n",
       "      <td>0.894737</td>\n",
       "      <td>0.878788</td>\n",
       "      <td>0.89899</td>\n",
       "      <td>-0.657143</td>\n",
       "      <td>-0.118280</td>\n",
       "      <td>1.0</td>\n",
       "      <td>0.935255</td>\n",
       "      <td>-1.0</td>\n",
       "    </tr>\n",
       "  </tbody>\n",
       "</table>\n",
       "</div>"
      ],
      "text/plain": [
       "   SID  label   SMART_1   SMART_3  SMART_5   SMART_7   SMART_9  SMART_187  \\\n",
       "0    1     -1  0.483871  0.259259     -1.0  0.317073  0.894737   0.878788   \n",
       "1    1     -1  0.000000  0.259259     -1.0  0.317073  0.894737   0.878788   \n",
       "2    1     -1  0.096774  0.259259     -1.0  0.317073  0.894737   0.878788   \n",
       "3    1     -1  0.193548  0.259259     -1.0  0.317073  0.894737   0.878788   \n",
       "4    1     -1  0.290323  0.259259     -1.0  0.317073  0.894737   0.878788   \n",
       "\n",
       "   SMART_189  SMART_194  SMART_195  SMART_197     RAW_5  RAW_197  \n",
       "0    0.89899  -0.657143  -0.118280        1.0  0.935255     -1.0  \n",
       "1    0.89899  -0.657143  -0.118280        1.0  0.935255     -1.0  \n",
       "2    0.89899  -0.714286  -0.139785        1.0  0.935255     -1.0  \n",
       "3    0.89899  -0.657143  -0.139785        1.0  0.935255     -1.0  \n",
       "4    0.89899  -0.657143  -0.118280        1.0  0.935255     -1.0  "
      ]
     },
     "execution_count": 34,
     "metadata": {},
     "output_type": "execute_result"
    }
   ],
   "source": [
    "file=\"/Users/zhilinyang/Desktop/work/dataset.txt\"\n",
    "colname=[\"SID\",\"label\",\"SMART_1\",\"SMART_3\",\"SMART_5\",\"SMART_7\",\"SMART_9\",\"SMART_187\",\n",
    "         \"SMART_189\",\"SMART_194\",\"SMART_195\",\"SMART_197\",\"RAW_5\",\"RAW_197\"]\n",
    "df=pd.read_table(file,sep=' ')\n",
    "df.columns=colname\n",
    "df.head()"
   ]
  },
  {
   "cell_type": "code",
   "execution_count": 11,
   "metadata": {
    "collapsed": true
   },
   "outputs": [],
   "source": [
    "def change_rate(dataset,feature_list,rate,new_feature_list):\n",
    "    num=1\n",
    "    disk_list=dataset['SID'].unique()\n",
    "    groups=dataset.groupby('SID')\n",
    "    new_dataset=pd.DataFrame()\n",
    "    col=list(dataset.columns)+new_feature_list\n",
    "    for disk_id in disk_list:\n",
    "        disk=groups.get_group(disk_id)\n",
    "        part=disk[feature_list]\n",
    "        new_sample=pd.DataFrame()\n",
    "        for hour in range(rate,len(part)):\n",
    "            temp=abs((part.iloc[hour]-part.iloc[hour-rate])).values\n",
    "            new=np.concatenate((disk.iloc[hour], temp), axis=0)\n",
    "            new=pd.Series(new,index=col)\n",
    "            new_sample=new_sample.append(new,ignore_index=True)\n",
    "        new_dataset=new_dataset.append(new_sample)\n",
    "        newcolname=[\"SID\",\"label\",\"SMART_1\",\"SMART_3\",\"SMART_5\",\"SMART_7\",\"SMART_9\",\"SMART_187\",\n",
    "         \"SMART_189\",\"SMART_194\",\"SMART_195\",\"SMART_197\",\"RAW_5\",\"RAW_197\"]+new_feature_list\n",
    "        new_dataset=new_dataset[newcolname]\n",
    "        num=num+1\n",
    "        print(num)\n",
    "    return new_dataset"
   ]
  },
  {
   "cell_type": "code",
   "execution_count": 6,
   "metadata": {},
   "outputs": [
    {
     "data": {
      "text/html": [
       "<div>\n",
       "<style scoped>\n",
       "    .dataframe tbody tr th:only-of-type {\n",
       "        vertical-align: middle;\n",
       "    }\n",
       "\n",
       "    .dataframe tbody tr th {\n",
       "        vertical-align: top;\n",
       "    }\n",
       "\n",
       "    .dataframe thead th {\n",
       "        text-align: right;\n",
       "    }\n",
       "</style>\n",
       "<table border=\"1\" class=\"dataframe\">\n",
       "  <thead>\n",
       "    <tr style=\"text-align: right;\">\n",
       "      <th></th>\n",
       "      <th>SID</th>\n",
       "      <th>label</th>\n",
       "      <th>SMART_1</th>\n",
       "      <th>SMART_3</th>\n",
       "      <th>SMART_5</th>\n",
       "      <th>SMART_7</th>\n",
       "      <th>SMART_9</th>\n",
       "      <th>SMART_187</th>\n",
       "      <th>SMART_189</th>\n",
       "      <th>SMART_194</th>\n",
       "      <th>SMART_195</th>\n",
       "      <th>SMART_197</th>\n",
       "      <th>RAW_5</th>\n",
       "      <th>RAW_197</th>\n",
       "    </tr>\n",
       "  </thead>\n",
       "  <tbody>\n",
       "    <tr>\n",
       "      <th>0</th>\n",
       "      <td>434</td>\n",
       "      <td>1</td>\n",
       "      <td>0.290323</td>\n",
       "      <td>1.0</td>\n",
       "      <td>0.979798</td>\n",
       "      <td>0.536585</td>\n",
       "      <td>0.157895</td>\n",
       "      <td>1.0</td>\n",
       "      <td>-1.0</td>\n",
       "      <td>-0.542857</td>\n",
       "      <td>-0.182796</td>\n",
       "      <td>1.0</td>\n",
       "      <td>-0.964083</td>\n",
       "      <td>-1.0</td>\n",
       "    </tr>\n",
       "    <tr>\n",
       "      <th>1</th>\n",
       "      <td>434</td>\n",
       "      <td>1</td>\n",
       "      <td>0.322581</td>\n",
       "      <td>1.0</td>\n",
       "      <td>0.979798</td>\n",
       "      <td>0.536585</td>\n",
       "      <td>0.157895</td>\n",
       "      <td>1.0</td>\n",
       "      <td>-1.0</td>\n",
       "      <td>-0.485714</td>\n",
       "      <td>-0.161290</td>\n",
       "      <td>1.0</td>\n",
       "      <td>-0.964083</td>\n",
       "      <td>-1.0</td>\n",
       "    </tr>\n",
       "    <tr>\n",
       "      <th>2</th>\n",
       "      <td>434</td>\n",
       "      <td>1</td>\n",
       "      <td>0.354839</td>\n",
       "      <td>1.0</td>\n",
       "      <td>0.979798</td>\n",
       "      <td>0.536585</td>\n",
       "      <td>0.157895</td>\n",
       "      <td>1.0</td>\n",
       "      <td>-1.0</td>\n",
       "      <td>-0.485714</td>\n",
       "      <td>-0.139785</td>\n",
       "      <td>1.0</td>\n",
       "      <td>-0.964083</td>\n",
       "      <td>-1.0</td>\n",
       "    </tr>\n",
       "    <tr>\n",
       "      <th>3</th>\n",
       "      <td>434</td>\n",
       "      <td>1</td>\n",
       "      <td>0.354839</td>\n",
       "      <td>1.0</td>\n",
       "      <td>0.979798</td>\n",
       "      <td>0.536585</td>\n",
       "      <td>0.157895</td>\n",
       "      <td>1.0</td>\n",
       "      <td>-1.0</td>\n",
       "      <td>-0.485714</td>\n",
       "      <td>-0.182796</td>\n",
       "      <td>1.0</td>\n",
       "      <td>-0.964083</td>\n",
       "      <td>-1.0</td>\n",
       "    </tr>\n",
       "    <tr>\n",
       "      <th>4</th>\n",
       "      <td>434</td>\n",
       "      <td>1</td>\n",
       "      <td>0.387097</td>\n",
       "      <td>1.0</td>\n",
       "      <td>0.979798</td>\n",
       "      <td>0.536585</td>\n",
       "      <td>0.157895</td>\n",
       "      <td>1.0</td>\n",
       "      <td>-1.0</td>\n",
       "      <td>-0.542857</td>\n",
       "      <td>-0.182796</td>\n",
       "      <td>1.0</td>\n",
       "      <td>-0.964083</td>\n",
       "      <td>-1.0</td>\n",
       "    </tr>\n",
       "  </tbody>\n",
       "</table>\n",
       "</div>"
      ],
      "text/plain": [
       "   SID  label   SMART_1  SMART_3   SMART_5   SMART_7   SMART_9  SMART_187  \\\n",
       "0  434      1  0.290323      1.0  0.979798  0.536585  0.157895        1.0   \n",
       "1  434      1  0.322581      1.0  0.979798  0.536585  0.157895        1.0   \n",
       "2  434      1  0.354839      1.0  0.979798  0.536585  0.157895        1.0   \n",
       "3  434      1  0.354839      1.0  0.979798  0.536585  0.157895        1.0   \n",
       "4  434      1  0.387097      1.0  0.979798  0.536585  0.157895        1.0   \n",
       "\n",
       "   SMART_189  SMART_194  SMART_195  SMART_197     RAW_5  RAW_197  \n",
       "0       -1.0  -0.542857  -0.182796        1.0 -0.964083     -1.0  \n",
       "1       -1.0  -0.485714  -0.161290        1.0 -0.964083     -1.0  \n",
       "2       -1.0  -0.485714  -0.139785        1.0 -0.964083     -1.0  \n",
       "3       -1.0  -0.485714  -0.182796        1.0 -0.964083     -1.0  \n",
       "4       -1.0  -0.542857  -0.182796        1.0 -0.964083     -1.0  "
      ]
     },
     "execution_count": 6,
     "metadata": {},
     "output_type": "execute_result"
    }
   ],
   "source": [
    "good_disks=pd.read_csv('/Users/zhilinyang/Desktop/work/good_disks.csv')\n",
    "good_disks=good_disks.iloc[:,1:]\n",
    "good_disks.head()"
   ]
  },
  {
   "cell_type": "code",
   "execution_count": 8,
   "metadata": {},
   "outputs": [
    {
     "data": {
      "text/plain": [
       "168"
      ]
     },
     "execution_count": 8,
     "metadata": {},
     "output_type": "execute_result"
    }
   ],
   "source": [
    "len(good_disks.loc[good_disks.SID==434.0])"
   ]
  },
  {
   "cell_type": "code",
   "execution_count": 6,
   "metadata": {},
   "outputs": [
    {
     "data": {
      "text/plain": [
       "22962"
      ]
     },
     "execution_count": 6,
     "metadata": {},
     "output_type": "execute_result"
    }
   ],
   "source": [
    "good_list=good_disks['SID'].unique()\n",
    "good_list=pd.Series(good_list)\n",
    "len(good_list)"
   ]
  },
  {
   "cell_type": "code",
   "execution_count": 7,
   "metadata": {
    "collapsed": true
   },
   "outputs": [],
   "source": [
    "good_list=list(good_list)"
   ]
  },
  {
   "cell_type": "code",
   "execution_count": 8,
   "metadata": {},
   "outputs": [
    {
     "data": {
      "text/html": [
       "<div>\n",
       "<style scoped>\n",
       "    .dataframe tbody tr th:only-of-type {\n",
       "        vertical-align: middle;\n",
       "    }\n",
       "\n",
       "    .dataframe tbody tr th {\n",
       "        vertical-align: top;\n",
       "    }\n",
       "\n",
       "    .dataframe thead th {\n",
       "        text-align: right;\n",
       "    }\n",
       "</style>\n",
       "<table border=\"1\" class=\"dataframe\">\n",
       "  <thead>\n",
       "    <tr style=\"text-align: right;\">\n",
       "      <th></th>\n",
       "      <th>SID</th>\n",
       "      <th>label</th>\n",
       "      <th>SMART_1</th>\n",
       "      <th>SMART_3</th>\n",
       "      <th>SMART_5</th>\n",
       "      <th>SMART_7</th>\n",
       "      <th>SMART_9</th>\n",
       "      <th>SMART_187</th>\n",
       "      <th>SMART_189</th>\n",
       "      <th>SMART_194</th>\n",
       "      <th>SMART_195</th>\n",
       "      <th>SMART_197</th>\n",
       "      <th>RAW_5</th>\n",
       "      <th>RAW_197</th>\n",
       "    </tr>\n",
       "  </thead>\n",
       "  <tbody>\n",
       "    <tr>\n",
       "      <th>0</th>\n",
       "      <td>434</td>\n",
       "      <td>1</td>\n",
       "      <td>0.290323</td>\n",
       "      <td>1.0</td>\n",
       "      <td>0.979798</td>\n",
       "      <td>0.536585</td>\n",
       "      <td>0.157895</td>\n",
       "      <td>1.0</td>\n",
       "      <td>-1.0</td>\n",
       "      <td>-0.542857</td>\n",
       "      <td>-0.182796</td>\n",
       "      <td>1.0</td>\n",
       "      <td>-0.964083</td>\n",
       "      <td>-1.0</td>\n",
       "    </tr>\n",
       "    <tr>\n",
       "      <th>1</th>\n",
       "      <td>434</td>\n",
       "      <td>1</td>\n",
       "      <td>0.322581</td>\n",
       "      <td>1.0</td>\n",
       "      <td>0.979798</td>\n",
       "      <td>0.536585</td>\n",
       "      <td>0.157895</td>\n",
       "      <td>1.0</td>\n",
       "      <td>-1.0</td>\n",
       "      <td>-0.485714</td>\n",
       "      <td>-0.161290</td>\n",
       "      <td>1.0</td>\n",
       "      <td>-0.964083</td>\n",
       "      <td>-1.0</td>\n",
       "    </tr>\n",
       "    <tr>\n",
       "      <th>2</th>\n",
       "      <td>434</td>\n",
       "      <td>1</td>\n",
       "      <td>0.354839</td>\n",
       "      <td>1.0</td>\n",
       "      <td>0.979798</td>\n",
       "      <td>0.536585</td>\n",
       "      <td>0.157895</td>\n",
       "      <td>1.0</td>\n",
       "      <td>-1.0</td>\n",
       "      <td>-0.485714</td>\n",
       "      <td>-0.139785</td>\n",
       "      <td>1.0</td>\n",
       "      <td>-0.964083</td>\n",
       "      <td>-1.0</td>\n",
       "    </tr>\n",
       "    <tr>\n",
       "      <th>3</th>\n",
       "      <td>434</td>\n",
       "      <td>1</td>\n",
       "      <td>0.354839</td>\n",
       "      <td>1.0</td>\n",
       "      <td>0.979798</td>\n",
       "      <td>0.536585</td>\n",
       "      <td>0.157895</td>\n",
       "      <td>1.0</td>\n",
       "      <td>-1.0</td>\n",
       "      <td>-0.485714</td>\n",
       "      <td>-0.182796</td>\n",
       "      <td>1.0</td>\n",
       "      <td>-0.964083</td>\n",
       "      <td>-1.0</td>\n",
       "    </tr>\n",
       "    <tr>\n",
       "      <th>4</th>\n",
       "      <td>434</td>\n",
       "      <td>1</td>\n",
       "      <td>0.387097</td>\n",
       "      <td>1.0</td>\n",
       "      <td>0.979798</td>\n",
       "      <td>0.536585</td>\n",
       "      <td>0.157895</td>\n",
       "      <td>1.0</td>\n",
       "      <td>-1.0</td>\n",
       "      <td>-0.542857</td>\n",
       "      <td>-0.182796</td>\n",
       "      <td>1.0</td>\n",
       "      <td>-0.964083</td>\n",
       "      <td>-1.0</td>\n",
       "    </tr>\n",
       "  </tbody>\n",
       "</table>\n",
       "</div>"
      ],
      "text/plain": [
       "   SID  label   SMART_1  SMART_3   SMART_5   SMART_7   SMART_9  SMART_187  \\\n",
       "0  434      1  0.290323      1.0  0.979798  0.536585  0.157895        1.0   \n",
       "1  434      1  0.322581      1.0  0.979798  0.536585  0.157895        1.0   \n",
       "2  434      1  0.354839      1.0  0.979798  0.536585  0.157895        1.0   \n",
       "3  434      1  0.354839      1.0  0.979798  0.536585  0.157895        1.0   \n",
       "4  434      1  0.387097      1.0  0.979798  0.536585  0.157895        1.0   \n",
       "\n",
       "   SMART_189  SMART_194  SMART_195  SMART_197     RAW_5  RAW_197  \n",
       "0       -1.0  -0.542857  -0.182796        1.0 -0.964083     -1.0  \n",
       "1       -1.0  -0.485714  -0.161290        1.0 -0.964083     -1.0  \n",
       "2       -1.0  -0.485714  -0.139785        1.0 -0.964083     -1.0  \n",
       "3       -1.0  -0.485714  -0.182796        1.0 -0.964083     -1.0  \n",
       "4       -1.0  -0.542857  -0.182796        1.0 -0.964083     -1.0  "
      ]
     },
     "execution_count": 8,
     "metadata": {},
     "output_type": "execute_result"
    }
   ],
   "source": [
    "new_good_disks=good_disks\n",
    "new_good_disks.head()"
   ]
  },
  {
   "cell_type": "code",
   "execution_count": null,
   "metadata": {},
   "outputs": [],
   "source": [
    "new_good=change_rate(new_good_disks,[\"SMART_1\",\"SMART_5\",\"SMART_187\",\"SMART_195\",\"SMART_197\",\"RAW_5\",\"RAW_197\"],6,[\"cg_1\",\"cg_5\",\"cg_187\",\"cg_195\",\"cg_197\",\"cgr_5\",\"cgr_197\"])\n",
    "new_good.head(20)"
   ]
  },
  {
   "cell_type": "code",
   "execution_count": 5,
   "metadata": {},
   "outputs": [
    {
     "data": {
      "text/html": [
       "<div>\n",
       "<style scoped>\n",
       "    .dataframe tbody tr th:only-of-type {\n",
       "        vertical-align: middle;\n",
       "    }\n",
       "\n",
       "    .dataframe tbody tr th {\n",
       "        vertical-align: top;\n",
       "    }\n",
       "\n",
       "    .dataframe thead th {\n",
       "        text-align: right;\n",
       "    }\n",
       "</style>\n",
       "<table border=\"1\" class=\"dataframe\">\n",
       "  <thead>\n",
       "    <tr style=\"text-align: right;\">\n",
       "      <th></th>\n",
       "      <th>SID</th>\n",
       "      <th>label</th>\n",
       "      <th>SMART_1</th>\n",
       "      <th>SMART_3</th>\n",
       "      <th>SMART_5</th>\n",
       "      <th>SMART_7</th>\n",
       "      <th>SMART_9</th>\n",
       "      <th>SMART_187</th>\n",
       "      <th>SMART_189</th>\n",
       "      <th>SMART_194</th>\n",
       "      <th>SMART_195</th>\n",
       "      <th>SMART_197</th>\n",
       "      <th>RAW_5</th>\n",
       "      <th>RAW_197</th>\n",
       "    </tr>\n",
       "  </thead>\n",
       "  <tbody>\n",
       "    <tr>\n",
       "      <th>0</th>\n",
       "      <td>1</td>\n",
       "      <td>-1</td>\n",
       "      <td>0.483871</td>\n",
       "      <td>0.259259</td>\n",
       "      <td>-1.0</td>\n",
       "      <td>0.317073</td>\n",
       "      <td>0.894737</td>\n",
       "      <td>0.878788</td>\n",
       "      <td>0.89899</td>\n",
       "      <td>-0.657143</td>\n",
       "      <td>-0.118280</td>\n",
       "      <td>1.0</td>\n",
       "      <td>0.935255</td>\n",
       "      <td>-1.0</td>\n",
       "    </tr>\n",
       "    <tr>\n",
       "      <th>1</th>\n",
       "      <td>1</td>\n",
       "      <td>-1</td>\n",
       "      <td>0.000000</td>\n",
       "      <td>0.259259</td>\n",
       "      <td>-1.0</td>\n",
       "      <td>0.317073</td>\n",
       "      <td>0.894737</td>\n",
       "      <td>0.878788</td>\n",
       "      <td>0.89899</td>\n",
       "      <td>-0.657143</td>\n",
       "      <td>-0.118280</td>\n",
       "      <td>1.0</td>\n",
       "      <td>0.935255</td>\n",
       "      <td>-1.0</td>\n",
       "    </tr>\n",
       "    <tr>\n",
       "      <th>2</th>\n",
       "      <td>1</td>\n",
       "      <td>-1</td>\n",
       "      <td>0.096774</td>\n",
       "      <td>0.259259</td>\n",
       "      <td>-1.0</td>\n",
       "      <td>0.317073</td>\n",
       "      <td>0.894737</td>\n",
       "      <td>0.878788</td>\n",
       "      <td>0.89899</td>\n",
       "      <td>-0.714286</td>\n",
       "      <td>-0.139785</td>\n",
       "      <td>1.0</td>\n",
       "      <td>0.935255</td>\n",
       "      <td>-1.0</td>\n",
       "    </tr>\n",
       "    <tr>\n",
       "      <th>3</th>\n",
       "      <td>1</td>\n",
       "      <td>-1</td>\n",
       "      <td>0.193548</td>\n",
       "      <td>0.259259</td>\n",
       "      <td>-1.0</td>\n",
       "      <td>0.317073</td>\n",
       "      <td>0.894737</td>\n",
       "      <td>0.878788</td>\n",
       "      <td>0.89899</td>\n",
       "      <td>-0.657143</td>\n",
       "      <td>-0.139785</td>\n",
       "      <td>1.0</td>\n",
       "      <td>0.935255</td>\n",
       "      <td>-1.0</td>\n",
       "    </tr>\n",
       "    <tr>\n",
       "      <th>4</th>\n",
       "      <td>1</td>\n",
       "      <td>-1</td>\n",
       "      <td>0.290323</td>\n",
       "      <td>0.259259</td>\n",
       "      <td>-1.0</td>\n",
       "      <td>0.317073</td>\n",
       "      <td>0.894737</td>\n",
       "      <td>0.878788</td>\n",
       "      <td>0.89899</td>\n",
       "      <td>-0.657143</td>\n",
       "      <td>-0.118280</td>\n",
       "      <td>1.0</td>\n",
       "      <td>0.935255</td>\n",
       "      <td>-1.0</td>\n",
       "    </tr>\n",
       "  </tbody>\n",
       "</table>\n",
       "</div>"
      ],
      "text/plain": [
       "   SID  label   SMART_1   SMART_3  SMART_5   SMART_7   SMART_9  SMART_187  \\\n",
       "0    1     -1  0.483871  0.259259     -1.0  0.317073  0.894737   0.878788   \n",
       "1    1     -1  0.000000  0.259259     -1.0  0.317073  0.894737   0.878788   \n",
       "2    1     -1  0.096774  0.259259     -1.0  0.317073  0.894737   0.878788   \n",
       "3    1     -1  0.193548  0.259259     -1.0  0.317073  0.894737   0.878788   \n",
       "4    1     -1  0.290323  0.259259     -1.0  0.317073  0.894737   0.878788   \n",
       "\n",
       "   SMART_189  SMART_194  SMART_195  SMART_197     RAW_5  RAW_197  \n",
       "0    0.89899  -0.657143  -0.118280        1.0  0.935255     -1.0  \n",
       "1    0.89899  -0.657143  -0.118280        1.0  0.935255     -1.0  \n",
       "2    0.89899  -0.714286  -0.139785        1.0  0.935255     -1.0  \n",
       "3    0.89899  -0.657143  -0.139785        1.0  0.935255     -1.0  \n",
       "4    0.89899  -0.657143  -0.118280        1.0  0.935255     -1.0  "
      ]
     },
     "execution_count": 5,
     "metadata": {},
     "output_type": "execute_result"
    }
   ],
   "source": [
    "bad_disks=pd.read_csv('/Users/zhilinyang/Desktop/work/fail_disks.csv')\n",
    "bad_disks=bad_disks.iloc[:,1:]\n",
    "bad_disks.head()"
   ]
  },
  {
   "cell_type": "code",
   "execution_count": null,
   "metadata": {
    "collapsed": true
   },
   "outputs": [],
   "source": [
    "new_bad=change_rate(bad_disks,[\"SMART_1\",\"SMART_5\",\"SMART_187\",\"SMART_195\",\"SMART_197\",\"RAW_5\",\"RAW_197\"],6,[\"cg_1\",\"cg_5\",\"cg_187\",\"cg_195\",\"cg_197\",\"cgr_5\",\"cgr_197\"])"
   ]
  },
  {
   "cell_type": "code",
   "execution_count": 152,
   "metadata": {},
   "outputs": [
    {
     "data": {
      "text/plain": [
       "433"
      ]
     },
     "execution_count": 152,
     "metadata": {},
     "output_type": "execute_result"
    }
   ],
   "source": [
    "len(new_bad['SID'].unique())"
   ]
  },
  {
   "cell_type": "code",
   "execution_count": null,
   "metadata": {
    "collapsed": true
   },
   "outputs": [],
   "source": [
    "new_bad.to_csv(\"/Users/zhilinyang/Desktop/work/new_bad.csv\")"
   ]
  },
  {
   "cell_type": "code",
   "execution_count": 34,
   "metadata": {},
   "outputs": [
    {
     "data": {
      "text/html": [
       "<div>\n",
       "<style scoped>\n",
       "    .dataframe tbody tr th:only-of-type {\n",
       "        vertical-align: middle;\n",
       "    }\n",
       "\n",
       "    .dataframe tbody tr th {\n",
       "        vertical-align: top;\n",
       "    }\n",
       "\n",
       "    .dataframe thead th {\n",
       "        text-align: right;\n",
       "    }\n",
       "</style>\n",
       "<table border=\"1\" class=\"dataframe\">\n",
       "  <thead>\n",
       "    <tr style=\"text-align: right;\">\n",
       "      <th></th>\n",
       "      <th>SID</th>\n",
       "      <th>label</th>\n",
       "      <th>SMART_1</th>\n",
       "      <th>SMART_3</th>\n",
       "      <th>SMART_5</th>\n",
       "      <th>SMART_7</th>\n",
       "      <th>SMART_9</th>\n",
       "      <th>SMART_187</th>\n",
       "      <th>SMART_189</th>\n",
       "      <th>SMART_194</th>\n",
       "      <th>...</th>\n",
       "      <th>SMART_197</th>\n",
       "      <th>RAW_5</th>\n",
       "      <th>RAW_197</th>\n",
       "      <th>cg_1</th>\n",
       "      <th>cg_5</th>\n",
       "      <th>cg_187</th>\n",
       "      <th>cg_195</th>\n",
       "      <th>cg_197</th>\n",
       "      <th>cgr_5</th>\n",
       "      <th>cgr_197</th>\n",
       "    </tr>\n",
       "  </thead>\n",
       "  <tbody>\n",
       "    <tr>\n",
       "      <th>0</th>\n",
       "      <td>1.0</td>\n",
       "      <td>-1.0</td>\n",
       "      <td>0.290323</td>\n",
       "      <td>0.259259</td>\n",
       "      <td>-1.0</td>\n",
       "      <td>0.317073</td>\n",
       "      <td>0.894737</td>\n",
       "      <td>0.878788</td>\n",
       "      <td>0.89899</td>\n",
       "      <td>-0.657143</td>\n",
       "      <td>...</td>\n",
       "      <td>1.0</td>\n",
       "      <td>0.935255</td>\n",
       "      <td>-1.0</td>\n",
       "      <td>0.193548</td>\n",
       "      <td>0.0</td>\n",
       "      <td>0.0</td>\n",
       "      <td>0.021505</td>\n",
       "      <td>0.0</td>\n",
       "      <td>0.0</td>\n",
       "      <td>0.0</td>\n",
       "    </tr>\n",
       "    <tr>\n",
       "      <th>1</th>\n",
       "      <td>1.0</td>\n",
       "      <td>-1.0</td>\n",
       "      <td>0.322581</td>\n",
       "      <td>0.259259</td>\n",
       "      <td>-1.0</td>\n",
       "      <td>0.317073</td>\n",
       "      <td>0.894737</td>\n",
       "      <td>0.878788</td>\n",
       "      <td>0.89899</td>\n",
       "      <td>-0.657143</td>\n",
       "      <td>...</td>\n",
       "      <td>1.0</td>\n",
       "      <td>0.935255</td>\n",
       "      <td>-1.0</td>\n",
       "      <td>0.322581</td>\n",
       "      <td>0.0</td>\n",
       "      <td>0.0</td>\n",
       "      <td>0.021505</td>\n",
       "      <td>0.0</td>\n",
       "      <td>0.0</td>\n",
       "      <td>0.0</td>\n",
       "    </tr>\n",
       "    <tr>\n",
       "      <th>2</th>\n",
       "      <td>1.0</td>\n",
       "      <td>-1.0</td>\n",
       "      <td>0.354839</td>\n",
       "      <td>0.259259</td>\n",
       "      <td>-1.0</td>\n",
       "      <td>0.317073</td>\n",
       "      <td>0.894737</td>\n",
       "      <td>0.878788</td>\n",
       "      <td>0.89899</td>\n",
       "      <td>-0.657143</td>\n",
       "      <td>...</td>\n",
       "      <td>1.0</td>\n",
       "      <td>0.935255</td>\n",
       "      <td>-1.0</td>\n",
       "      <td>0.258065</td>\n",
       "      <td>0.0</td>\n",
       "      <td>0.0</td>\n",
       "      <td>0.000000</td>\n",
       "      <td>0.0</td>\n",
       "      <td>0.0</td>\n",
       "      <td>0.0</td>\n",
       "    </tr>\n",
       "    <tr>\n",
       "      <th>3</th>\n",
       "      <td>1.0</td>\n",
       "      <td>-1.0</td>\n",
       "      <td>0.387097</td>\n",
       "      <td>0.259259</td>\n",
       "      <td>-1.0</td>\n",
       "      <td>0.317073</td>\n",
       "      <td>0.894737</td>\n",
       "      <td>0.878788</td>\n",
       "      <td>0.89899</td>\n",
       "      <td>-0.714286</td>\n",
       "      <td>...</td>\n",
       "      <td>1.0</td>\n",
       "      <td>0.935255</td>\n",
       "      <td>-1.0</td>\n",
       "      <td>0.193549</td>\n",
       "      <td>0.0</td>\n",
       "      <td>0.0</td>\n",
       "      <td>0.000000</td>\n",
       "      <td>0.0</td>\n",
       "      <td>0.0</td>\n",
       "      <td>0.0</td>\n",
       "    </tr>\n",
       "    <tr>\n",
       "      <th>4</th>\n",
       "      <td>1.0</td>\n",
       "      <td>-1.0</td>\n",
       "      <td>0.387097</td>\n",
       "      <td>0.259259</td>\n",
       "      <td>-1.0</td>\n",
       "      <td>0.317073</td>\n",
       "      <td>0.894737</td>\n",
       "      <td>0.878788</td>\n",
       "      <td>0.89899</td>\n",
       "      <td>-0.714286</td>\n",
       "      <td>...</td>\n",
       "      <td>1.0</td>\n",
       "      <td>0.935255</td>\n",
       "      <td>-1.0</td>\n",
       "      <td>0.096774</td>\n",
       "      <td>0.0</td>\n",
       "      <td>0.0</td>\n",
       "      <td>0.021505</td>\n",
       "      <td>0.0</td>\n",
       "      <td>0.0</td>\n",
       "      <td>0.0</td>\n",
       "    </tr>\n",
       "  </tbody>\n",
       "</table>\n",
       "<p>5 rows × 21 columns</p>\n",
       "</div>"
      ],
      "text/plain": [
       "   SID  label   SMART_1   SMART_3  SMART_5   SMART_7   SMART_9  SMART_187  \\\n",
       "0  1.0   -1.0  0.290323  0.259259     -1.0  0.317073  0.894737   0.878788   \n",
       "1  1.0   -1.0  0.322581  0.259259     -1.0  0.317073  0.894737   0.878788   \n",
       "2  1.0   -1.0  0.354839  0.259259     -1.0  0.317073  0.894737   0.878788   \n",
       "3  1.0   -1.0  0.387097  0.259259     -1.0  0.317073  0.894737   0.878788   \n",
       "4  1.0   -1.0  0.387097  0.259259     -1.0  0.317073  0.894737   0.878788   \n",
       "\n",
       "   SMART_189  SMART_194   ...     SMART_197     RAW_5  RAW_197      cg_1  \\\n",
       "0    0.89899  -0.657143   ...           1.0  0.935255     -1.0  0.193548   \n",
       "1    0.89899  -0.657143   ...           1.0  0.935255     -1.0  0.322581   \n",
       "2    0.89899  -0.657143   ...           1.0  0.935255     -1.0  0.258065   \n",
       "3    0.89899  -0.714286   ...           1.0  0.935255     -1.0  0.193549   \n",
       "4    0.89899  -0.714286   ...           1.0  0.935255     -1.0  0.096774   \n",
       "\n",
       "   cg_5  cg_187    cg_195  cg_197  cgr_5  cgr_197  \n",
       "0   0.0     0.0  0.021505     0.0    0.0      0.0  \n",
       "1   0.0     0.0  0.021505     0.0    0.0      0.0  \n",
       "2   0.0     0.0  0.000000     0.0    0.0      0.0  \n",
       "3   0.0     0.0  0.000000     0.0    0.0      0.0  \n",
       "4   0.0     0.0  0.021505     0.0    0.0      0.0  \n",
       "\n",
       "[5 rows x 21 columns]"
      ]
     },
     "execution_count": 34,
     "metadata": {},
     "output_type": "execute_result"
    }
   ],
   "source": [
    "new_bad=pd.read_csv(\"/Users/zhilinyang/Desktop/work/new_bad.csv\")\n",
    "new_bad=new_bad.iloc[:,1:]\n",
    "new_bad.head()"
   ]
  },
  {
   "cell_type": "code",
   "execution_count": 37,
   "metadata": {
    "collapsed": true
   },
   "outputs": [],
   "source": [
    "def get_healthy_train(total_df,train_df):\n",
    "    name_list=total_df['SID'].unique()\n",
    "    x=np.array(name_list)\n",
    "    it = np.nditer(x,flags=['multi_index','refs_ok'])\n",
    "    groups=total_df.groupby('SID')\n",
    "    while not it.finished:\n",
    "        ix=it.multi_index\n",
    "        obj=groups.get_group(x[ix])\n",
    "        train_size=int(len(obj)*0.7)\n",
    "        obj=obj.iloc[0:train_size+1]\n",
    "        if len(obj)>15:\n",
    "            obj=obj.sample(15)\n",
    "        train_df=train_df.append(obj)\n",
    "        it.iternext()\n",
    "    return train_df"
   ]
  },
  {
   "cell_type": "code",
   "execution_count": 43,
   "metadata": {
    "collapsed": true
   },
   "outputs": [],
   "source": [
    "def get_healthy_test(total_df,train_df):\n",
    "    name_list=total_df['SID'].unique()\n",
    "    x=np.array(name_list)\n",
    "    it = np.nditer(x,flags=['multi_index','refs_ok'])\n",
    "    groups=total_df.groupby('SID')\n",
    "    while not it.finished:\n",
    "        ix=it.multi_index\n",
    "        obj=groups.get_group(x[ix])\n",
    "        train_size=int(len(obj)*0.7)\n",
    "        obj=obj.iloc[train_size+1:]\n",
    "        if (len(obj)<3):\n",
    "            it.iternext()\n",
    "            continue\n",
    "        samples=obj.sample(3)\n",
    "        train_df=train_df.append(samples)\n",
    "        it.iternext()\n",
    "    return train_df"
   ]
  },
  {
   "cell_type": "code",
   "execution_count": 39,
   "metadata": {},
   "outputs": [
    {
     "data": {
      "text/html": [
       "<div>\n",
       "<style scoped>\n",
       "    .dataframe tbody tr th:only-of-type {\n",
       "        vertical-align: middle;\n",
       "    }\n",
       "\n",
       "    .dataframe tbody tr th {\n",
       "        vertical-align: top;\n",
       "    }\n",
       "\n",
       "    .dataframe thead th {\n",
       "        text-align: right;\n",
       "    }\n",
       "</style>\n",
       "<table border=\"1\" class=\"dataframe\">\n",
       "  <thead>\n",
       "    <tr style=\"text-align: right;\">\n",
       "      <th></th>\n",
       "      <th>SID</th>\n",
       "      <th>label</th>\n",
       "      <th>SMART_1</th>\n",
       "      <th>SMART_3</th>\n",
       "      <th>SMART_5</th>\n",
       "      <th>SMART_7</th>\n",
       "      <th>SMART_9</th>\n",
       "      <th>SMART_187</th>\n",
       "      <th>SMART_189</th>\n",
       "      <th>SMART_194</th>\n",
       "      <th>...</th>\n",
       "      <th>SMART_197</th>\n",
       "      <th>RAW_5</th>\n",
       "      <th>RAW_197</th>\n",
       "      <th>cg_1</th>\n",
       "      <th>cg_5</th>\n",
       "      <th>cg_187</th>\n",
       "      <th>cg_195</th>\n",
       "      <th>cg_197</th>\n",
       "      <th>cgr_5</th>\n",
       "      <th>cgr_197</th>\n",
       "    </tr>\n",
       "  </thead>\n",
       "  <tbody>\n",
       "    <tr>\n",
       "      <th>88</th>\n",
       "      <td>447.0</td>\n",
       "      <td>1.0</td>\n",
       "      <td>0.419355</td>\n",
       "      <td>1.0</td>\n",
       "      <td>1.0</td>\n",
       "      <td>0.536585</td>\n",
       "      <td>0.052632</td>\n",
       "      <td>1.0</td>\n",
       "      <td>0.69697</td>\n",
       "      <td>-0.485714</td>\n",
       "      <td>...</td>\n",
       "      <td>1.0</td>\n",
       "      <td>-0.998582</td>\n",
       "      <td>-1.0</td>\n",
       "      <td>0.129032</td>\n",
       "      <td>0.0</td>\n",
       "      <td>0.0</td>\n",
       "      <td>0.000000</td>\n",
       "      <td>0.0</td>\n",
       "      <td>0.0</td>\n",
       "      <td>0.0</td>\n",
       "    </tr>\n",
       "    <tr>\n",
       "      <th>106</th>\n",
       "      <td>447.0</td>\n",
       "      <td>1.0</td>\n",
       "      <td>0.419355</td>\n",
       "      <td>1.0</td>\n",
       "      <td>1.0</td>\n",
       "      <td>0.536585</td>\n",
       "      <td>0.052632</td>\n",
       "      <td>1.0</td>\n",
       "      <td>0.69697</td>\n",
       "      <td>-0.485714</td>\n",
       "      <td>...</td>\n",
       "      <td>1.0</td>\n",
       "      <td>-0.998582</td>\n",
       "      <td>-1.0</td>\n",
       "      <td>0.032258</td>\n",
       "      <td>0.0</td>\n",
       "      <td>0.0</td>\n",
       "      <td>0.043010</td>\n",
       "      <td>0.0</td>\n",
       "      <td>0.0</td>\n",
       "      <td>0.0</td>\n",
       "    </tr>\n",
       "    <tr>\n",
       "      <th>65</th>\n",
       "      <td>447.0</td>\n",
       "      <td>1.0</td>\n",
       "      <td>-0.096774</td>\n",
       "      <td>1.0</td>\n",
       "      <td>1.0</td>\n",
       "      <td>0.536585</td>\n",
       "      <td>0.052632</td>\n",
       "      <td>1.0</td>\n",
       "      <td>0.69697</td>\n",
       "      <td>-0.542857</td>\n",
       "      <td>...</td>\n",
       "      <td>1.0</td>\n",
       "      <td>-0.998582</td>\n",
       "      <td>-1.0</td>\n",
       "      <td>0.483871</td>\n",
       "      <td>0.0</td>\n",
       "      <td>0.0</td>\n",
       "      <td>0.000000</td>\n",
       "      <td>0.0</td>\n",
       "      <td>0.0</td>\n",
       "      <td>0.0</td>\n",
       "    </tr>\n",
       "    <tr>\n",
       "      <th>33</th>\n",
       "      <td>447.0</td>\n",
       "      <td>1.0</td>\n",
       "      <td>0.451613</td>\n",
       "      <td>1.0</td>\n",
       "      <td>1.0</td>\n",
       "      <td>0.536585</td>\n",
       "      <td>0.052632</td>\n",
       "      <td>1.0</td>\n",
       "      <td>0.69697</td>\n",
       "      <td>-0.542857</td>\n",
       "      <td>...</td>\n",
       "      <td>1.0</td>\n",
       "      <td>-0.998582</td>\n",
       "      <td>-1.0</td>\n",
       "      <td>0.258065</td>\n",
       "      <td>0.0</td>\n",
       "      <td>0.0</td>\n",
       "      <td>0.021505</td>\n",
       "      <td>0.0</td>\n",
       "      <td>0.0</td>\n",
       "      <td>0.0</td>\n",
       "    </tr>\n",
       "    <tr>\n",
       "      <th>101</th>\n",
       "      <td>447.0</td>\n",
       "      <td>1.0</td>\n",
       "      <td>0.387097</td>\n",
       "      <td>1.0</td>\n",
       "      <td>1.0</td>\n",
       "      <td>0.536585</td>\n",
       "      <td>0.052632</td>\n",
       "      <td>1.0</td>\n",
       "      <td>0.69697</td>\n",
       "      <td>-0.485714</td>\n",
       "      <td>...</td>\n",
       "      <td>1.0</td>\n",
       "      <td>-0.998582</td>\n",
       "      <td>-1.0</td>\n",
       "      <td>0.193549</td>\n",
       "      <td>0.0</td>\n",
       "      <td>0.0</td>\n",
       "      <td>0.000000</td>\n",
       "      <td>0.0</td>\n",
       "      <td>0.0</td>\n",
       "      <td>0.0</td>\n",
       "    </tr>\n",
       "  </tbody>\n",
       "</table>\n",
       "<p>5 rows × 21 columns</p>\n",
       "</div>"
      ],
      "text/plain": [
       "       SID  label   SMART_1  SMART_3  SMART_5   SMART_7   SMART_9  SMART_187  \\\n",
       "88   447.0    1.0  0.419355      1.0      1.0  0.536585  0.052632        1.0   \n",
       "106  447.0    1.0  0.419355      1.0      1.0  0.536585  0.052632        1.0   \n",
       "65   447.0    1.0 -0.096774      1.0      1.0  0.536585  0.052632        1.0   \n",
       "33   447.0    1.0  0.451613      1.0      1.0  0.536585  0.052632        1.0   \n",
       "101  447.0    1.0  0.387097      1.0      1.0  0.536585  0.052632        1.0   \n",
       "\n",
       "     SMART_189  SMART_194   ...     SMART_197     RAW_5  RAW_197      cg_1  \\\n",
       "88     0.69697  -0.485714   ...           1.0 -0.998582     -1.0  0.129032   \n",
       "106    0.69697  -0.485714   ...           1.0 -0.998582     -1.0  0.032258   \n",
       "65     0.69697  -0.542857   ...           1.0 -0.998582     -1.0  0.483871   \n",
       "33     0.69697  -0.542857   ...           1.0 -0.998582     -1.0  0.258065   \n",
       "101    0.69697  -0.485714   ...           1.0 -0.998582     -1.0  0.193549   \n",
       "\n",
       "     cg_5  cg_187    cg_195  cg_197  cgr_5  cgr_197  \n",
       "88    0.0     0.0  0.000000     0.0    0.0      0.0  \n",
       "106   0.0     0.0  0.043010     0.0    0.0      0.0  \n",
       "65    0.0     0.0  0.000000     0.0    0.0      0.0  \n",
       "33    0.0     0.0  0.021505     0.0    0.0      0.0  \n",
       "101   0.0     0.0  0.000000     0.0    0.0      0.0  \n",
       "\n",
       "[5 rows x 21 columns]"
      ]
     },
     "execution_count": 39,
     "metadata": {},
     "output_type": "execute_result"
    }
   ],
   "source": [
    "healthy_train=pd.DataFrame()\n",
    "healthy_train=get_healthy_train(new_good,healthy_train)\n",
    "healthy_train.head()"
   ]
  },
  {
   "cell_type": "code",
   "execution_count": 40,
   "metadata": {},
   "outputs": [
    {
     "name": "stdout",
     "output_type": "stream",
     "text": [
      "17210\n"
     ]
    }
   ],
   "source": [
    "print(len(healthy_train))"
   ]
  },
  {
   "cell_type": "code",
   "execution_count": 44,
   "metadata": {},
   "outputs": [
    {
     "data": {
      "text/html": [
       "<div>\n",
       "<style scoped>\n",
       "    .dataframe tbody tr th:only-of-type {\n",
       "        vertical-align: middle;\n",
       "    }\n",
       "\n",
       "    .dataframe tbody tr th {\n",
       "        vertical-align: top;\n",
       "    }\n",
       "\n",
       "    .dataframe thead th {\n",
       "        text-align: right;\n",
       "    }\n",
       "</style>\n",
       "<table border=\"1\" class=\"dataframe\">\n",
       "  <thead>\n",
       "    <tr style=\"text-align: right;\">\n",
       "      <th></th>\n",
       "      <th>SID</th>\n",
       "      <th>label</th>\n",
       "      <th>SMART_1</th>\n",
       "      <th>SMART_3</th>\n",
       "      <th>SMART_5</th>\n",
       "      <th>SMART_7</th>\n",
       "      <th>SMART_9</th>\n",
       "      <th>SMART_187</th>\n",
       "      <th>SMART_189</th>\n",
       "      <th>SMART_194</th>\n",
       "      <th>...</th>\n",
       "      <th>SMART_197</th>\n",
       "      <th>RAW_5</th>\n",
       "      <th>RAW_197</th>\n",
       "      <th>cg_1</th>\n",
       "      <th>cg_5</th>\n",
       "      <th>cg_187</th>\n",
       "      <th>cg_195</th>\n",
       "      <th>cg_197</th>\n",
       "      <th>cgr_5</th>\n",
       "      <th>cgr_197</th>\n",
       "    </tr>\n",
       "  </thead>\n",
       "  <tbody>\n",
       "    <tr>\n",
       "      <th>129</th>\n",
       "      <td>447.0</td>\n",
       "      <td>1.0</td>\n",
       "      <td>0.193548</td>\n",
       "      <td>1.0</td>\n",
       "      <td>1.0</td>\n",
       "      <td>0.536585</td>\n",
       "      <td>0.052632</td>\n",
       "      <td>1.0</td>\n",
       "      <td>0.69697</td>\n",
       "      <td>-0.542857</td>\n",
       "      <td>...</td>\n",
       "      <td>1.0</td>\n",
       "      <td>-0.998582</td>\n",
       "      <td>-1.0</td>\n",
       "      <td>0.225807</td>\n",
       "      <td>0.0</td>\n",
       "      <td>0.0</td>\n",
       "      <td>0.129033</td>\n",
       "      <td>0.0</td>\n",
       "      <td>0.0</td>\n",
       "      <td>0.0</td>\n",
       "    </tr>\n",
       "    <tr>\n",
       "      <th>125</th>\n",
       "      <td>447.0</td>\n",
       "      <td>1.0</td>\n",
       "      <td>0.451613</td>\n",
       "      <td>1.0</td>\n",
       "      <td>1.0</td>\n",
       "      <td>0.536585</td>\n",
       "      <td>0.052632</td>\n",
       "      <td>1.0</td>\n",
       "      <td>0.69697</td>\n",
       "      <td>-0.485714</td>\n",
       "      <td>...</td>\n",
       "      <td>1.0</td>\n",
       "      <td>-0.998582</td>\n",
       "      <td>-1.0</td>\n",
       "      <td>0.129032</td>\n",
       "      <td>0.0</td>\n",
       "      <td>0.0</td>\n",
       "      <td>0.086022</td>\n",
       "      <td>0.0</td>\n",
       "      <td>0.0</td>\n",
       "      <td>0.0</td>\n",
       "    </tr>\n",
       "    <tr>\n",
       "      <th>149</th>\n",
       "      <td>447.0</td>\n",
       "      <td>1.0</td>\n",
       "      <td>0.387097</td>\n",
       "      <td>1.0</td>\n",
       "      <td>1.0</td>\n",
       "      <td>0.536585</td>\n",
       "      <td>0.052632</td>\n",
       "      <td>1.0</td>\n",
       "      <td>0.69697</td>\n",
       "      <td>-0.485714</td>\n",
       "      <td>...</td>\n",
       "      <td>1.0</td>\n",
       "      <td>-0.998582</td>\n",
       "      <td>-1.0</td>\n",
       "      <td>0.322581</td>\n",
       "      <td>0.0</td>\n",
       "      <td>0.0</td>\n",
       "      <td>0.021506</td>\n",
       "      <td>0.0</td>\n",
       "      <td>0.0</td>\n",
       "      <td>0.0</td>\n",
       "    </tr>\n",
       "    <tr>\n",
       "      <th>299</th>\n",
       "      <td>483.0</td>\n",
       "      <td>1.0</td>\n",
       "      <td>0.451613</td>\n",
       "      <td>1.0</td>\n",
       "      <td>1.0</td>\n",
       "      <td>0.536585</td>\n",
       "      <td>0.157895</td>\n",
       "      <td>1.0</td>\n",
       "      <td>1.00000</td>\n",
       "      <td>-0.600000</td>\n",
       "      <td>...</td>\n",
       "      <td>1.0</td>\n",
       "      <td>-0.991493</td>\n",
       "      <td>-1.0</td>\n",
       "      <td>0.064516</td>\n",
       "      <td>0.0</td>\n",
       "      <td>0.0</td>\n",
       "      <td>0.064516</td>\n",
       "      <td>0.0</td>\n",
       "      <td>0.0</td>\n",
       "      <td>0.0</td>\n",
       "    </tr>\n",
       "    <tr>\n",
       "      <th>306</th>\n",
       "      <td>483.0</td>\n",
       "      <td>1.0</td>\n",
       "      <td>0.354839</td>\n",
       "      <td>1.0</td>\n",
       "      <td>1.0</td>\n",
       "      <td>0.536585</td>\n",
       "      <td>0.157895</td>\n",
       "      <td>1.0</td>\n",
       "      <td>1.00000</td>\n",
       "      <td>-0.600000</td>\n",
       "      <td>...</td>\n",
       "      <td>1.0</td>\n",
       "      <td>-0.991493</td>\n",
       "      <td>-1.0</td>\n",
       "      <td>0.096774</td>\n",
       "      <td>0.0</td>\n",
       "      <td>0.0</td>\n",
       "      <td>0.064516</td>\n",
       "      <td>0.0</td>\n",
       "      <td>0.0</td>\n",
       "      <td>0.0</td>\n",
       "    </tr>\n",
       "  </tbody>\n",
       "</table>\n",
       "<p>5 rows × 21 columns</p>\n",
       "</div>"
      ],
      "text/plain": [
       "       SID  label   SMART_1  SMART_3  SMART_5   SMART_7   SMART_9  SMART_187  \\\n",
       "129  447.0    1.0  0.193548      1.0      1.0  0.536585  0.052632        1.0   \n",
       "125  447.0    1.0  0.451613      1.0      1.0  0.536585  0.052632        1.0   \n",
       "149  447.0    1.0  0.387097      1.0      1.0  0.536585  0.052632        1.0   \n",
       "299  483.0    1.0  0.451613      1.0      1.0  0.536585  0.157895        1.0   \n",
       "306  483.0    1.0  0.354839      1.0      1.0  0.536585  0.157895        1.0   \n",
       "\n",
       "     SMART_189  SMART_194   ...     SMART_197     RAW_5  RAW_197      cg_1  \\\n",
       "129    0.69697  -0.542857   ...           1.0 -0.998582     -1.0  0.225807   \n",
       "125    0.69697  -0.485714   ...           1.0 -0.998582     -1.0  0.129032   \n",
       "149    0.69697  -0.485714   ...           1.0 -0.998582     -1.0  0.322581   \n",
       "299    1.00000  -0.600000   ...           1.0 -0.991493     -1.0  0.064516   \n",
       "306    1.00000  -0.600000   ...           1.0 -0.991493     -1.0  0.096774   \n",
       "\n",
       "     cg_5  cg_187    cg_195  cg_197  cgr_5  cgr_197  \n",
       "129   0.0     0.0  0.129033     0.0    0.0      0.0  \n",
       "125   0.0     0.0  0.086022     0.0    0.0      0.0  \n",
       "149   0.0     0.0  0.021506     0.0    0.0      0.0  \n",
       "299   0.0     0.0  0.064516     0.0    0.0      0.0  \n",
       "306   0.0     0.0  0.064516     0.0    0.0      0.0  \n",
       "\n",
       "[5 rows x 21 columns]"
      ]
     },
     "execution_count": 44,
     "metadata": {},
     "output_type": "execute_result"
    }
   ],
   "source": [
    "healthy_test=pd.DataFrame()\n",
    "healthy_test=get_healthy_test(new_good,healthy_test)\n",
    "healthy_test.head()"
   ]
  },
  {
   "cell_type": "code",
   "execution_count": 45,
   "metadata": {},
   "outputs": [
    {
     "data": {
      "text/plain": [
       "3441"
      ]
     },
     "execution_count": 45,
     "metadata": {},
     "output_type": "execute_result"
    }
   ],
   "source": [
    "len(healthy_test)"
   ]
  },
  {
   "cell_type": "code",
   "execution_count": 47,
   "metadata": {
    "collapsed": true
   },
   "outputs": [],
   "source": [
    "def get_lastn_samples(total_df,new_df,n,disk_list):\n",
    "    groups=total_df.groupby('SID')\n",
    "    disk_num=len(disk_list)\n",
    "    for i in range(0,disk_num):\n",
    "        obj=groups.get_group(disk_list[i])\n",
    "        if len(obj)<n:\n",
    "            continue\n",
    "        obj=obj.iloc[len(obj)-n:len(obj)]\n",
    "        new_df=new_df.append(obj)\n",
    "    return new_df"
   ]
  },
  {
   "cell_type": "code",
   "execution_count": 78,
   "metadata": {
    "collapsed": true
   },
   "outputs": [],
   "source": [
    "def time_window(N):\n",
    "    fail_samples=pd.DataFrame()\n",
    "    disk_list=new_bad['SID'].unique()\n",
    "    fail_samples=get_lastn_samples(new_bad,fail_samples,N,disk_list)\n",
    "    \n",
    "    fail_list=pd.DataFrame(fail_samples['SID'].unique())\n",
    "    train_list=fail_list.sample(frac=0.7).values\n",
    "    fail_train=pd.DataFrame()\n",
    "    fail_groups=fail_samples.groupby('SID')\n",
    "    for sid in fail_samples['SID'].unique():\n",
    "        if sid in train_list:\n",
    "            obj=fail_groups.get_group(sid)\n",
    "            fail_train=fail_train.append(obj)\n",
    "            \n",
    "    train_df=healthy_train.append(fail_train)\n",
    "    train_df=train_df.sample(frac=1)\n",
    "    y_train=train_df['label']\n",
    "    train_df=train_df.drop('label',axis=1)\n",
    "    \n",
    "    y_train[y_train==1]=0\n",
    "    y_train[y_train==-1]=1\n",
    "    \n",
    "    fail_test=pd.DataFrame()\n",
    "    for sid in fail_samples['SID'].unique():\n",
    "        if sid not in train_list:\n",
    "            obj=fail_groups.get_group(sid)\n",
    "            fail_test=fail_test.append(obj)\n",
    "            \n",
    "    test_df=healthy_test.append(fail_test)\n",
    "    test_df=test_df.sample(frac=1)\n",
    "    y_test=test_df['label']\n",
    "    test_df=test_df.drop('label',axis=1)\n",
    "    \n",
    "    y_test[y_test==1]=0\n",
    "    y_test[y_test==-1]=1\n",
    "    \n",
    "    y_train=pd.Series(y_train.values)\n",
    "    y_test=pd.Series(y_test.values)\n",
    "\n",
    "    return train_df,test_df,y_train,y_test"
   ]
  },
  {
   "cell_type": "code",
   "execution_count": 151,
   "metadata": {
    "collapsed": true
   },
   "outputs": [],
   "source": [
    "def predict_disk(testset,y_pred,disk_name_list):\n",
    "    result=[]\n",
    "    test_set=testset.groupby('SID')\n",
    "    y_pred=pd.Series(y_pred)\n",
    "    for disk in disk_name_list:\n",
    "        sample_index=test_set.get_group(disk).index\n",
    "        sample_result=y_pred.reindex(sample_index)\n",
    "        sample_result=pd.Series(sample_result)\n",
    "        if sample_result.sum()>len(sample_result)/2:\n",
    "            result.append(1)\n",
    "        else:\n",
    "            result.append(0)\n",
    "    return result"
   ]
  },
  {
   "cell_type": "code",
   "execution_count": 166,
   "metadata": {
    "collapsed": true
   },
   "outputs": [],
   "source": [
    "def diff_time_window(N):\n",
    "    dropcols=['SMART_197','RAW_197','cg_5','cg_187','cg_197','cgr_197']\n",
    "    train_df,test_df,y_train,y_test=time_window(N)\n",
    "    train_df=train_df.drop(dropcols,axis=1)\n",
    "    test_df=test_df.drop(dropcols,axis=1)\n",
    "    test_df.index=range(0,len(test_df))\n",
    "    from sklearn.tree import DecisionTreeClassifier\n",
    "    DT=DecisionTreeClassifier(criterion='entropy',min_samples_split = 20, min_samples_leaf = 7, min_impurity_decrease = 0.001,class_weight={0:1,1:2})\n",
    "    DT.fit(train_df.iloc[:,1:],y_train.values)\n",
    "    y_pred=DT.predict(test_df.iloc[:,1:])\n",
    "    CT_FDR=disk_FDR(test_df,y_pred,y_test) #For DT\n",
    "    CT_FAR=disk_FAR(test_df,y_pred,y_test) #For DT\n",
    "    print(\"DT FDR: %f, DT FAR: %f\" %(CT_FDR, CT_FAR))"
   ]
  },
  {
   "cell_type": "code",
   "execution_count": 167,
   "metadata": {},
   "outputs": [
    {
     "name": "stdout",
     "output_type": "stream",
     "text": [
      "DT FDR: 0.922481, DT FAR: 0.003487\n"
     ]
    }
   ],
   "source": [
    "diff_time_window(12)"
   ]
  },
  {
   "cell_type": "code",
   "execution_count": 168,
   "metadata": {},
   "outputs": [
    {
     "name": "stdout",
     "output_type": "stream",
     "text": [
      "DT FDR: 0.952756, DT FAR: 0.005231\n"
     ]
    }
   ],
   "source": [
    "diff_time_window(24)"
   ]
  },
  {
   "cell_type": "code",
   "execution_count": 169,
   "metadata": {},
   "outputs": [
    {
     "name": "stdout",
     "output_type": "stream",
     "text": [
      "DT FDR: 0.928571, DT FAR: 0.005231\n"
     ]
    }
   ],
   "source": [
    "diff_time_window(48)"
   ]
  },
  {
   "cell_type": "code",
   "execution_count": 170,
   "metadata": {},
   "outputs": [
    {
     "name": "stdout",
     "output_type": "stream",
     "text": [
      "DT FDR: 0.966942, DT FAR: 0.016565\n"
     ]
    }
   ],
   "source": [
    "diff_time_window(96)"
   ]
  },
  {
   "cell_type": "code",
   "execution_count": 171,
   "metadata": {},
   "outputs": [
    {
     "name": "stdout",
     "output_type": "stream",
     "text": [
      "DT FDR: 0.945455, DT FAR: 0.014821\n"
     ]
    }
   ],
   "source": [
    "diff_time_window(168)"
   ]
  },
  {
   "cell_type": "code",
   "execution_count": 172,
   "metadata": {},
   "outputs": [
    {
     "name": "stdout",
     "output_type": "stream",
     "text": [
      "DT FDR: 0.958763, DT FAR: 0.015693\n"
     ]
    }
   ],
   "source": [
    "diff_time_window(240)"
   ]
  },
  {
   "cell_type": "code",
   "execution_count": null,
   "metadata": {
    "collapsed": true
   },
   "outputs": [],
   "source": [
    "new_df=new_good.append(new_bad)"
   ]
  },
  {
   "cell_type": "code",
   "execution_count": 149,
   "metadata": {
    "collapsed": true
   },
   "outputs": [],
   "source": [
    "def test_voting(N):\n",
    "    new_test=pd.DataFrame()\n",
    "    disk_list=test_df3['SID'].unique().sample(frac=0.1)\n",
    "    new_test=get_lastn_samples(df,new_test,N,disk_list)\n",
    "    y_predDT=DT.predict(new_test.iloc[:,1:])\n",
    "    FDR1=disk_FDR(test_df3,y_pred3,y_test2)\n",
    "    FAR1=disk_FAR(test_df3,y_pred3,y_test2) \n",
    "    y_predNN=clf.predict(new_test.iloc[:,1:])\n",
    "    FDR2=disk_FDR(test_df3,y_pred3,y_test2) \n",
    "    FAR2=disk_FAR(test_df3,y_pred3,y_test2) \n",
    "    print(\"DT FDR: %f, DT FAR: %f, NN FDR: %f, NN FAR: %f\"% (FDR1, FAR1, FDR2, FAR2))"
   ]
  },
  {
   "cell_type": "code",
   "execution_count": 173,
   "metadata": {
    "collapsed": true
   },
   "outputs": [],
   "source": [
    "healthy_train.to_csv(\"/Users/zhilinyang/Desktop/work/healthy_train.csv\")"
   ]
  },
  {
   "cell_type": "code",
   "execution_count": 174,
   "metadata": {
    "collapsed": true
   },
   "outputs": [],
   "source": [
    "healthy_test.to_csv(\"/Users/zhilinyang/Desktop/work/healthy_test.csv\")"
   ]
  }
 ],
 "metadata": {
  "kernelspec": {
   "display_name": "Python 3",
   "language": "python",
   "name": "python3"
  },
  "language_info": {
   "codemirror_mode": {
    "name": "ipython",
    "version": 3
   },
   "file_extension": ".py",
   "mimetype": "text/x-python",
   "name": "python",
   "nbconvert_exporter": "python",
   "pygments_lexer": "ipython3",
   "version": "3.6.3"
  }
 },
 "nbformat": 4,
 "nbformat_minor": 2
}
