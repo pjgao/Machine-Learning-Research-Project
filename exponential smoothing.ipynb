{
 "cells": [
  {
   "cell_type": "code",
   "execution_count": 2,
   "metadata": {
    "collapsed": true
   },
   "outputs": [],
   "source": [
    "import pandas as pd\n",
    "import numpy as np\n",
    "import matplotlib.pyplot as plt"
   ]
  },
  {
   "cell_type": "code",
   "execution_count": 2,
   "metadata": {
    "collapsed": true
   },
   "outputs": [],
   "source": [
    "featuresST = ['smart_1_normalized','smart_1_raw',\n",
    "            'smart_5_normalized','smart_5_raw',\n",
    "            'smart_7_normalized','smart_7_raw',\n",
    "            'smart_184_normalized','smart_184_raw',\n",
    "            'smart_188_raw','smart_240_raw',\n",
    "            'smart_189_normalized','smart_189_raw',\n",
    "            'smart_190_normalized','smart_190_raw',\n",
    "            'smart_193_normalized','smart_193_raw',\n",
    "            'smart_194_normalized','smart_194_raw',\n",
    "            'smart_197_normalized','smart_197_raw',\n",
    "            'smart_198_normalized','smart_198_raw',\n",
    "            'smart_241_raw','smart_242_raw']"
   ]
  },
  {
   "cell_type": "code",
   "execution_count": 3,
   "metadata": {
    "scrolled": true
   },
   "outputs": [
    {
     "name": "stderr",
     "output_type": "stream",
     "text": [
      "/Users/zhilinyang/anaconda3/lib/python3.6/site-packages/IPython/core/interactiveshell.py:2698: DtypeWarning: Columns (2,3,4,5,6,7,8,9,10,11,12,13,14,15,16,17,18,19,20,21,22,23,24,25,26) have mixed types. Specify dtype option on import or set low_memory=False.\n",
      "  interactivity=interactivity, compiler=compiler, result=result)\n"
     ]
    },
    {
     "data": {
      "text/html": [
       "<div>\n",
       "<style scoped>\n",
       "    .dataframe tbody tr th:only-of-type {\n",
       "        vertical-align: middle;\n",
       "    }\n",
       "\n",
       "    .dataframe tbody tr th {\n",
       "        vertical-align: top;\n",
       "    }\n",
       "\n",
       "    .dataframe thead th {\n",
       "        text-align: right;\n",
       "    }\n",
       "</style>\n",
       "<table border=\"1\" class=\"dataframe\">\n",
       "  <thead>\n",
       "    <tr style=\"text-align: right;\">\n",
       "      <th></th>\n",
       "      <th>date</th>\n",
       "      <th>serial_number</th>\n",
       "      <th>smart_1_normalized</th>\n",
       "      <th>smart_1_raw</th>\n",
       "      <th>smart_5_normalized</th>\n",
       "      <th>smart_5_raw</th>\n",
       "      <th>smart_7_normalized</th>\n",
       "      <th>smart_7_raw</th>\n",
       "      <th>smart_184_normalized</th>\n",
       "      <th>smart_184_raw</th>\n",
       "      <th>...</th>\n",
       "      <th>smart_193_raw</th>\n",
       "      <th>smart_194_normalized</th>\n",
       "      <th>smart_194_raw</th>\n",
       "      <th>smart_197_normalized</th>\n",
       "      <th>smart_197_raw</th>\n",
       "      <th>smart_198_normalized</th>\n",
       "      <th>smart_198_raw</th>\n",
       "      <th>smart_241_raw</th>\n",
       "      <th>smart_242_raw</th>\n",
       "      <th>failure</th>\n",
       "    </tr>\n",
       "  </thead>\n",
       "  <tbody>\n",
       "    <tr>\n",
       "      <th>1</th>\n",
       "      <td>2017-01-01</td>\n",
       "      <td>Z305B2QN</td>\n",
       "      <td>113</td>\n",
       "      <td>58173272</td>\n",
       "      <td>100</td>\n",
       "      <td>0</td>\n",
       "      <td>85</td>\n",
       "      <td>388359773</td>\n",
       "      <td>100</td>\n",
       "      <td>0</td>\n",
       "      <td>...</td>\n",
       "      <td>33904</td>\n",
       "      <td>24</td>\n",
       "      <td>24</td>\n",
       "      <td>100</td>\n",
       "      <td>0</td>\n",
       "      <td>100</td>\n",
       "      <td>0</td>\n",
       "      <td>30780539952</td>\n",
       "      <td>8290868549</td>\n",
       "      <td>0</td>\n",
       "    </tr>\n",
       "    <tr>\n",
       "      <th>2</th>\n",
       "      <td>2017-01-01</td>\n",
       "      <td>Z302A0YH</td>\n",
       "      <td>114</td>\n",
       "      <td>75626904</td>\n",
       "      <td>100</td>\n",
       "      <td>0</td>\n",
       "      <td>88</td>\n",
       "      <td>785458463</td>\n",
       "      <td>100</td>\n",
       "      <td>0</td>\n",
       "      <td>...</td>\n",
       "      <td>39656</td>\n",
       "      <td>19</td>\n",
       "      <td>19</td>\n",
       "      <td>100</td>\n",
       "      <td>0</td>\n",
       "      <td>100</td>\n",
       "      <td>0</td>\n",
       "      <td>21648124248</td>\n",
       "      <td>162013891630</td>\n",
       "      <td>0</td>\n",
       "    </tr>\n",
       "    <tr>\n",
       "      <th>3</th>\n",
       "      <td>2017-01-01</td>\n",
       "      <td>Z305BT0W</td>\n",
       "      <td>112</td>\n",
       "      <td>48893128</td>\n",
       "      <td>100</td>\n",
       "      <td>0</td>\n",
       "      <td>84</td>\n",
       "      <td>316494047</td>\n",
       "      <td>100</td>\n",
       "      <td>0</td>\n",
       "      <td>...</td>\n",
       "      <td>9073</td>\n",
       "      <td>30</td>\n",
       "      <td>30</td>\n",
       "      <td>100</td>\n",
       "      <td>0</td>\n",
       "      <td>100</td>\n",
       "      <td>0</td>\n",
       "      <td>26168289344</td>\n",
       "      <td>15892146696</td>\n",
       "      <td>0</td>\n",
       "    </tr>\n",
       "    <tr>\n",
       "      <th>4</th>\n",
       "      <td>2017-01-01</td>\n",
       "      <td>Z302A0YE</td>\n",
       "      <td>118</td>\n",
       "      <td>192617016</td>\n",
       "      <td>100</td>\n",
       "      <td>0</td>\n",
       "      <td>75</td>\n",
       "      <td>41700086</td>\n",
       "      <td>100</td>\n",
       "      <td>0</td>\n",
       "      <td>...</td>\n",
       "      <td>14150</td>\n",
       "      <td>21</td>\n",
       "      <td>21</td>\n",
       "      <td>100</td>\n",
       "      <td>0</td>\n",
       "      <td>100</td>\n",
       "      <td>0</td>\n",
       "      <td>21261063502</td>\n",
       "      <td>236386123294</td>\n",
       "      <td>0</td>\n",
       "    </tr>\n",
       "    <tr>\n",
       "      <th>5</th>\n",
       "      <td>2017-01-01</td>\n",
       "      <td>Z302PGH8</td>\n",
       "      <td>114</td>\n",
       "      <td>83211536</td>\n",
       "      <td>100</td>\n",
       "      <td>0</td>\n",
       "      <td>87</td>\n",
       "      <td>640624192</td>\n",
       "      <td>100</td>\n",
       "      <td>0</td>\n",
       "      <td>...</td>\n",
       "      <td>46664</td>\n",
       "      <td>25</td>\n",
       "      <td>25</td>\n",
       "      <td>100</td>\n",
       "      <td>0</td>\n",
       "      <td>100</td>\n",
       "      <td>0</td>\n",
       "      <td>16191633244</td>\n",
       "      <td>71986710022</td>\n",
       "      <td>0</td>\n",
       "    </tr>\n",
       "  </tbody>\n",
       "</table>\n",
       "<p>5 rows × 27 columns</p>\n",
       "</div>"
      ],
      "text/plain": [
       "0        date serial_number smart_1_normalized smart_1_raw smart_5_normalized  \\\n",
       "1  2017-01-01      Z305B2QN                113    58173272                100   \n",
       "2  2017-01-01      Z302A0YH                114    75626904                100   \n",
       "3  2017-01-01      Z305BT0W                112    48893128                100   \n",
       "4  2017-01-01      Z302A0YE                118   192617016                100   \n",
       "5  2017-01-01      Z302PGH8                114    83211536                100   \n",
       "\n",
       "0 smart_5_raw smart_7_normalized smart_7_raw smart_184_normalized  \\\n",
       "1           0                 85   388359773                  100   \n",
       "2           0                 88   785458463                  100   \n",
       "3           0                 84   316494047                  100   \n",
       "4           0                 75    41700086                  100   \n",
       "5           0                 87   640624192                  100   \n",
       "\n",
       "0 smart_184_raw   ...   smart_193_raw smart_194_normalized smart_194_raw  \\\n",
       "1             0   ...           33904                   24            24   \n",
       "2             0   ...           39656                   19            19   \n",
       "3             0   ...            9073                   30            30   \n",
       "4             0   ...           14150                   21            21   \n",
       "5             0   ...           46664                   25            25   \n",
       "\n",
       "0 smart_197_normalized smart_197_raw smart_198_normalized smart_198_raw  \\\n",
       "1                  100             0                  100             0   \n",
       "2                  100             0                  100             0   \n",
       "3                  100             0                  100             0   \n",
       "4                  100             0                  100             0   \n",
       "5                  100             0                  100             0   \n",
       "\n",
       "0 smart_241_raw smart_242_raw failure  \n",
       "1   30780539952    8290868549       0  \n",
       "2   21648124248  162013891630       0  \n",
       "3   26168289344   15892146696       0  \n",
       "4   21261063502  236386123294       0  \n",
       "5   16191633244   71986710022       0  \n",
       "\n",
       "[5 rows x 27 columns]"
      ]
     },
     "execution_count": 3,
     "metadata": {},
     "output_type": "execute_result"
    }
   ],
   "source": [
    "df=pd.read_csv(\"/Users/zhilinyang/Desktop/STA_combine.csv\",header=None)\n",
    "colname = df.iloc[0]\n",
    "df = df.iloc[1:]\n",
    "df.columns = colname\n",
    "df.head()"
   ]
  },
  {
   "cell_type": "code",
   "execution_count": 4,
   "metadata": {},
   "outputs": [
    {
     "data": {
      "text/plain": [
       "35189"
      ]
     },
     "execution_count": 4,
     "metadata": {},
     "output_type": "execute_result"
    }
   ],
   "source": [
    "x_train=pd.DataFrame()\n",
    "sample_list=df['serial_number'].unique()\n",
    "len(sample_list)"
   ]
  },
  {
   "cell_type": "code",
   "execution_count": 7,
   "metadata": {
    "scrolled": true
   },
   "outputs": [
    {
     "name": "stdout",
     "output_type": "stream",
     "text": [
      "88.0\n",
      "88.0\n",
      "87.9999999999\n",
      "87.9999999716\n",
      "87.9999989967\n",
      "87.9999897647\n",
      "87.9999477379\n",
      "87.9998256879\n",
      "87.9995609664\n",
      "87.9990900449\n",
      "87.9983614947\n",
      "87.9973430135\n",
      "87.9960226061\n",
      "87.9944059577\n",
      "87.9925121118\n",
      "87.9903689257\n",
      "87.9880090998\n",
      "87.9854670789\n",
      "87.9827768406\n",
      "87.9799704495\n",
      "87.9770772096\n",
      "87.9741232564\n",
      "87.9711314506\n",
      "87.9681214668\n",
      "87.9651100009\n",
      "87.9621110384\n",
      "87.9591361483\n",
      "87.9561947777\n",
      "87.9532945329\n",
      "87.9504414384\n",
      "87.9476401713\n",
      "87.9448942679\n",
      "87.9422063057\n",
      "87.9395780606\n",
      "87.9370106425\n",
      "87.9345046112\n",
      "87.9320600748\n",
      "87.9296767734\n",
      "87.9273541498\n",
      "87.9250914087\n",
      "87.9228875665\n",
      "87.9207414933\n"
     ]
    }
   ],
   "source": [
    "sample=df[df.iloc[:,1].str.match('Z3029FAS')]\n",
    "for i in range(1,len(sample)):\n",
    "    arr=(sample['smart_7_normalized'].ewm(span=i).mean()).values\n",
    "    print(arr[-1])"
   ]
  },
  {
   "cell_type": "code",
   "execution_count": null,
   "metadata": {
    "collapsed": true
   },
   "outputs": [],
   "source": []
  },
  {
   "cell_type": "markdown",
   "metadata": {},
   "source": [
    "By observation, the weighted average will not be affected largely by the choice of window width. Hence, I intend to choose the mean value of possible width."
   ]
  },
  {
   "cell_type": "code",
   "execution_count": null,
   "metadata": {
    "scrolled": false
   },
   "outputs": [],
   "source": [
    "num=9300\n",
    "x_train=pd.DataFrame()\n",
    "for sample_name in sample_list[9300:]:\n",
    "    sample=df.groupby(['serial_number']).get_group(sample_name)\n",
    "    train_sample=[]\n",
    "    i=(1+len(sample))/2\n",
    "    for feature in featuresST:\n",
    "        arr=(sample[feature].ewm(span=i).mean()).values\n",
    "        train_sample.append(arr[-1])\n",
    "    train_vals=(pd.DataFrame(train_sample)).T\n",
    "    x_train=x_train.append(train_vals,ignore_index=True)\n",
    "    num=num+1\n",
    "    print(num)"
   ]
  },
  {
   "cell_type": "code",
   "execution_count": 6,
   "metadata": {},
   "outputs": [
    {
     "name": "stdout",
     "output_type": "stream",
     "text": [
      "done\n"
     ]
    }
   ],
   "source": [
    "x_train.to_csv(path_or_buf='/Users/zhilinyang/Desktop/x_train.csv',index=False, mode='a')\n",
    "print('done')"
   ]
  },
  {
   "cell_type": "code",
   "execution_count": null,
   "metadata": {
    "collapsed": true
   },
   "outputs": [],
   "source": []
  }
 ],
 "metadata": {
  "kernelspec": {
   "display_name": "Python 3",
   "language": "python",
   "name": "python3"
  },
  "language_info": {
   "codemirror_mode": {
    "name": "ipython",
    "version": 3
   },
   "file_extension": ".py",
   "mimetype": "text/x-python",
   "name": "python",
   "nbconvert_exporter": "python",
   "pygments_lexer": "ipython3",
   "version": "3.6.3"
  }
 },
 "nbformat": 4,
 "nbformat_minor": 2
}
