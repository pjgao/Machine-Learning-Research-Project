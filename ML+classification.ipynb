{
 "cells": [
  {
   "cell_type": "code",
   "execution_count": 37,
   "metadata": {
    "collapsed": true
   },
   "outputs": [],
   "source": [
    "import pandas as pd\n",
    "import numpy as np\n",
    "from sklearn.model_selection import cross_val_score"
   ]
  },
  {
   "cell_type": "code",
   "execution_count": 38,
   "metadata": {},
   "outputs": [
    {
     "data": {
      "text/plain": [
       "1480"
      ]
     },
     "execution_count": 38,
     "metadata": {},
     "output_type": "execute_result"
    }
   ],
   "source": [
    "X_train=pd.read_csv('/Users/zhilinyang/Desktop/train_x_A.csv',header=None)\n",
    "X_train=X_train.iloc[1:]\n",
    "len(X_train)"
   ]
  },
  {
   "cell_type": "code",
   "execution_count": 39,
   "metadata": {
    "scrolled": true
   },
   "outputs": [
    {
     "data": {
      "text/html": [
       "<div>\n",
       "<style scoped>\n",
       "    .dataframe tbody tr th:only-of-type {\n",
       "        vertical-align: middle;\n",
       "    }\n",
       "\n",
       "    .dataframe tbody tr th {\n",
       "        vertical-align: top;\n",
       "    }\n",
       "\n",
       "    .dataframe thead th {\n",
       "        text-align: right;\n",
       "    }\n",
       "</style>\n",
       "<table border=\"1\" class=\"dataframe\">\n",
       "  <thead>\n",
       "    <tr style=\"text-align: right;\">\n",
       "      <th></th>\n",
       "      <th>0</th>\n",
       "      <th>1</th>\n",
       "      <th>2</th>\n",
       "      <th>3</th>\n",
       "      <th>4</th>\n",
       "      <th>5</th>\n",
       "      <th>6</th>\n",
       "      <th>7</th>\n",
       "      <th>8</th>\n",
       "      <th>9</th>\n",
       "      <th>...</th>\n",
       "      <th>14</th>\n",
       "      <th>15</th>\n",
       "      <th>16</th>\n",
       "      <th>17</th>\n",
       "      <th>18</th>\n",
       "      <th>19</th>\n",
       "      <th>20</th>\n",
       "      <th>21</th>\n",
       "      <th>22</th>\n",
       "      <th>23</th>\n",
       "    </tr>\n",
       "  </thead>\n",
       "  <tbody>\n",
       "    <tr>\n",
       "      <th>1</th>\n",
       "      <td>114.988769</td>\n",
       "      <td>1.173018e+08</td>\n",
       "      <td>100.0</td>\n",
       "      <td>0.0</td>\n",
       "      <td>88.840062</td>\n",
       "      <td>8.341604e+08</td>\n",
       "      <td>100.0</td>\n",
       "      <td>0.0</td>\n",
       "      <td>0.0</td>\n",
       "      <td>23423.147906</td>\n",
       "      <td>...</td>\n",
       "      <td>81.093366</td>\n",
       "      <td>39281.881774</td>\n",
       "      <td>32.143074</td>\n",
       "      <td>32.143074</td>\n",
       "      <td>100.0</td>\n",
       "      <td>0.0</td>\n",
       "      <td>100.0</td>\n",
       "      <td>0.0</td>\n",
       "      <td>2.093917e+10</td>\n",
       "      <td>9.043679e+10</td>\n",
       "    </tr>\n",
       "    <tr>\n",
       "      <th>2</th>\n",
       "      <td>115.569151</td>\n",
       "      <td>1.278450e+08</td>\n",
       "      <td>100.0</td>\n",
       "      <td>0.0</td>\n",
       "      <td>88.834662</td>\n",
       "      <td>8.335475e+08</td>\n",
       "      <td>100.0</td>\n",
       "      <td>0.0</td>\n",
       "      <td>0.0</td>\n",
       "      <td>23422.579683</td>\n",
       "      <td>...</td>\n",
       "      <td>80.447895</td>\n",
       "      <td>39336.745193</td>\n",
       "      <td>30.065628</td>\n",
       "      <td>30.065628</td>\n",
       "      <td>100.0</td>\n",
       "      <td>0.0</td>\n",
       "      <td>100.0</td>\n",
       "      <td>0.0</td>\n",
       "      <td>2.094975e+10</td>\n",
       "      <td>9.027278e+10</td>\n",
       "    </tr>\n",
       "    <tr>\n",
       "      <th>3</th>\n",
       "      <td>115.307311</td>\n",
       "      <td>1.294027e+08</td>\n",
       "      <td>100.0</td>\n",
       "      <td>0.0</td>\n",
       "      <td>88.842702</td>\n",
       "      <td>8.349597e+08</td>\n",
       "      <td>100.0</td>\n",
       "      <td>0.0</td>\n",
       "      <td>0.0</td>\n",
       "      <td>23425.302590</td>\n",
       "      <td>...</td>\n",
       "      <td>80.447895</td>\n",
       "      <td>39314.998048</td>\n",
       "      <td>30.458847</td>\n",
       "      <td>30.458847</td>\n",
       "      <td>100.0</td>\n",
       "      <td>0.0</td>\n",
       "      <td>100.0</td>\n",
       "      <td>0.0</td>\n",
       "      <td>2.094574e+10</td>\n",
       "      <td>9.009846e+10</td>\n",
       "    </tr>\n",
       "    <tr>\n",
       "      <th>4</th>\n",
       "      <td>115.049196</td>\n",
       "      <td>1.208911e+08</td>\n",
       "      <td>100.0</td>\n",
       "      <td>0.0</td>\n",
       "      <td>88.826255</td>\n",
       "      <td>8.318848e+08</td>\n",
       "      <td>100.0</td>\n",
       "      <td>0.0</td>\n",
       "      <td>0.0</td>\n",
       "      <td>23422.931048</td>\n",
       "      <td>...</td>\n",
       "      <td>80.445098</td>\n",
       "      <td>39481.919253</td>\n",
       "      <td>31.160019</td>\n",
       "      <td>31.160019</td>\n",
       "      <td>100.0</td>\n",
       "      <td>0.0</td>\n",
       "      <td>100.0</td>\n",
       "      <td>0.0</td>\n",
       "      <td>2.094288e+10</td>\n",
       "      <td>9.009483e+10</td>\n",
       "    </tr>\n",
       "    <tr>\n",
       "      <th>5</th>\n",
       "      <td>115.033410</td>\n",
       "      <td>1.195309e+08</td>\n",
       "      <td>100.0</td>\n",
       "      <td>0.0</td>\n",
       "      <td>88.792013</td>\n",
       "      <td>8.261388e+08</td>\n",
       "      <td>100.0</td>\n",
       "      <td>0.0</td>\n",
       "      <td>0.0</td>\n",
       "      <td>23435.059668</td>\n",
       "      <td>...</td>\n",
       "      <td>80.414296</td>\n",
       "      <td>39572.514102</td>\n",
       "      <td>30.767806</td>\n",
       "      <td>30.767806</td>\n",
       "      <td>100.0</td>\n",
       "      <td>0.0</td>\n",
       "      <td>100.0</td>\n",
       "      <td>0.0</td>\n",
       "      <td>2.088422e+10</td>\n",
       "      <td>9.009779e+10</td>\n",
       "    </tr>\n",
       "  </tbody>\n",
       "</table>\n",
       "<p>5 rows × 24 columns</p>\n",
       "</div>"
      ],
      "text/plain": [
       "           0             1      2    3          4             5      6    7   \\\n",
       "1  114.988769  1.173018e+08  100.0  0.0  88.840062  8.341604e+08  100.0  0.0   \n",
       "2  115.569151  1.278450e+08  100.0  0.0  88.834662  8.335475e+08  100.0  0.0   \n",
       "3  115.307311  1.294027e+08  100.0  0.0  88.842702  8.349597e+08  100.0  0.0   \n",
       "4  115.049196  1.208911e+08  100.0  0.0  88.826255  8.318848e+08  100.0  0.0   \n",
       "5  115.033410  1.195309e+08  100.0  0.0  88.792013  8.261388e+08  100.0  0.0   \n",
       "\n",
       "    8             9       ...              14            15         16  \\\n",
       "1  0.0  23423.147906      ...       81.093366  39281.881774  32.143074   \n",
       "2  0.0  23422.579683      ...       80.447895  39336.745193  30.065628   \n",
       "3  0.0  23425.302590      ...       80.447895  39314.998048  30.458847   \n",
       "4  0.0  23422.931048      ...       80.445098  39481.919253  31.160019   \n",
       "5  0.0  23435.059668      ...       80.414296  39572.514102  30.767806   \n",
       "\n",
       "          17     18   19     20   21            22            23  \n",
       "1  32.143074  100.0  0.0  100.0  0.0  2.093917e+10  9.043679e+10  \n",
       "2  30.065628  100.0  0.0  100.0  0.0  2.094975e+10  9.027278e+10  \n",
       "3  30.458847  100.0  0.0  100.0  0.0  2.094574e+10  9.009846e+10  \n",
       "4  31.160019  100.0  0.0  100.0  0.0  2.094288e+10  9.009483e+10  \n",
       "5  30.767806  100.0  0.0  100.0  0.0  2.088422e+10  9.009779e+10  \n",
       "\n",
       "[5 rows x 24 columns]"
      ]
     },
     "execution_count": 39,
     "metadata": {},
     "output_type": "execute_result"
    }
   ],
   "source": [
    "X_train.head()"
   ]
  },
  {
   "cell_type": "code",
   "execution_count": 40,
   "metadata": {},
   "outputs": [
    {
     "data": {
      "text/plain": [
       "array([0, 0, 0, ..., 1, 1, 1])"
      ]
     },
     "execution_count": 40,
     "metadata": {},
     "output_type": "execute_result"
    }
   ],
   "source": [
    "y=[0 for i in range(0,1000)]+[1 for i in range(0,480)]\n",
    "y_train=np.array(y)\n",
    "y_train"
   ]
  },
  {
   "cell_type": "code",
   "execution_count": 44,
   "metadata": {},
   "outputs": [
    {
     "data": {
      "text/html": [
       "<div>\n",
       "<style scoped>\n",
       "    .dataframe tbody tr th:only-of-type {\n",
       "        vertical-align: middle;\n",
       "    }\n",
       "\n",
       "    .dataframe tbody tr th {\n",
       "        vertical-align: top;\n",
       "    }\n",
       "\n",
       "    .dataframe thead th {\n",
       "        text-align: right;\n",
       "    }\n",
       "</style>\n",
       "<table border=\"1\" class=\"dataframe\">\n",
       "  <thead>\n",
       "    <tr style=\"text-align: right;\">\n",
       "      <th></th>\n",
       "      <th>0</th>\n",
       "    </tr>\n",
       "  </thead>\n",
       "  <tbody>\n",
       "    <tr>\n",
       "      <th>1</th>\n",
       "      <td>0</td>\n",
       "    </tr>\n",
       "    <tr>\n",
       "      <th>2</th>\n",
       "      <td>0</td>\n",
       "    </tr>\n",
       "    <tr>\n",
       "      <th>3</th>\n",
       "      <td>0</td>\n",
       "    </tr>\n",
       "    <tr>\n",
       "      <th>4</th>\n",
       "      <td>0</td>\n",
       "    </tr>\n",
       "    <tr>\n",
       "      <th>5</th>\n",
       "      <td>0</td>\n",
       "    </tr>\n",
       "  </tbody>\n",
       "</table>\n",
       "</div>"
      ],
      "text/plain": [
       "   0\n",
       "1  0\n",
       "2  0\n",
       "3  0\n",
       "4  0\n",
       "5  0"
      ]
     },
     "execution_count": 44,
     "metadata": {},
     "output_type": "execute_result"
    }
   ],
   "source": [
    "y_train_df=pd.DataFrame(y_train,index=range(1,1481))\n",
    "y_train_df.head()"
   ]
  },
  {
   "cell_type": "code",
   "execution_count": 45,
   "metadata": {
    "scrolled": true
   },
   "outputs": [
    {
     "data": {
      "text/html": [
       "<div>\n",
       "<style scoped>\n",
       "    .dataframe tbody tr th:only-of-type {\n",
       "        vertical-align: middle;\n",
       "    }\n",
       "\n",
       "    .dataframe tbody tr th {\n",
       "        vertical-align: top;\n",
       "    }\n",
       "\n",
       "    .dataframe thead th {\n",
       "        text-align: right;\n",
       "    }\n",
       "</style>\n",
       "<table border=\"1\" class=\"dataframe\">\n",
       "  <thead>\n",
       "    <tr style=\"text-align: right;\">\n",
       "      <th></th>\n",
       "      <th>0</th>\n",
       "      <th>1</th>\n",
       "      <th>2</th>\n",
       "      <th>3</th>\n",
       "      <th>4</th>\n",
       "      <th>5</th>\n",
       "      <th>6</th>\n",
       "      <th>7</th>\n",
       "      <th>8</th>\n",
       "      <th>9</th>\n",
       "      <th>...</th>\n",
       "      <th>15</th>\n",
       "      <th>16</th>\n",
       "      <th>17</th>\n",
       "      <th>18</th>\n",
       "      <th>19</th>\n",
       "      <th>20</th>\n",
       "      <th>21</th>\n",
       "      <th>22</th>\n",
       "      <th>23</th>\n",
       "      <th>24</th>\n",
       "    </tr>\n",
       "  </thead>\n",
       "  <tbody>\n",
       "    <tr>\n",
       "      <th>1</th>\n",
       "      <td>114.988769</td>\n",
       "      <td>1.173018e+08</td>\n",
       "      <td>100.0</td>\n",
       "      <td>0.0</td>\n",
       "      <td>88.840062</td>\n",
       "      <td>8.341604e+08</td>\n",
       "      <td>100.0</td>\n",
       "      <td>0.0</td>\n",
       "      <td>0.0</td>\n",
       "      <td>23423.147906</td>\n",
       "      <td>...</td>\n",
       "      <td>39281.881774</td>\n",
       "      <td>32.143074</td>\n",
       "      <td>32.143074</td>\n",
       "      <td>100.0</td>\n",
       "      <td>0.0</td>\n",
       "      <td>100.0</td>\n",
       "      <td>0.0</td>\n",
       "      <td>2.093917e+10</td>\n",
       "      <td>9.043679e+10</td>\n",
       "      <td>0</td>\n",
       "    </tr>\n",
       "    <tr>\n",
       "      <th>2</th>\n",
       "      <td>115.569151</td>\n",
       "      <td>1.278450e+08</td>\n",
       "      <td>100.0</td>\n",
       "      <td>0.0</td>\n",
       "      <td>88.834662</td>\n",
       "      <td>8.335475e+08</td>\n",
       "      <td>100.0</td>\n",
       "      <td>0.0</td>\n",
       "      <td>0.0</td>\n",
       "      <td>23422.579683</td>\n",
       "      <td>...</td>\n",
       "      <td>39336.745193</td>\n",
       "      <td>30.065628</td>\n",
       "      <td>30.065628</td>\n",
       "      <td>100.0</td>\n",
       "      <td>0.0</td>\n",
       "      <td>100.0</td>\n",
       "      <td>0.0</td>\n",
       "      <td>2.094975e+10</td>\n",
       "      <td>9.027278e+10</td>\n",
       "      <td>0</td>\n",
       "    </tr>\n",
       "    <tr>\n",
       "      <th>3</th>\n",
       "      <td>115.307311</td>\n",
       "      <td>1.294027e+08</td>\n",
       "      <td>100.0</td>\n",
       "      <td>0.0</td>\n",
       "      <td>88.842702</td>\n",
       "      <td>8.349597e+08</td>\n",
       "      <td>100.0</td>\n",
       "      <td>0.0</td>\n",
       "      <td>0.0</td>\n",
       "      <td>23425.302590</td>\n",
       "      <td>...</td>\n",
       "      <td>39314.998048</td>\n",
       "      <td>30.458847</td>\n",
       "      <td>30.458847</td>\n",
       "      <td>100.0</td>\n",
       "      <td>0.0</td>\n",
       "      <td>100.0</td>\n",
       "      <td>0.0</td>\n",
       "      <td>2.094574e+10</td>\n",
       "      <td>9.009846e+10</td>\n",
       "      <td>0</td>\n",
       "    </tr>\n",
       "    <tr>\n",
       "      <th>4</th>\n",
       "      <td>115.049196</td>\n",
       "      <td>1.208911e+08</td>\n",
       "      <td>100.0</td>\n",
       "      <td>0.0</td>\n",
       "      <td>88.826255</td>\n",
       "      <td>8.318848e+08</td>\n",
       "      <td>100.0</td>\n",
       "      <td>0.0</td>\n",
       "      <td>0.0</td>\n",
       "      <td>23422.931048</td>\n",
       "      <td>...</td>\n",
       "      <td>39481.919253</td>\n",
       "      <td>31.160019</td>\n",
       "      <td>31.160019</td>\n",
       "      <td>100.0</td>\n",
       "      <td>0.0</td>\n",
       "      <td>100.0</td>\n",
       "      <td>0.0</td>\n",
       "      <td>2.094288e+10</td>\n",
       "      <td>9.009483e+10</td>\n",
       "      <td>0</td>\n",
       "    </tr>\n",
       "    <tr>\n",
       "      <th>5</th>\n",
       "      <td>115.033410</td>\n",
       "      <td>1.195309e+08</td>\n",
       "      <td>100.0</td>\n",
       "      <td>0.0</td>\n",
       "      <td>88.792013</td>\n",
       "      <td>8.261388e+08</td>\n",
       "      <td>100.0</td>\n",
       "      <td>0.0</td>\n",
       "      <td>0.0</td>\n",
       "      <td>23435.059668</td>\n",
       "      <td>...</td>\n",
       "      <td>39572.514102</td>\n",
       "      <td>30.767806</td>\n",
       "      <td>30.767806</td>\n",
       "      <td>100.0</td>\n",
       "      <td>0.0</td>\n",
       "      <td>100.0</td>\n",
       "      <td>0.0</td>\n",
       "      <td>2.088422e+10</td>\n",
       "      <td>9.009779e+10</td>\n",
       "      <td>0</td>\n",
       "    </tr>\n",
       "  </tbody>\n",
       "</table>\n",
       "<p>5 rows × 25 columns</p>\n",
       "</div>"
      ],
      "text/plain": [
       "           0             1      2    3          4             5      6    7   \\\n",
       "1  114.988769  1.173018e+08  100.0  0.0  88.840062  8.341604e+08  100.0  0.0   \n",
       "2  115.569151  1.278450e+08  100.0  0.0  88.834662  8.335475e+08  100.0  0.0   \n",
       "3  115.307311  1.294027e+08  100.0  0.0  88.842702  8.349597e+08  100.0  0.0   \n",
       "4  115.049196  1.208911e+08  100.0  0.0  88.826255  8.318848e+08  100.0  0.0   \n",
       "5  115.033410  1.195309e+08  100.0  0.0  88.792013  8.261388e+08  100.0  0.0   \n",
       "\n",
       "    8             9  ...            15         16         17     18   19  \\\n",
       "1  0.0  23423.147906 ...  39281.881774  32.143074  32.143074  100.0  0.0   \n",
       "2  0.0  23422.579683 ...  39336.745193  30.065628  30.065628  100.0  0.0   \n",
       "3  0.0  23425.302590 ...  39314.998048  30.458847  30.458847  100.0  0.0   \n",
       "4  0.0  23422.931048 ...  39481.919253  31.160019  31.160019  100.0  0.0   \n",
       "5  0.0  23435.059668 ...  39572.514102  30.767806  30.767806  100.0  0.0   \n",
       "\n",
       "      20   21            22            23  24  \n",
       "1  100.0  0.0  2.093917e+10  9.043679e+10   0  \n",
       "2  100.0  0.0  2.094975e+10  9.027278e+10   0  \n",
       "3  100.0  0.0  2.094574e+10  9.009846e+10   0  \n",
       "4  100.0  0.0  2.094288e+10  9.009483e+10   0  \n",
       "5  100.0  0.0  2.088422e+10  9.009779e+10   0  \n",
       "\n",
       "[5 rows x 25 columns]"
      ]
     },
     "execution_count": 45,
     "metadata": {},
     "output_type": "execute_result"
    }
   ],
   "source": [
    "dataset=pd.concat([X_train,y_train_df],axis=1,ignore_index=True)\n",
    "dataset.head()"
   ]
  },
  {
   "cell_type": "code",
   "execution_count": 21,
   "metadata": {
    "collapsed": true
   },
   "outputs": [],
   "source": [
    "from sklearn.linear_model import LogisticRegression\n",
    "lr=LogisticRegression()\n"
   ]
  },
  {
   "cell_type": "code",
   "execution_count": 5,
   "metadata": {
    "scrolled": true
   },
   "outputs": [
    {
     "name": "stdout",
     "output_type": "stream",
     "text": [
      "CV accuracy: 0.662 +/- 0.096\n"
     ]
    }
   ],
   "source": [
    "scores=cross_val_score(estimator=lr,X=X_train,y=y_train,cv=100,n_jobs=2)\n",
    "print('CV accuracy: %.3f +/- %.3f' % (np.mean(scores),np.std(scores)))"
   ]
  },
  {
   "cell_type": "code",
   "execution_count": 6,
   "metadata": {},
   "outputs": [
    {
     "name": "stdout",
     "output_type": "stream",
     "text": [
      "(1480, 10)\n",
      "(1480, 14)\n"
     ]
    }
   ],
   "source": [
    "X_train_norm=X_train[[0,2,4,6,10,12,14,16,18,20]]\n",
    "X_train_raw=X_train[[1,3,5,7,8,9,11,13,15,17,19,21,22,23]]\n",
    "print(X_train_norm.shape)\n",
    "print(X_train_raw.shape)"
   ]
  },
  {
   "cell_type": "code",
   "execution_count": 7,
   "metadata": {},
   "outputs": [
    {
     "name": "stdout",
     "output_type": "stream",
     "text": [
      "x_train_raw CV accuracy: 0.662 +/- 0.096\n"
     ]
    }
   ],
   "source": [
    "scores=cross_val_score(estimator=lr,X=X_train_raw,y=y_train,cv=100,n_jobs=2)\n",
    "print('x_train_raw CV accuracy: %.3f +/- %.3f' % (np.mean(scores),np.std(scores)))\n"
   ]
  },
  {
   "cell_type": "code",
   "execution_count": 8,
   "metadata": {},
   "outputs": [
    {
     "name": "stdout",
     "output_type": "stream",
     "text": [
      "x_train_norm CV accuracy: 0.671 +/- 0.041\n"
     ]
    }
   ],
   "source": [
    "scores=cross_val_score(estimator=lr,X=X_train_norm,y=y_train,cv=100,n_jobs=2)\n",
    "print('x_train_norm CV accuracy: %.3f +/- %.3f' % (np.mean(scores),np.std(scores)))"
   ]
  },
  {
   "cell_type": "code",
   "execution_count": 44,
   "metadata": {},
   "outputs": [
    {
     "name": "stderr",
     "output_type": "stream",
     "text": [
      "/Users/zhilinyang/anaconda3/lib/python3.6/site-packages/sklearn/metrics/classification.py:1135: UndefinedMetricWarning: Precision is ill-defined and being set to 0.0 due to no predicted samples.\n",
      "  'precision', 'predicted', average, warn_for)\n",
      "/Users/zhilinyang/anaconda3/lib/python3.6/site-packages/sklearn/metrics/classification.py:1135: UndefinedMetricWarning: Precision is ill-defined and being set to 0.0 due to no predicted samples.\n",
      "  'precision', 'predicted', average, warn_for)\n"
     ]
    },
    {
     "name": "stdout",
     "output_type": "stream",
     "text": [
      "CV precision: 0.045 +/- 0.201\n"
     ]
    }
   ],
   "source": [
    "scores=cross_val_score(estimator=lr,scoring='precision',X=X_train_norm,y=y_train,cv=100,n_jobs=2)\n",
    "print('CV precision: %.3f +/- %.3f' % (np.mean(scores),np.std(scores)))"
   ]
  },
  {
   "cell_type": "markdown",
   "metadata": {},
   "source": [
    "As we can see, using normalised features makes a little improvement in the accuracy score of Logistic Regression. But the precision is 0!!! What happened? Let's improve some parameters by GridSearch. For LR, the most commonly used parameter may be about regularisation."
   ]
  },
  {
   "cell_type": "code",
   "execution_count": null,
   "metadata": {
    "collapsed": true
   },
   "outputs": [],
   "source": []
  },
  {
   "cell_type": "code",
   "execution_count": 9,
   "metadata": {
    "collapsed": true
   },
   "outputs": [],
   "source": [
    "from sklearn.model_selection import GridSearchCV"
   ]
  },
  {
   "cell_type": "code",
   "execution_count": 10,
   "metadata": {},
   "outputs": [
    {
     "name": "stdout",
     "output_type": "stream",
     "text": [
      "0.666216216216\n"
     ]
    }
   ],
   "source": [
    "param_range=[0.0001,0.001,0.01,0.1,1.0,10.0,100.0,1000.0]\n",
    "param_grid=[{'C':param_range}]\n",
    "gs=GridSearchCV(estimator=lr,param_grid=param_grid,cv=10,n_jobs=-1)\n",
    "gs=gs.fit(X_train, y_train)\n",
    "print(gs.best_score_)"
   ]
  },
  {
   "cell_type": "markdown",
   "metadata": {},
   "source": [
    "Still too low! Let's try another algorithm"
   ]
  },
  {
   "cell_type": "code",
   "execution_count": 11,
   "metadata": {
    "scrolled": true
   },
   "outputs": [
    {
     "name": "stderr",
     "output_type": "stream",
     "text": [
      "/Users/zhilinyang/anaconda3/lib/python3.6/site-packages/sklearn/metrics/classification.py:1135: UndefinedMetricWarning: Precision is ill-defined and being set to 0.0 due to no predicted samples.\n",
      "  'precision', 'predicted', average, warn_for)\n",
      "/Users/zhilinyang/anaconda3/lib/python3.6/site-packages/sklearn/metrics/classification.py:1135: UndefinedMetricWarning: Precision is ill-defined and being set to 0.0 due to no predicted samples.\n",
      "  'precision', 'predicted', average, warn_for)\n",
      "/Users/zhilinyang/anaconda3/lib/python3.6/site-packages/sklearn/metrics/classification.py:1135: UndefinedMetricWarning: Precision is ill-defined and being set to 0.0 due to no predicted samples.\n",
      "  'precision', 'predicted', average, warn_for)\n",
      "/Users/zhilinyang/anaconda3/lib/python3.6/site-packages/sklearn/metrics/classification.py:1135: UndefinedMetricWarning: Precision is ill-defined and being set to 0.0 due to no predicted samples.\n",
      "  'precision', 'predicted', average, warn_for)\n",
      "/Users/zhilinyang/anaconda3/lib/python3.6/site-packages/sklearn/metrics/classification.py:1135: UndefinedMetricWarning: Precision is ill-defined and being set to 0.0 due to no predicted samples.\n",
      "  'precision', 'predicted', average, warn_for)\n",
      "/Users/zhilinyang/anaconda3/lib/python3.6/site-packages/sklearn/metrics/classification.py:1135: UndefinedMetricWarning: Precision is ill-defined and being set to 0.0 due to no predicted samples.\n",
      "  'precision', 'predicted', average, warn_for)\n",
      "/Users/zhilinyang/anaconda3/lib/python3.6/site-packages/sklearn/metrics/classification.py:1135: UndefinedMetricWarning: Precision is ill-defined and being set to 0.0 due to no predicted samples.\n",
      "  'precision', 'predicted', average, warn_for)\n"
     ]
    },
    {
     "name": "stdout",
     "output_type": "stream",
     "text": [
      "RF CV precision: 0.490 +/- 0.377\n"
     ]
    }
   ],
   "source": [
    "from sklearn.ensemble import RandomForestClassifier\n",
    "forest=RandomForestClassifier()\n",
    "RFscores=cross_val_score(estimator=forest,scoring='precision',X=X_train_norm,y=y_train,cv=100,n_jobs=2)\n",
    "print('RF CV precision: %.3f +/- %.3f' % (np.mean(RFscores),np.std(RFscores)))"
   ]
  },
  {
   "cell_type": "code",
   "execution_count": 12,
   "metadata": {},
   "outputs": [
    {
     "name": "stderr",
     "output_type": "stream",
     "text": [
      "/Users/zhilinyang/anaconda3/lib/python3.6/site-packages/sklearn/metrics/classification.py:1135: UndefinedMetricWarning: Precision is ill-defined and being set to 0.0 due to no predicted samples.\n",
      "  'precision', 'predicted', average, warn_for)\n",
      "/Users/zhilinyang/anaconda3/lib/python3.6/site-packages/sklearn/metrics/classification.py:1135: UndefinedMetricWarning: Precision is ill-defined and being set to 0.0 due to no predicted samples.\n",
      "  'precision', 'predicted', average, warn_for)\n"
     ]
    },
    {
     "name": "stdout",
     "output_type": "stream",
     "text": [
      "DT CV precision: 0.472 +/- 0.314\n"
     ]
    }
   ],
   "source": [
    "from sklearn.tree import DecisionTreeClassifier\n",
    "DT=DecisionTreeClassifier()\n",
    "DTscores=cross_val_score(estimator=DT,scoring='precision',X=X_train_norm,y=y_train,cv=100,n_jobs=2)\n",
    "print('DT CV precision: %.3f +/- %.3f' % (np.mean(DTscores),np.std(DTscores)))"
   ]
  },
  {
   "cell_type": "code",
   "execution_count": 13,
   "metadata": {},
   "outputs": [
    {
     "name": "stderr",
     "output_type": "stream",
     "text": [
      "/Users/zhilinyang/anaconda3/lib/python3.6/site-packages/sklearn/metrics/classification.py:1135: UndefinedMetricWarning: Precision is ill-defined and being set to 0.0 due to no predicted samples.\n",
      "  'precision', 'predicted', average, warn_for)\n",
      "/Users/zhilinyang/anaconda3/lib/python3.6/site-packages/sklearn/metrics/classification.py:1135: UndefinedMetricWarning: Precision is ill-defined and being set to 0.0 due to no predicted samples.\n",
      "  'precision', 'predicted', average, warn_for)\n"
     ]
    },
    {
     "name": "stdout",
     "output_type": "stream",
     "text": [
      "GBDT CV precision: 0.650 +/- 0.378\n"
     ]
    }
   ],
   "source": [
    "from sklearn.ensemble import GradientBoostingClassifier\n",
    "GBDT=GradientBoostingClassifier()\n",
    "GBDTscores=cross_val_score(estimator=GBDT,scoring='precision',X=X_train_norm,y=y_train,cv=100,n_jobs=2)\n",
    "print('GBDT CV precision: %.3f +/- %.3f' % (np.mean(GBDTscores),np.std(GBDTscores)))"
   ]
  },
  {
   "cell_type": "code",
   "execution_count": 14,
   "metadata": {},
   "outputs": [
    {
     "name": "stderr",
     "output_type": "stream",
     "text": [
      "/Users/zhilinyang/anaconda3/lib/python3.6/site-packages/sklearn/metrics/classification.py:1135: UndefinedMetricWarning: Precision is ill-defined and being set to 0.0 due to no predicted samples.\n",
      "  'precision', 'predicted', average, warn_for)\n",
      "/Users/zhilinyang/anaconda3/lib/python3.6/site-packages/sklearn/metrics/classification.py:1135: UndefinedMetricWarning: Precision is ill-defined and being set to 0.0 due to no predicted samples.\n",
      "  'precision', 'predicted', average, warn_for)\n"
     ]
    },
    {
     "name": "stdout",
     "output_type": "stream",
     "text": [
      "SVM CV precision: 0.543 +/- 0.372\n"
     ]
    }
   ],
   "source": [
    "from sklearn.svm import SVC\n",
    "SVM = SVC()\n",
    "SVMscores=cross_val_score(estimator=SVM,scoring='precision',X=X_train_norm,y=y_train,cv=100,n_jobs=2)\n",
    "print('SVM CV precision: %.3f +/- %.3f' % (np.mean(SVMscores),np.std(SVMscores)))"
   ]
  },
  {
   "cell_type": "code",
   "execution_count": 15,
   "metadata": {},
   "outputs": [
    {
     "name": "stderr",
     "output_type": "stream",
     "text": [
      "/Users/zhilinyang/anaconda3/lib/python3.6/site-packages/rgf/utils.py:199: UserWarning: Cannot find FastRGF executable files. FastRGF estimators will be unavailable for usage.\n",
      "  warnings.warn(\"Cannot find FastRGF executable files. FastRGF estimators will be unavailable for usage.\")\n"
     ]
    }
   ],
   "source": [
    "from rgf.sklearn import RGFClassifier"
   ]
  },
  {
   "cell_type": "code",
   "execution_count": null,
   "metadata": {
    "collapsed": true,
    "scrolled": false
   },
   "outputs": [],
   "source": [
    "RGF = RGFClassifier(max_leaf=400,algorithm=\"RGF_Sib\",test_interval=100,verbose=True)\n",
    "RGFscores=cross_val_score(estimator=RGF,scoring='accuracy',X=X_train_norm,y=y_train,cv=100,n_jobs=2)\n"
   ]
  },
  {
   "cell_type": "code",
   "execution_count": 21,
   "metadata": {},
   "outputs": [
    {
     "name": "stdout",
     "output_type": "stream",
     "text": [
      "RGF CV accuracy: 0.647 +/- 0.170\n"
     ]
    }
   ],
   "source": [
    "print('RGF CV accuracy: %.3f +/- %.3f' % (np.mean(RGFscores),np.std(RGFscores)))"
   ]
  },
  {
   "cell_type": "code",
   "execution_count": null,
   "metadata": {
    "collapsed": true,
    "scrolled": false
   },
   "outputs": [],
   "source": [
    "from sklearn.learning_curve import learning_curve\n",
    "import matplotlib.pyplot as plt\n",
    "train_sizes, train_scores, test_scores =\\\n",
    "learning_curve(estimator=RGF, X=X_train_norm, y=y_train, \n",
    "               train_sizes=np.linspace(0.7,1.0,10),cv=10,n_jobs=1)\n",
    "train_mean=np.mean(train_scores, axis=1)\n",
    "test_mean=np.mean(test_scores, axis=1)"
   ]
  },
  {
   "cell_type": "code",
   "execution_count": 29,
   "metadata": {},
   "outputs": [
    {
     "data": {
      "image/png": "[encoded data removed]",
      "text/plain": [
       "<matplotlib.figure.Figure at 0x1a15dbef60>"
      ]
     },
     "metadata": {},
     "output_type": "display_data"
    }
   ],
   "source": [
    "plt.plot(train_sizes, train_mean, color='blue', marker='o',label='training accuracy')\n",
    "plt.plot(train_sizes, test_mean, color='red', marker='s',label='validation accuracy')\n",
    "plt.grid()\n",
    "plt.xlabel('Number of training samples')\n",
    "plt.ylabel('Accuracy')\n",
    "plt.legend(loc='lower right')\n",
    "plt.show()"
   ]
  },
  {
   "cell_type": "code",
   "execution_count": 50,
   "metadata": {},
   "outputs": [],
   "source": [
    "dataset=dataset.sample(frac=1)\n",
    "X_train2=dataset.iloc[:,0:24]\n",
    "y_train2=dataset[24]\n"
   ]
  },
  {
   "cell_type": "code",
   "execution_count": 51,
   "metadata": {},
   "outputs": [
    {
     "name": "stdout",
     "output_type": "stream",
     "text": [
      "[0 0 0 ..., 1 0 0]\n"
     ]
    }
   ],
   "source": [
    "y_train2=np.array(y_train2)\n",
    "print(y_train2)"
   ]
  },
  {
   "cell_type": "code",
   "execution_count": 52,
   "metadata": {},
   "outputs": [
    {
     "name": "stderr",
     "output_type": "stream",
     "text": [
      "/Users/zhilinyang/anaconda3/lib/python3.6/site-packages/sklearn/metrics/classification.py:1135: UndefinedMetricWarning: Precision is ill-defined and being set to 0.0 due to no predicted samples.\n",
      "  'precision', 'predicted', average, warn_for)\n",
      "/Users/zhilinyang/anaconda3/lib/python3.6/site-packages/sklearn/metrics/classification.py:1135: UndefinedMetricWarning: Precision is ill-defined and being set to 0.0 due to no predicted samples.\n",
      "  'precision', 'predicted', average, warn_for)\n"
     ]
    },
    {
     "name": "stdout",
     "output_type": "stream",
     "text": [
      "SVM CV precision: 0.000 +/- 0.000\n"
     ]
    }
   ],
   "source": [
    "from sklearn.svm import SVC\n",
    "SVM = SVC()\n",
    "SVMscores=cross_val_score(estimator=SVM,scoring='precision',X=X_train2,y=y_train2,cv=100,n_jobs=2)\n",
    "print('SVM CV precision: %.3f +/- %.3f' % (np.mean(SVMscores),np.std(SVMscores)))"
   ]
  },
  {
   "cell_type": "code",
   "execution_count": 53,
   "metadata": {},
   "outputs": [
    {
     "name": "stderr",
     "output_type": "stream",
     "text": [
      "/Users/zhilinyang/anaconda3/lib/python3.6/site-packages/sklearn/metrics/classification.py:1135: UndefinedMetricWarning: Precision is ill-defined and being set to 0.0 due to no predicted samples.\n",
      "  'precision', 'predicted', average, warn_for)\n"
     ]
    },
    {
     "name": "stdout",
     "output_type": "stream",
     "text": [
      "GBDT CV precision: 0.641 +/- 0.314\n"
     ]
    }
   ],
   "source": [
    "from sklearn.ensemble import GradientBoostingClassifier\n",
    "GBDT=GradientBoostingClassifier()\n",
    "GBDTscores=cross_val_score(estimator=GBDT,scoring='precision',X=X_train2,y=y_train2,cv=100,n_jobs=2)\n",
    "print('GBDT CV precision: %.3f +/- %.3f' % (np.mean(GBDTscores),np.std(GBDTscores)))"
   ]
  },
  {
   "cell_type": "code",
   "execution_count": null,
   "metadata": {
    "collapsed": true
   },
   "outputs": [],
   "source": []
  }
 ],
 "metadata": {
  "kernelspec": {
   "display_name": "Python 3",
   "language": "python",
   "name": "python3"
  },
  "language_info": {
   "codemirror_mode": {
    "name": "ipython",
    "version": 3
   },
   "file_extension": ".py",
   "mimetype": "text/x-python",
   "name": "python",
   "nbconvert_exporter": "python",
   "pygments_lexer": "ipython3",
   "version": "3.6.3"
  }
 },
 "nbformat": 4,
 "nbformat_minor": 2
}
