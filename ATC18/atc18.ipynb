{
 "cells": [
  {
   "cell_type": "code",
   "execution_count": 1,
   "metadata": {
    "collapsed": true
   },
   "outputs": [],
   "source": [
    "import pandas as pd\n",
    "import numpy as np\n",
    "import os\n",
    "import datetime\n",
    "root_dir='/Users/zhilinyang/Desktop/ATC18'"
   ]
  },
  {
   "cell_type": "code",
   "execution_count": 3,
   "metadata": {
    "collapsed": true
   },
   "outputs": [],
   "source": [
    "test = pd.read_csv('/Users/zhilinyang/Desktop/ATC18/2017-12-01.csv')"
   ]
  },
  {
   "cell_type": "code",
   "execution_count": 5,
   "metadata": {},
   "outputs": [
    {
     "data": {
      "text/html": [
       "<div>\n",
       "<style scoped>\n",
       "    .dataframe tbody tr th:only-of-type {\n",
       "        vertical-align: middle;\n",
       "    }\n",
       "\n",
       "    .dataframe tbody tr th {\n",
       "        vertical-align: top;\n",
       "    }\n",
       "\n",
       "    .dataframe thead th {\n",
       "        text-align: right;\n",
       "    }\n",
       "</style>\n",
       "<table border=\"1\" class=\"dataframe\">\n",
       "  <thead>\n",
       "    <tr style=\"text-align: right;\">\n",
       "      <th></th>\n",
       "      <th>date</th>\n",
       "      <th>serial_number</th>\n",
       "      <th>model</th>\n",
       "      <th>capacity_bytes</th>\n",
       "      <th>failure</th>\n",
       "      <th>smart_1_normalized</th>\n",
       "      <th>smart_1_raw</th>\n",
       "      <th>smart_2_normalized</th>\n",
       "      <th>smart_2_raw</th>\n",
       "      <th>smart_3_normalized</th>\n",
       "      <th>...</th>\n",
       "      <th>smart_250_normalized</th>\n",
       "      <th>smart_250_raw</th>\n",
       "      <th>smart_251_normalized</th>\n",
       "      <th>smart_251_raw</th>\n",
       "      <th>smart_252_normalized</th>\n",
       "      <th>smart_252_raw</th>\n",
       "      <th>smart_254_normalized</th>\n",
       "      <th>smart_254_raw</th>\n",
       "      <th>smart_255_normalized</th>\n",
       "      <th>smart_255_raw</th>\n",
       "    </tr>\n",
       "  </thead>\n",
       "  <tbody>\n",
       "    <tr>\n",
       "      <th>0</th>\n",
       "      <td>2017-12-01</td>\n",
       "      <td>Z305B2QN</td>\n",
       "      <td>ST4000DM000</td>\n",
       "      <td>4000787030016</td>\n",
       "      <td>0</td>\n",
       "      <td>120</td>\n",
       "      <td>240651608</td>\n",
       "      <td>NaN</td>\n",
       "      <td>NaN</td>\n",
       "      <td>91</td>\n",
       "      <td>...</td>\n",
       "      <td>NaN</td>\n",
       "      <td>NaN</td>\n",
       "      <td>NaN</td>\n",
       "      <td>NaN</td>\n",
       "      <td>NaN</td>\n",
       "      <td>NaN</td>\n",
       "      <td>NaN</td>\n",
       "      <td>NaN</td>\n",
       "      <td>NaN</td>\n",
       "      <td>NaN</td>\n",
       "    </tr>\n",
       "    <tr>\n",
       "      <th>1</th>\n",
       "      <td>2017-12-01</td>\n",
       "      <td>PL1331LAHG1S4H</td>\n",
       "      <td>HGST HMS5C4040ALE640</td>\n",
       "      <td>4000787030016</td>\n",
       "      <td>0</td>\n",
       "      <td>100</td>\n",
       "      <td>0</td>\n",
       "      <td>134.0</td>\n",
       "      <td>102.0</td>\n",
       "      <td>100</td>\n",
       "      <td>...</td>\n",
       "      <td>NaN</td>\n",
       "      <td>NaN</td>\n",
       "      <td>NaN</td>\n",
       "      <td>NaN</td>\n",
       "      <td>NaN</td>\n",
       "      <td>NaN</td>\n",
       "      <td>NaN</td>\n",
       "      <td>NaN</td>\n",
       "      <td>NaN</td>\n",
       "      <td>NaN</td>\n",
       "    </tr>\n",
       "    <tr>\n",
       "      <th>2</th>\n",
       "      <td>2017-12-01</td>\n",
       "      <td>ZA16NQJR</td>\n",
       "      <td>ST8000NM0055</td>\n",
       "      <td>8001563222016</td>\n",
       "      <td>0</td>\n",
       "      <td>80</td>\n",
       "      <td>102350616</td>\n",
       "      <td>NaN</td>\n",
       "      <td>NaN</td>\n",
       "      <td>94</td>\n",
       "      <td>...</td>\n",
       "      <td>NaN</td>\n",
       "      <td>NaN</td>\n",
       "      <td>NaN</td>\n",
       "      <td>NaN</td>\n",
       "      <td>NaN</td>\n",
       "      <td>NaN</td>\n",
       "      <td>NaN</td>\n",
       "      <td>NaN</td>\n",
       "      <td>NaN</td>\n",
       "      <td>NaN</td>\n",
       "    </tr>\n",
       "    <tr>\n",
       "      <th>3</th>\n",
       "      <td>2017-12-01</td>\n",
       "      <td>ZA18CEBT</td>\n",
       "      <td>ST8000NM0055</td>\n",
       "      <td>8001563222016</td>\n",
       "      <td>0</td>\n",
       "      <td>83</td>\n",
       "      <td>215907568</td>\n",
       "      <td>NaN</td>\n",
       "      <td>NaN</td>\n",
       "      <td>96</td>\n",
       "      <td>...</td>\n",
       "      <td>NaN</td>\n",
       "      <td>NaN</td>\n",
       "      <td>NaN</td>\n",
       "      <td>NaN</td>\n",
       "      <td>NaN</td>\n",
       "      <td>NaN</td>\n",
       "      <td>NaN</td>\n",
       "      <td>NaN</td>\n",
       "      <td>NaN</td>\n",
       "      <td>NaN</td>\n",
       "    </tr>\n",
       "    <tr>\n",
       "      <th>4</th>\n",
       "      <td>2017-12-01</td>\n",
       "      <td>ZA18CEBS</td>\n",
       "      <td>ST8000NM0055</td>\n",
       "      <td>8001563222016</td>\n",
       "      <td>0</td>\n",
       "      <td>69</td>\n",
       "      <td>8337248</td>\n",
       "      <td>NaN</td>\n",
       "      <td>NaN</td>\n",
       "      <td>97</td>\n",
       "      <td>...</td>\n",
       "      <td>NaN</td>\n",
       "      <td>NaN</td>\n",
       "      <td>NaN</td>\n",
       "      <td>NaN</td>\n",
       "      <td>NaN</td>\n",
       "      <td>NaN</td>\n",
       "      <td>NaN</td>\n",
       "      <td>NaN</td>\n",
       "      <td>NaN</td>\n",
       "      <td>NaN</td>\n",
       "    </tr>\n",
       "  </tbody>\n",
       "</table>\n",
       "<p>5 rows × 95 columns</p>\n",
       "</div>"
      ],
      "text/plain": [
       "         date   serial_number                 model  capacity_bytes  failure  \\\n",
       "0  2017-12-01        Z305B2QN           ST4000DM000   4000787030016        0   \n",
       "1  2017-12-01  PL1331LAHG1S4H  HGST HMS5C4040ALE640   4000787030016        0   \n",
       "2  2017-12-01        ZA16NQJR          ST8000NM0055   8001563222016        0   \n",
       "3  2017-12-01        ZA18CEBT          ST8000NM0055   8001563222016        0   \n",
       "4  2017-12-01        ZA18CEBS          ST8000NM0055   8001563222016        0   \n",
       "\n",
       "   smart_1_normalized  smart_1_raw  smart_2_normalized  smart_2_raw  \\\n",
       "0                 120    240651608                 NaN          NaN   \n",
       "1                 100            0               134.0        102.0   \n",
       "2                  80    102350616                 NaN          NaN   \n",
       "3                  83    215907568                 NaN          NaN   \n",
       "4                  69      8337248                 NaN          NaN   \n",
       "\n",
       "   smart_3_normalized      ...        smart_250_normalized  smart_250_raw  \\\n",
       "0                  91      ...                         NaN            NaN   \n",
       "1                 100      ...                         NaN            NaN   \n",
       "2                  94      ...                         NaN            NaN   \n",
       "3                  96      ...                         NaN            NaN   \n",
       "4                  97      ...                         NaN            NaN   \n",
       "\n",
       "   smart_251_normalized  smart_251_raw  smart_252_normalized  smart_252_raw  \\\n",
       "0                   NaN            NaN                   NaN            NaN   \n",
       "1                   NaN            NaN                   NaN            NaN   \n",
       "2                   NaN            NaN                   NaN            NaN   \n",
       "3                   NaN            NaN                   NaN            NaN   \n",
       "4                   NaN            NaN                   NaN            NaN   \n",
       "\n",
       "   smart_254_normalized  smart_254_raw  smart_255_normalized  smart_255_raw  \n",
       "0                   NaN            NaN                   NaN            NaN  \n",
       "1                   NaN            NaN                   NaN            NaN  \n",
       "2                   NaN            NaN                   NaN            NaN  \n",
       "3                   NaN            NaN                   NaN            NaN  \n",
       "4                   NaN            NaN                   NaN            NaN  \n",
       "\n",
       "[5 rows x 95 columns]"
      ]
     },
     "execution_count": 5,
     "metadata": {},
     "output_type": "execute_result"
    }
   ],
   "source": [
    "test.head()"
   ]
  },
  {
   "cell_type": "code",
   "execution_count": 6,
   "metadata": {},
   "outputs": [
    {
     "data": {
      "text/plain": [
       "Index(['smart_1_normalized', 'smart_1_raw', 'smart_2_normalized',\n",
       "       'smart_2_raw', 'smart_3_normalized', 'smart_3_raw',\n",
       "       'smart_4_normalized', 'smart_4_raw', 'smart_5_normalized',\n",
       "       'smart_5_raw', 'smart_7_normalized', 'smart_7_raw',\n",
       "       'smart_8_normalized', 'smart_8_raw', 'smart_9_normalized',\n",
       "       'smart_9_raw', 'smart_10_normalized', 'smart_10_raw',\n",
       "       'smart_11_normalized', 'smart_11_raw', 'smart_12_normalized',\n",
       "       'smart_12_raw', 'smart_13_normalized', 'smart_13_raw',\n",
       "       'smart_15_normalized', 'smart_15_raw', 'smart_22_normalized',\n",
       "       'smart_22_raw', 'smart_183_normalized', 'smart_183_raw',\n",
       "       'smart_184_normalized', 'smart_184_raw', 'smart_187_normalized',\n",
       "       'smart_187_raw', 'smart_188_normalized', 'smart_188_raw',\n",
       "       'smart_189_normalized', 'smart_189_raw', 'smart_190_normalized',\n",
       "       'smart_190_raw', 'smart_191_normalized', 'smart_191_raw',\n",
       "       'smart_192_normalized', 'smart_192_raw', 'smart_193_normalized',\n",
       "       'smart_193_raw', 'smart_194_normalized', 'smart_194_raw',\n",
       "       'smart_195_normalized', 'smart_195_raw', 'smart_196_normalized',\n",
       "       'smart_196_raw', 'smart_197_normalized', 'smart_197_raw',\n",
       "       'smart_198_normalized', 'smart_198_raw', 'smart_199_normalized',\n",
       "       'smart_199_raw', 'smart_200_normalized', 'smart_200_raw',\n",
       "       'smart_201_normalized', 'smart_201_raw', 'smart_220_normalized',\n",
       "       'smart_220_raw', 'smart_222_normalized', 'smart_222_raw',\n",
       "       'smart_223_normalized', 'smart_223_raw', 'smart_224_normalized',\n",
       "       'smart_224_raw', 'smart_225_normalized', 'smart_225_raw',\n",
       "       'smart_226_normalized', 'smart_226_raw', 'smart_240_normalized',\n",
       "       'smart_240_raw', 'smart_241_normalized', 'smart_241_raw',\n",
       "       'smart_242_normalized', 'smart_242_raw', 'smart_250_normalized',\n",
       "       'smart_250_raw', 'smart_251_normalized', 'smart_251_raw',\n",
       "       'smart_252_normalized', 'smart_252_raw', 'smart_254_normalized',\n",
       "       'smart_254_raw', 'smart_255_normalized', 'smart_255_raw'],\n",
       "      dtype='object')"
      ]
     },
     "execution_count": 6,
     "metadata": {},
     "output_type": "execute_result"
    }
   ],
   "source": [
    "features_list=test.columns[5:]\n",
    "features_list"
   ]
  },
  {
   "cell_type": "code",
   "execution_count": 8,
   "metadata": {
    "collapsed": true
   },
   "outputs": [],
   "source": [
    "def file_preprocessing(model_name, features_list, root_dir):\n",
    "    total_df = pd.DataFrame()\n",
    "    type_dict = {feature: np.float32 for feature in features_list}\n",
    "    type_dict['failure']=np.int8\n",
    "    for file in os.listdir(root_dir):\n",
    "        if file=='.DS_Store':\n",
    "            continue\n",
    "        file_path = root_dir + '/' + file\n",
    "        df = pd.read_csv(file_path, dtype=type_dict)\n",
    "        df = df.loc[df['model']== model_name].dropna(axis=1,how='all')\n",
    "        total_df = total_df.append(df)\n",
    "        print(file)\n",
    "    total_df=total_df.drop(['model','capacity_bytes'],axis=1)\n",
    "    return total_df"
   ]
  },
  {
   "cell_type": "code",
   "execution_count": null,
   "metadata": {
    "collapsed": true
   },
   "outputs": [],
   "source": [
    "total_df=file_preprocessing('ST4000DM000', features_list, root_dir)"
   ]
  },
  {
   "cell_type": "code",
   "execution_count": 12,
   "metadata": {},
   "outputs": [
    {
     "data": {
      "text/html": [
       "<div>\n",
       "<style scoped>\n",
       "    .dataframe tbody tr th:only-of-type {\n",
       "        vertical-align: middle;\n",
       "    }\n",
       "\n",
       "    .dataframe tbody tr th {\n",
       "        vertical-align: top;\n",
       "    }\n",
       "\n",
       "    .dataframe thead th {\n",
       "        text-align: right;\n",
       "    }\n",
       "</style>\n",
       "<table border=\"1\" class=\"dataframe\">\n",
       "  <thead>\n",
       "    <tr style=\"text-align: right;\">\n",
       "      <th></th>\n",
       "      <th>date</th>\n",
       "      <th>serial_number</th>\n",
       "      <th>failure</th>\n",
       "      <th>smart_1_normalized</th>\n",
       "      <th>smart_1_raw</th>\n",
       "      <th>smart_3_normalized</th>\n",
       "      <th>smart_3_raw</th>\n",
       "      <th>smart_4_normalized</th>\n",
       "      <th>smart_4_raw</th>\n",
       "      <th>smart_5_normalized</th>\n",
       "      <th>...</th>\n",
       "      <th>smart_198_normalized</th>\n",
       "      <th>smart_198_raw</th>\n",
       "      <th>smart_199_normalized</th>\n",
       "      <th>smart_199_raw</th>\n",
       "      <th>smart_240_normalized</th>\n",
       "      <th>smart_240_raw</th>\n",
       "      <th>smart_241_normalized</th>\n",
       "      <th>smart_241_raw</th>\n",
       "      <th>smart_242_normalized</th>\n",
       "      <th>smart_242_raw</th>\n",
       "    </tr>\n",
       "  </thead>\n",
       "  <tbody>\n",
       "    <tr>\n",
       "      <th>0</th>\n",
       "      <td>2017-10-01</td>\n",
       "      <td>Z305B2QN</td>\n",
       "      <td>0</td>\n",
       "      <td>116.0</td>\n",
       "      <td>102427200.0</td>\n",
       "      <td>91.0</td>\n",
       "      <td>0.0</td>\n",
       "      <td>100.0</td>\n",
       "      <td>10.0</td>\n",
       "      <td>100.0</td>\n",
       "      <td>...</td>\n",
       "      <td>100.0</td>\n",
       "      <td>0.0</td>\n",
       "      <td>200.0</td>\n",
       "      <td>0.0</td>\n",
       "      <td>100.0</td>\n",
       "      <td>15487.0</td>\n",
       "      <td>100.0</td>\n",
       "      <td>3.751089e+10</td>\n",
       "      <td>100.0</td>\n",
       "      <td>4.036694e+10</td>\n",
       "    </tr>\n",
       "    <tr>\n",
       "      <th>10</th>\n",
       "      <td>2017-10-01</td>\n",
       "      <td>Z3023VGH</td>\n",
       "      <td>0</td>\n",
       "      <td>117.0</td>\n",
       "      <td>139006624.0</td>\n",
       "      <td>92.0</td>\n",
       "      <td>0.0</td>\n",
       "      <td>100.0</td>\n",
       "      <td>15.0</td>\n",
       "      <td>100.0</td>\n",
       "      <td>...</td>\n",
       "      <td>100.0</td>\n",
       "      <td>0.0</td>\n",
       "      <td>200.0</td>\n",
       "      <td>0.0</td>\n",
       "      <td>100.0</td>\n",
       "      <td>25745.0</td>\n",
       "      <td>100.0</td>\n",
       "      <td>2.254739e+10</td>\n",
       "      <td>100.0</td>\n",
       "      <td>1.668102e+11</td>\n",
       "    </tr>\n",
       "    <tr>\n",
       "      <th>14</th>\n",
       "      <td>2017-10-01</td>\n",
       "      <td>Z301CEB2</td>\n",
       "      <td>0</td>\n",
       "      <td>120.0</td>\n",
       "      <td>241804672.0</td>\n",
       "      <td>91.0</td>\n",
       "      <td>0.0</td>\n",
       "      <td>100.0</td>\n",
       "      <td>17.0</td>\n",
       "      <td>100.0</td>\n",
       "      <td>...</td>\n",
       "      <td>100.0</td>\n",
       "      <td>0.0</td>\n",
       "      <td>200.0</td>\n",
       "      <td>0.0</td>\n",
       "      <td>100.0</td>\n",
       "      <td>18477.0</td>\n",
       "      <td>100.0</td>\n",
       "      <td>1.783750e+10</td>\n",
       "      <td>100.0</td>\n",
       "      <td>1.249269e+11</td>\n",
       "    </tr>\n",
       "    <tr>\n",
       "      <th>17</th>\n",
       "      <td>2017-10-01</td>\n",
       "      <td>Z306WYZZ</td>\n",
       "      <td>0</td>\n",
       "      <td>115.0</td>\n",
       "      <td>90595592.0</td>\n",
       "      <td>95.0</td>\n",
       "      <td>0.0</td>\n",
       "      <td>100.0</td>\n",
       "      <td>5.0</td>\n",
       "      <td>100.0</td>\n",
       "      <td>...</td>\n",
       "      <td>100.0</td>\n",
       "      <td>0.0</td>\n",
       "      <td>200.0</td>\n",
       "      <td>0.0</td>\n",
       "      <td>100.0</td>\n",
       "      <td>1021.0</td>\n",
       "      <td>100.0</td>\n",
       "      <td>1.000933e+10</td>\n",
       "      <td>100.0</td>\n",
       "      <td>9.233834e+09</td>\n",
       "    </tr>\n",
       "    <tr>\n",
       "      <th>18</th>\n",
       "      <td>2017-10-01</td>\n",
       "      <td>S300ZP5B</td>\n",
       "      <td>0</td>\n",
       "      <td>117.0</td>\n",
       "      <td>145617408.0</td>\n",
       "      <td>92.0</td>\n",
       "      <td>0.0</td>\n",
       "      <td>100.0</td>\n",
       "      <td>8.0</td>\n",
       "      <td>100.0</td>\n",
       "      <td>...</td>\n",
       "      <td>100.0</td>\n",
       "      <td>0.0</td>\n",
       "      <td>200.0</td>\n",
       "      <td>0.0</td>\n",
       "      <td>100.0</td>\n",
       "      <td>19404.0</td>\n",
       "      <td>100.0</td>\n",
       "      <td>4.726250e+10</td>\n",
       "      <td>100.0</td>\n",
       "      <td>5.348619e+10</td>\n",
       "    </tr>\n",
       "  </tbody>\n",
       "</table>\n",
       "<p>5 rows × 51 columns</p>\n",
       "</div>"
      ],
      "text/plain": [
       "          date serial_number  failure  smart_1_normalized  smart_1_raw  \\\n",
       "0   2017-10-01      Z305B2QN        0               116.0  102427200.0   \n",
       "10  2017-10-01      Z3023VGH        0               117.0  139006624.0   \n",
       "14  2017-10-01      Z301CEB2        0               120.0  241804672.0   \n",
       "17  2017-10-01      Z306WYZZ        0               115.0   90595592.0   \n",
       "18  2017-10-01      S300ZP5B        0               117.0  145617408.0   \n",
       "\n",
       "    smart_3_normalized  smart_3_raw  smart_4_normalized  smart_4_raw  \\\n",
       "0                 91.0          0.0               100.0         10.0   \n",
       "10                92.0          0.0               100.0         15.0   \n",
       "14                91.0          0.0               100.0         17.0   \n",
       "17                95.0          0.0               100.0          5.0   \n",
       "18                92.0          0.0               100.0          8.0   \n",
       "\n",
       "    smart_5_normalized      ...        smart_198_normalized  smart_198_raw  \\\n",
       "0                100.0      ...                       100.0            0.0   \n",
       "10               100.0      ...                       100.0            0.0   \n",
       "14               100.0      ...                       100.0            0.0   \n",
       "17               100.0      ...                       100.0            0.0   \n",
       "18               100.0      ...                       100.0            0.0   \n",
       "\n",
       "    smart_199_normalized  smart_199_raw  smart_240_normalized  smart_240_raw  \\\n",
       "0                  200.0            0.0                 100.0        15487.0   \n",
       "10                 200.0            0.0                 100.0        25745.0   \n",
       "14                 200.0            0.0                 100.0        18477.0   \n",
       "17                 200.0            0.0                 100.0         1021.0   \n",
       "18                 200.0            0.0                 100.0        19404.0   \n",
       "\n",
       "    smart_241_normalized  smart_241_raw  smart_242_normalized  smart_242_raw  \n",
       "0                  100.0   3.751089e+10                 100.0   4.036694e+10  \n",
       "10                 100.0   2.254739e+10                 100.0   1.668102e+11  \n",
       "14                 100.0   1.783750e+10                 100.0   1.249269e+11  \n",
       "17                 100.0   1.000933e+10                 100.0   9.233834e+09  \n",
       "18                 100.0   4.726250e+10                 100.0   5.348619e+10  \n",
       "\n",
       "[5 rows x 51 columns]"
      ]
     },
     "execution_count": 12,
     "metadata": {},
     "output_type": "execute_result"
    }
   ],
   "source": [
    "total_df.head()"
   ]
  },
  {
   "cell_type": "code",
   "execution_count": 17,
   "metadata": {
    "collapsed": true
   },
   "outputs": [],
   "source": [
    "total_df.to_csv(path_or_buf=r\"/Users/zhilinyang/Desktop/work/ATC18/STA_17Q4.csv\")"
   ]
  },
  {
   "cell_type": "code",
   "execution_count": null,
   "metadata": {
    "collapsed": true
   },
   "outputs": [],
   "source": []
  },
  {
   "cell_type": "code",
   "execution_count": 16,
   "metadata": {},
   "outputs": [
    {
     "name": "stdout",
     "output_type": "stream",
     "text": [
      "n_disks: 33341\n",
      "n_failed: 235\n",
      "percentage: 140.87659574468086\n"
     ]
    }
   ],
   "source": [
    "fail_names = total_df.loc[total_df['failure'] == 1]['serial_number'].unique()\n",
    "print('n_disks: ' + str(total_df['serial_number'].unique().size))\n",
    "print('n_failed: ' + str(fail_names.size))\n",
    "percent=(total_df['serial_number'].unique().size-fail_names.size)/fail_names.size\n",
    "print('percentage: ' + str(percent))"
   ]
  },
  {
   "cell_type": "code",
   "execution_count": 2,
   "metadata": {},
   "outputs": [
    {
     "data": {
      "text/html": [
       "<div>\n",
       "<style scoped>\n",
       "    .dataframe tbody tr th:only-of-type {\n",
       "        vertical-align: middle;\n",
       "    }\n",
       "\n",
       "    .dataframe tbody tr th {\n",
       "        vertical-align: top;\n",
       "    }\n",
       "\n",
       "    .dataframe thead th {\n",
       "        text-align: right;\n",
       "    }\n",
       "</style>\n",
       "<table border=\"1\" class=\"dataframe\">\n",
       "  <thead>\n",
       "    <tr style=\"text-align: right;\">\n",
       "      <th></th>\n",
       "      <th>date</th>\n",
       "      <th>serial_number</th>\n",
       "      <th>failure</th>\n",
       "      <th>smart_1_normalized</th>\n",
       "      <th>smart_1_raw</th>\n",
       "      <th>smart_3_normalized</th>\n",
       "      <th>smart_3_raw</th>\n",
       "      <th>smart_4_normalized</th>\n",
       "      <th>smart_4_raw</th>\n",
       "      <th>smart_5_normalized</th>\n",
       "      <th>...</th>\n",
       "      <th>smart_198_normalized</th>\n",
       "      <th>smart_198_raw</th>\n",
       "      <th>smart_199_normalized</th>\n",
       "      <th>smart_199_raw</th>\n",
       "      <th>smart_240_normalized</th>\n",
       "      <th>smart_240_raw</th>\n",
       "      <th>smart_241_normalized</th>\n",
       "      <th>smart_241_raw</th>\n",
       "      <th>smart_242_normalized</th>\n",
       "      <th>smart_242_raw</th>\n",
       "    </tr>\n",
       "  </thead>\n",
       "  <tbody>\n",
       "    <tr>\n",
       "      <th>0</th>\n",
       "      <td>2017-10-01</td>\n",
       "      <td>Z305B2QN</td>\n",
       "      <td>0</td>\n",
       "      <td>116.0</td>\n",
       "      <td>102427200.0</td>\n",
       "      <td>91.0</td>\n",
       "      <td>0.0</td>\n",
       "      <td>100.0</td>\n",
       "      <td>10.0</td>\n",
       "      <td>100.0</td>\n",
       "      <td>...</td>\n",
       "      <td>100.0</td>\n",
       "      <td>0.0</td>\n",
       "      <td>200.0</td>\n",
       "      <td>0.0</td>\n",
       "      <td>100.0</td>\n",
       "      <td>15487.0</td>\n",
       "      <td>100.0</td>\n",
       "      <td>3.751089e+10</td>\n",
       "      <td>100.0</td>\n",
       "      <td>4.036694e+10</td>\n",
       "    </tr>\n",
       "    <tr>\n",
       "      <th>1</th>\n",
       "      <td>2017-10-01</td>\n",
       "      <td>Z3023VGH</td>\n",
       "      <td>0</td>\n",
       "      <td>117.0</td>\n",
       "      <td>139006624.0</td>\n",
       "      <td>92.0</td>\n",
       "      <td>0.0</td>\n",
       "      <td>100.0</td>\n",
       "      <td>15.0</td>\n",
       "      <td>100.0</td>\n",
       "      <td>...</td>\n",
       "      <td>100.0</td>\n",
       "      <td>0.0</td>\n",
       "      <td>200.0</td>\n",
       "      <td>0.0</td>\n",
       "      <td>100.0</td>\n",
       "      <td>25745.0</td>\n",
       "      <td>100.0</td>\n",
       "      <td>2.254739e+10</td>\n",
       "      <td>100.0</td>\n",
       "      <td>1.668102e+11</td>\n",
       "    </tr>\n",
       "    <tr>\n",
       "      <th>2</th>\n",
       "      <td>2017-10-01</td>\n",
       "      <td>Z301CEB2</td>\n",
       "      <td>0</td>\n",
       "      <td>120.0</td>\n",
       "      <td>241804672.0</td>\n",
       "      <td>91.0</td>\n",
       "      <td>0.0</td>\n",
       "      <td>100.0</td>\n",
       "      <td>17.0</td>\n",
       "      <td>100.0</td>\n",
       "      <td>...</td>\n",
       "      <td>100.0</td>\n",
       "      <td>0.0</td>\n",
       "      <td>200.0</td>\n",
       "      <td>0.0</td>\n",
       "      <td>100.0</td>\n",
       "      <td>18477.0</td>\n",
       "      <td>100.0</td>\n",
       "      <td>1.783750e+10</td>\n",
       "      <td>100.0</td>\n",
       "      <td>1.249269e+11</td>\n",
       "    </tr>\n",
       "    <tr>\n",
       "      <th>3</th>\n",
       "      <td>2017-10-01</td>\n",
       "      <td>Z306WYZZ</td>\n",
       "      <td>0</td>\n",
       "      <td>115.0</td>\n",
       "      <td>90595592.0</td>\n",
       "      <td>95.0</td>\n",
       "      <td>0.0</td>\n",
       "      <td>100.0</td>\n",
       "      <td>5.0</td>\n",
       "      <td>100.0</td>\n",
       "      <td>...</td>\n",
       "      <td>100.0</td>\n",
       "      <td>0.0</td>\n",
       "      <td>200.0</td>\n",
       "      <td>0.0</td>\n",
       "      <td>100.0</td>\n",
       "      <td>1021.0</td>\n",
       "      <td>100.0</td>\n",
       "      <td>1.000933e+10</td>\n",
       "      <td>100.0</td>\n",
       "      <td>9.233834e+09</td>\n",
       "    </tr>\n",
       "    <tr>\n",
       "      <th>4</th>\n",
       "      <td>2017-10-01</td>\n",
       "      <td>S300ZP5B</td>\n",
       "      <td>0</td>\n",
       "      <td>117.0</td>\n",
       "      <td>145617408.0</td>\n",
       "      <td>92.0</td>\n",
       "      <td>0.0</td>\n",
       "      <td>100.0</td>\n",
       "      <td>8.0</td>\n",
       "      <td>100.0</td>\n",
       "      <td>...</td>\n",
       "      <td>100.0</td>\n",
       "      <td>0.0</td>\n",
       "      <td>200.0</td>\n",
       "      <td>0.0</td>\n",
       "      <td>100.0</td>\n",
       "      <td>19404.0</td>\n",
       "      <td>100.0</td>\n",
       "      <td>4.726250e+10</td>\n",
       "      <td>100.0</td>\n",
       "      <td>5.348619e+10</td>\n",
       "    </tr>\n",
       "  </tbody>\n",
       "</table>\n",
       "<p>5 rows × 51 columns</p>\n",
       "</div>"
      ],
      "text/plain": [
       "         date serial_number  failure  smart_1_normalized  smart_1_raw  \\\n",
       "0  2017-10-01      Z305B2QN        0               116.0  102427200.0   \n",
       "1  2017-10-01      Z3023VGH        0               117.0  139006624.0   \n",
       "2  2017-10-01      Z301CEB2        0               120.0  241804672.0   \n",
       "3  2017-10-01      Z306WYZZ        0               115.0   90595592.0   \n",
       "4  2017-10-01      S300ZP5B        0               117.0  145617408.0   \n",
       "\n",
       "   smart_3_normalized  smart_3_raw  smart_4_normalized  smart_4_raw  \\\n",
       "0                91.0          0.0               100.0         10.0   \n",
       "1                92.0          0.0               100.0         15.0   \n",
       "2                91.0          0.0               100.0         17.0   \n",
       "3                95.0          0.0               100.0          5.0   \n",
       "4                92.0          0.0               100.0          8.0   \n",
       "\n",
       "   smart_5_normalized      ...        smart_198_normalized  smart_198_raw  \\\n",
       "0               100.0      ...                       100.0            0.0   \n",
       "1               100.0      ...                       100.0            0.0   \n",
       "2               100.0      ...                       100.0            0.0   \n",
       "3               100.0      ...                       100.0            0.0   \n",
       "4               100.0      ...                       100.0            0.0   \n",
       "\n",
       "   smart_199_normalized  smart_199_raw  smart_240_normalized  smart_240_raw  \\\n",
       "0                 200.0            0.0                 100.0        15487.0   \n",
       "1                 200.0            0.0                 100.0        25745.0   \n",
       "2                 200.0            0.0                 100.0        18477.0   \n",
       "3                 200.0            0.0                 100.0         1021.0   \n",
       "4                 200.0            0.0                 100.0        19404.0   \n",
       "\n",
       "   smart_241_normalized  smart_241_raw  smart_242_normalized  smart_242_raw  \n",
       "0                 100.0   3.751089e+10                 100.0   4.036694e+10  \n",
       "1                 100.0   2.254739e+10                 100.0   1.668102e+11  \n",
       "2                 100.0   1.783750e+10                 100.0   1.249269e+11  \n",
       "3                 100.0   1.000933e+10                 100.0   9.233834e+09  \n",
       "4                 100.0   4.726250e+10                 100.0   5.348619e+10  \n",
       "\n",
       "[5 rows x 51 columns]"
      ]
     },
     "execution_count": 2,
     "metadata": {},
     "output_type": "execute_result"
    }
   ],
   "source": [
    "total_df=pd.read_csv(r\"/Users/zhilinyang/Desktop/work/ATC18/STA_17Q4.csv\")\n",
    "total_df=total_df.iloc[:,1:]\n",
    "total_df.head()"
   ]
  },
  {
   "cell_type": "code",
   "execution_count": 3,
   "metadata": {},
   "outputs": [
    {
     "name": "stdout",
     "output_type": "stream",
     "text": [
      "['date', 'serial_number', 'failure', 'smart_1_raw', 'smart_3_raw', 'smart_4_raw', 'smart_5_raw', 'smart_7_raw', 'smart_9_raw', 'smart_10_raw', 'smart_12_raw', 'smart_183_raw', 'smart_184_raw', 'smart_187_raw', 'smart_188_raw', 'smart_189_raw', 'smart_190_raw', 'smart_191_raw', 'smart_192_raw', 'smart_193_raw', 'smart_194_raw', 'smart_197_raw', 'smart_198_raw', 'smart_199_raw', 'smart_240_raw', 'smart_241_raw', 'smart_242_raw']\n"
     ]
    }
   ],
   "source": [
    "new_features=[]\n",
    "for c in total_df.columns:\n",
    "    if c.lower()[-10:] != 'normalized':\n",
    "        new_features.append(c)\n",
    "print(new_features)"
   ]
  },
  {
   "cell_type": "code",
   "execution_count": 4,
   "metadata": {},
   "outputs": [
    {
     "data": {
      "text/html": [
       "<div>\n",
       "<style scoped>\n",
       "    .dataframe tbody tr th:only-of-type {\n",
       "        vertical-align: middle;\n",
       "    }\n",
       "\n",
       "    .dataframe tbody tr th {\n",
       "        vertical-align: top;\n",
       "    }\n",
       "\n",
       "    .dataframe thead th {\n",
       "        text-align: right;\n",
       "    }\n",
       "</style>\n",
       "<table border=\"1\" class=\"dataframe\">\n",
       "  <thead>\n",
       "    <tr style=\"text-align: right;\">\n",
       "      <th></th>\n",
       "      <th>date</th>\n",
       "      <th>serial_number</th>\n",
       "      <th>failure</th>\n",
       "      <th>smart_1_raw</th>\n",
       "      <th>smart_3_raw</th>\n",
       "      <th>smart_4_raw</th>\n",
       "      <th>smart_5_raw</th>\n",
       "      <th>smart_7_raw</th>\n",
       "      <th>smart_9_raw</th>\n",
       "      <th>smart_10_raw</th>\n",
       "      <th>...</th>\n",
       "      <th>smart_191_raw</th>\n",
       "      <th>smart_192_raw</th>\n",
       "      <th>smart_193_raw</th>\n",
       "      <th>smart_194_raw</th>\n",
       "      <th>smart_197_raw</th>\n",
       "      <th>smart_198_raw</th>\n",
       "      <th>smart_199_raw</th>\n",
       "      <th>smart_240_raw</th>\n",
       "      <th>smart_241_raw</th>\n",
       "      <th>smart_242_raw</th>\n",
       "    </tr>\n",
       "  </thead>\n",
       "  <tbody>\n",
       "    <tr>\n",
       "      <th>0</th>\n",
       "      <td>2017-10-01</td>\n",
       "      <td>Z305B2QN</td>\n",
       "      <td>0</td>\n",
       "      <td>102427200.0</td>\n",
       "      <td>0.0</td>\n",
       "      <td>10.0</td>\n",
       "      <td>0.0</td>\n",
       "      <td>6.940097e+08</td>\n",
       "      <td>15735.0</td>\n",
       "      <td>0.0</td>\n",
       "      <td>...</td>\n",
       "      <td>0.0</td>\n",
       "      <td>0.0</td>\n",
       "      <td>34018.0</td>\n",
       "      <td>22.0</td>\n",
       "      <td>0.0</td>\n",
       "      <td>0.0</td>\n",
       "      <td>0.0</td>\n",
       "      <td>15487.0</td>\n",
       "      <td>3.751089e+10</td>\n",
       "      <td>4.036694e+10</td>\n",
       "    </tr>\n",
       "    <tr>\n",
       "      <th>1</th>\n",
       "      <td>2017-10-01</td>\n",
       "      <td>Z3023VGH</td>\n",
       "      <td>0</td>\n",
       "      <td>139006624.0</td>\n",
       "      <td>0.0</td>\n",
       "      <td>15.0</td>\n",
       "      <td>0.0</td>\n",
       "      <td>1.814109e+10</td>\n",
       "      <td>25971.0</td>\n",
       "      <td>0.0</td>\n",
       "      <td>...</td>\n",
       "      <td>0.0</td>\n",
       "      <td>1.0</td>\n",
       "      <td>48267.0</td>\n",
       "      <td>28.0</td>\n",
       "      <td>0.0</td>\n",
       "      <td>0.0</td>\n",
       "      <td>0.0</td>\n",
       "      <td>25745.0</td>\n",
       "      <td>2.254739e+10</td>\n",
       "      <td>1.668102e+11</td>\n",
       "    </tr>\n",
       "    <tr>\n",
       "      <th>2</th>\n",
       "      <td>2017-10-01</td>\n",
       "      <td>Z301CEB2</td>\n",
       "      <td>0</td>\n",
       "      <td>241804672.0</td>\n",
       "      <td>0.0</td>\n",
       "      <td>17.0</td>\n",
       "      <td>0.0</td>\n",
       "      <td>7.212762e+08</td>\n",
       "      <td>18606.0</td>\n",
       "      <td>0.0</td>\n",
       "      <td>...</td>\n",
       "      <td>0.0</td>\n",
       "      <td>0.0</td>\n",
       "      <td>36895.0</td>\n",
       "      <td>25.0</td>\n",
       "      <td>0.0</td>\n",
       "      <td>0.0</td>\n",
       "      <td>0.0</td>\n",
       "      <td>18477.0</td>\n",
       "      <td>1.783750e+10</td>\n",
       "      <td>1.249269e+11</td>\n",
       "    </tr>\n",
       "    <tr>\n",
       "      <th>3</th>\n",
       "      <td>2017-10-01</td>\n",
       "      <td>Z306WYZZ</td>\n",
       "      <td>0</td>\n",
       "      <td>90595592.0</td>\n",
       "      <td>0.0</td>\n",
       "      <td>5.0</td>\n",
       "      <td>0.0</td>\n",
       "      <td>2.448534e+07</td>\n",
       "      <td>1026.0</td>\n",
       "      <td>0.0</td>\n",
       "      <td>...</td>\n",
       "      <td>0.0</td>\n",
       "      <td>1.0</td>\n",
       "      <td>55.0</td>\n",
       "      <td>22.0</td>\n",
       "      <td>0.0</td>\n",
       "      <td>0.0</td>\n",
       "      <td>0.0</td>\n",
       "      <td>1021.0</td>\n",
       "      <td>1.000933e+10</td>\n",
       "      <td>9.233834e+09</td>\n",
       "    </tr>\n",
       "    <tr>\n",
       "      <th>4</th>\n",
       "      <td>2017-10-01</td>\n",
       "      <td>S300ZP5B</td>\n",
       "      <td>0</td>\n",
       "      <td>145617408.0</td>\n",
       "      <td>0.0</td>\n",
       "      <td>8.0</td>\n",
       "      <td>0.0</td>\n",
       "      <td>8.680031e+08</td>\n",
       "      <td>19725.0</td>\n",
       "      <td>0.0</td>\n",
       "      <td>...</td>\n",
       "      <td>0.0</td>\n",
       "      <td>0.0</td>\n",
       "      <td>39274.0</td>\n",
       "      <td>30.0</td>\n",
       "      <td>0.0</td>\n",
       "      <td>0.0</td>\n",
       "      <td>0.0</td>\n",
       "      <td>19404.0</td>\n",
       "      <td>4.726250e+10</td>\n",
       "      <td>5.348619e+10</td>\n",
       "    </tr>\n",
       "  </tbody>\n",
       "</table>\n",
       "<p>5 rows × 27 columns</p>\n",
       "</div>"
      ],
      "text/plain": [
       "         date serial_number  failure  smart_1_raw  smart_3_raw  smart_4_raw  \\\n",
       "0  2017-10-01      Z305B2QN        0  102427200.0          0.0         10.0   \n",
       "1  2017-10-01      Z3023VGH        0  139006624.0          0.0         15.0   \n",
       "2  2017-10-01      Z301CEB2        0  241804672.0          0.0         17.0   \n",
       "3  2017-10-01      Z306WYZZ        0   90595592.0          0.0          5.0   \n",
       "4  2017-10-01      S300ZP5B        0  145617408.0          0.0          8.0   \n",
       "\n",
       "   smart_5_raw   smart_7_raw  smart_9_raw  smart_10_raw      ...        \\\n",
       "0          0.0  6.940097e+08      15735.0           0.0      ...         \n",
       "1          0.0  1.814109e+10      25971.0           0.0      ...         \n",
       "2          0.0  7.212762e+08      18606.0           0.0      ...         \n",
       "3          0.0  2.448534e+07       1026.0           0.0      ...         \n",
       "4          0.0  8.680031e+08      19725.0           0.0      ...         \n",
       "\n",
       "   smart_191_raw  smart_192_raw  smart_193_raw  smart_194_raw  smart_197_raw  \\\n",
       "0            0.0            0.0        34018.0           22.0            0.0   \n",
       "1            0.0            1.0        48267.0           28.0            0.0   \n",
       "2            0.0            0.0        36895.0           25.0            0.0   \n",
       "3            0.0            1.0           55.0           22.0            0.0   \n",
       "4            0.0            0.0        39274.0           30.0            0.0   \n",
       "\n",
       "   smart_198_raw  smart_199_raw  smart_240_raw  smart_241_raw  smart_242_raw  \n",
       "0            0.0            0.0        15487.0   3.751089e+10   4.036694e+10  \n",
       "1            0.0            0.0        25745.0   2.254739e+10   1.668102e+11  \n",
       "2            0.0            0.0        18477.0   1.783750e+10   1.249269e+11  \n",
       "3            0.0            0.0         1021.0   1.000933e+10   9.233834e+09  \n",
       "4            0.0            0.0        19404.0   4.726250e+10   5.348619e+10  \n",
       "\n",
       "[5 rows x 27 columns]"
      ]
     },
     "execution_count": 4,
     "metadata": {},
     "output_type": "execute_result"
    }
   ],
   "source": [
    "total_df=total_df[new_features]\n",
    "total_df.head()"
   ]
  },
  {
   "cell_type": "code",
   "execution_count": 5,
   "metadata": {},
   "outputs": [
    {
     "data": {
      "text/plain": [
       "232"
      ]
     },
     "execution_count": 5,
     "metadata": {},
     "output_type": "execute_result"
    }
   ],
   "source": [
    "error_list=total_df[total_df['smart_5_raw']>0]['serial_number'].unique()\n",
    "len(error_list)"
   ]
  },
  {
   "cell_type": "code",
   "execution_count": 8,
   "metadata": {},
   "outputs": [
    {
     "data": {
      "text/plain": [
       "13797"
      ]
     },
     "execution_count": 8,
     "metadata": {},
     "output_type": "execute_result"
    }
   ],
   "source": [
    "len(total_df[total_df['smart_5_raw']>0])"
   ]
  },
  {
   "cell_type": "code",
   "execution_count": null,
   "metadata": {
    "collapsed": true
   },
   "outputs": [],
   "source": []
  },
  {
   "cell_type": "code",
   "execution_count": 7,
   "metadata": {
    "collapsed": true
   },
   "outputs": [],
   "source": [
    "def get_labels(df,attribute,error_list):\n",
    "    num=0\n",
    "    new_df=pd.DataFrame()\n",
    "    grps=df.groupby('serial_number')\n",
    "    disk_list=df['serial_number'].unique()\n",
    "    for disk_name in disk_list:\n",
    "        if disk_name in error_list:\n",
    "            disk=grps.get_group(disk_name)\n",
    "            errors=np.array(disk[attribute])\n",
    "            first_err=np.nonzero(errors)[0][0]\n",
    "            part1=np.arange(first_err+1)[::-1]\n",
    "            part2=np.zeros(len(errors)-first_err-1)\n",
    "            labels=np.concatenate([part1,part2])\n",
    "        else:\n",
    "            continue\n",
    "        disk['label']=labels\n",
    "        disk.index=range(0,len(disk))\n",
    "        new_df=new_df.append(disk,ignore_index=True)\n",
    "    return new_df"
   ]
  },
  {
   "cell_type": "code",
   "execution_count": 8,
   "metadata": {},
   "outputs": [
    {
     "name": "stderr",
     "output_type": "stream",
     "text": [
      "/Users/zhilinyang/anaconda3/lib/python3.6/site-packages/ipykernel_launcher.py:16: SettingWithCopyWarning: \n",
      "A value is trying to be set on a copy of a slice from a DataFrame.\n",
      "Try using .loc[row_indexer,col_indexer] = value instead\n",
      "\n",
      "See the caveats in the documentation: http://pandas.pydata.org/pandas-docs/stable/indexing.html#indexing-view-versus-copy\n",
      "  app.launch_new_instance()\n"
     ]
    },
    {
     "data": {
      "text/html": [
       "<div>\n",
       "<style scoped>\n",
       "    .dataframe tbody tr th:only-of-type {\n",
       "        vertical-align: middle;\n",
       "    }\n",
       "\n",
       "    .dataframe tbody tr th {\n",
       "        vertical-align: top;\n",
       "    }\n",
       "\n",
       "    .dataframe thead th {\n",
       "        text-align: right;\n",
       "    }\n",
       "</style>\n",
       "<table border=\"1\" class=\"dataframe\">\n",
       "  <thead>\n",
       "    <tr style=\"text-align: right;\">\n",
       "      <th></th>\n",
       "      <th>date</th>\n",
       "      <th>serial_number</th>\n",
       "      <th>failure</th>\n",
       "      <th>smart_1_raw</th>\n",
       "      <th>smart_3_raw</th>\n",
       "      <th>smart_4_raw</th>\n",
       "      <th>smart_5_raw</th>\n",
       "      <th>smart_7_raw</th>\n",
       "      <th>smart_9_raw</th>\n",
       "      <th>smart_10_raw</th>\n",
       "      <th>...</th>\n",
       "      <th>smart_192_raw</th>\n",
       "      <th>smart_193_raw</th>\n",
       "      <th>smart_194_raw</th>\n",
       "      <th>smart_197_raw</th>\n",
       "      <th>smart_198_raw</th>\n",
       "      <th>smart_199_raw</th>\n",
       "      <th>smart_240_raw</th>\n",
       "      <th>smart_241_raw</th>\n",
       "      <th>smart_242_raw</th>\n",
       "      <th>label</th>\n",
       "    </tr>\n",
       "  </thead>\n",
       "  <tbody>\n",
       "    <tr>\n",
       "      <th>0</th>\n",
       "      <td>2017-10-01</td>\n",
       "      <td>Z304H3GQ</td>\n",
       "      <td>0</td>\n",
       "      <td>200303616.0</td>\n",
       "      <td>0.0</td>\n",
       "      <td>14.0</td>\n",
       "      <td>0.0</td>\n",
       "      <td>385281920.0</td>\n",
       "      <td>15041.0</td>\n",
       "      <td>0.0</td>\n",
       "      <td>...</td>\n",
       "      <td>0.0</td>\n",
       "      <td>211518.0</td>\n",
       "      <td>19.0</td>\n",
       "      <td>0.0</td>\n",
       "      <td>0.0</td>\n",
       "      <td>0.0</td>\n",
       "      <td>13428.0</td>\n",
       "      <td>1.354632e+10</td>\n",
       "      <td>8.655493e+10</td>\n",
       "      <td>10.0</td>\n",
       "    </tr>\n",
       "    <tr>\n",
       "      <th>1</th>\n",
       "      <td>2017-10-02</td>\n",
       "      <td>Z304H3GQ</td>\n",
       "      <td>0</td>\n",
       "      <td>240499424.0</td>\n",
       "      <td>0.0</td>\n",
       "      <td>14.0</td>\n",
       "      <td>0.0</td>\n",
       "      <td>385282688.0</td>\n",
       "      <td>15065.0</td>\n",
       "      <td>0.0</td>\n",
       "      <td>...</td>\n",
       "      <td>0.0</td>\n",
       "      <td>212915.0</td>\n",
       "      <td>19.0</td>\n",
       "      <td>0.0</td>\n",
       "      <td>0.0</td>\n",
       "      <td>0.0</td>\n",
       "      <td>13441.0</td>\n",
       "      <td>1.354632e+10</td>\n",
       "      <td>8.659333e+10</td>\n",
       "      <td>9.0</td>\n",
       "    </tr>\n",
       "    <tr>\n",
       "      <th>2</th>\n",
       "      <td>2017-10-03</td>\n",
       "      <td>Z304H3GQ</td>\n",
       "      <td>0</td>\n",
       "      <td>35117888.0</td>\n",
       "      <td>0.0</td>\n",
       "      <td>14.0</td>\n",
       "      <td>0.0</td>\n",
       "      <td>385283296.0</td>\n",
       "      <td>15090.0</td>\n",
       "      <td>0.0</td>\n",
       "      <td>...</td>\n",
       "      <td>0.0</td>\n",
       "      <td>214372.0</td>\n",
       "      <td>19.0</td>\n",
       "      <td>0.0</td>\n",
       "      <td>0.0</td>\n",
       "      <td>0.0</td>\n",
       "      <td>13454.0</td>\n",
       "      <td>1.354632e+10</td>\n",
       "      <td>8.663165e+10</td>\n",
       "      <td>8.0</td>\n",
       "    </tr>\n",
       "    <tr>\n",
       "      <th>3</th>\n",
       "      <td>2017-10-04</td>\n",
       "      <td>Z304H3GQ</td>\n",
       "      <td>0</td>\n",
       "      <td>136945408.0</td>\n",
       "      <td>0.0</td>\n",
       "      <td>14.0</td>\n",
       "      <td>0.0</td>\n",
       "      <td>385320096.0</td>\n",
       "      <td>15116.0</td>\n",
       "      <td>0.0</td>\n",
       "      <td>...</td>\n",
       "      <td>0.0</td>\n",
       "      <td>215854.0</td>\n",
       "      <td>20.0</td>\n",
       "      <td>0.0</td>\n",
       "      <td>0.0</td>\n",
       "      <td>0.0</td>\n",
       "      <td>13469.0</td>\n",
       "      <td>1.354650e+10</td>\n",
       "      <td>8.667324e+10</td>\n",
       "      <td>7.0</td>\n",
       "    </tr>\n",
       "    <tr>\n",
       "      <th>4</th>\n",
       "      <td>2017-10-05</td>\n",
       "      <td>Z304H3GQ</td>\n",
       "      <td>0</td>\n",
       "      <td>208011744.0</td>\n",
       "      <td>0.0</td>\n",
       "      <td>14.0</td>\n",
       "      <td>0.0</td>\n",
       "      <td>385651936.0</td>\n",
       "      <td>15140.0</td>\n",
       "      <td>0.0</td>\n",
       "      <td>...</td>\n",
       "      <td>0.0</td>\n",
       "      <td>215905.0</td>\n",
       "      <td>19.0</td>\n",
       "      <td>0.0</td>\n",
       "      <td>0.0</td>\n",
       "      <td>0.0</td>\n",
       "      <td>13493.0</td>\n",
       "      <td>1.354872e+10</td>\n",
       "      <td>8.669641e+10</td>\n",
       "      <td>6.0</td>\n",
       "    </tr>\n",
       "  </tbody>\n",
       "</table>\n",
       "<p>5 rows × 28 columns</p>\n",
       "</div>"
      ],
      "text/plain": [
       "         date serial_number  failure  smart_1_raw  smart_3_raw  smart_4_raw  \\\n",
       "0  2017-10-01      Z304H3GQ        0  200303616.0          0.0         14.0   \n",
       "1  2017-10-02      Z304H3GQ        0  240499424.0          0.0         14.0   \n",
       "2  2017-10-03      Z304H3GQ        0   35117888.0          0.0         14.0   \n",
       "3  2017-10-04      Z304H3GQ        0  136945408.0          0.0         14.0   \n",
       "4  2017-10-05      Z304H3GQ        0  208011744.0          0.0         14.0   \n",
       "\n",
       "   smart_5_raw  smart_7_raw  smart_9_raw  smart_10_raw  ...    smart_192_raw  \\\n",
       "0          0.0  385281920.0      15041.0           0.0  ...              0.0   \n",
       "1          0.0  385282688.0      15065.0           0.0  ...              0.0   \n",
       "2          0.0  385283296.0      15090.0           0.0  ...              0.0   \n",
       "3          0.0  385320096.0      15116.0           0.0  ...              0.0   \n",
       "4          0.0  385651936.0      15140.0           0.0  ...              0.0   \n",
       "\n",
       "   smart_193_raw  smart_194_raw  smart_197_raw  smart_198_raw  smart_199_raw  \\\n",
       "0       211518.0           19.0            0.0            0.0            0.0   \n",
       "1       212915.0           19.0            0.0            0.0            0.0   \n",
       "2       214372.0           19.0            0.0            0.0            0.0   \n",
       "3       215854.0           20.0            0.0            0.0            0.0   \n",
       "4       215905.0           19.0            0.0            0.0            0.0   \n",
       "\n",
       "   smart_240_raw  smart_241_raw  smart_242_raw  label  \n",
       "0        13428.0   1.354632e+10   8.655493e+10   10.0  \n",
       "1        13441.0   1.354632e+10   8.659333e+10    9.0  \n",
       "2        13454.0   1.354632e+10   8.663165e+10    8.0  \n",
       "3        13469.0   1.354650e+10   8.667324e+10    7.0  \n",
       "4        13493.0   1.354872e+10   8.669641e+10    6.0  \n",
       "\n",
       "[5 rows x 28 columns]"
      ]
     },
     "execution_count": 8,
     "metadata": {},
     "output_type": "execute_result"
    }
   ],
   "source": [
    "dataset=get_labels(total_df,'smart_5_raw',error_list)\n",
    "dataset.head()"
   ]
  },
  {
   "cell_type": "code",
   "execution_count": 9,
   "metadata": {
    "collapsed": true
   },
   "outputs": [],
   "source": [
    "dataset=dataset[dataset.label>0]"
   ]
  },
  {
   "cell_type": "code",
   "execution_count": 10,
   "metadata": {
    "collapsed": true
   },
   "outputs": [],
   "source": [
    "dataset=dataset.drop(['failure'],axis=1)"
   ]
  },
  {
   "cell_type": "code",
   "execution_count": 11,
   "metadata": {},
   "outputs": [
    {
     "data": {
      "text/plain": [
       "(3487, 27)"
      ]
     },
     "execution_count": 11,
     "metadata": {},
     "output_type": "execute_result"
    }
   ],
   "source": [
    "dataset.shape"
   ]
  },
  {
   "cell_type": "code",
   "execution_count": 12,
   "metadata": {
    "collapsed": true
   },
   "outputs": [],
   "source": [
    "grouped = dataset.groupby(['serial_number'], as_index=False)\n",
    "features = [c for c in dataset.columns if c[-3:] == 'raw']\n",
    "# get the difference of the data of a window with size 3\n",
    "diff = grouped[features].transform(pd.DataFrame.diff, 3)\n",
    "\n",
    "# get variance of the data of a window with size 7\n",
    "sigma = grouped[features].transform(lambda x: x.rolling(7).var())\n",
    "\n",
    "# get the sum of attribute valuse within a window with size 5\n",
    "summation = grouped[features].transform(lambda x: x.rolling(5).sum())"
   ]
  },
  {
   "cell_type": "code",
   "execution_count": 13,
   "metadata": {
    "scrolled": true
   },
   "outputs": [
    {
     "data": {
      "text/html": [
       "<div>\n",
       "<style scoped>\n",
       "    .dataframe tbody tr th:only-of-type {\n",
       "        vertical-align: middle;\n",
       "    }\n",
       "\n",
       "    .dataframe tbody tr th {\n",
       "        vertical-align: top;\n",
       "    }\n",
       "\n",
       "    .dataframe thead th {\n",
       "        text-align: right;\n",
       "    }\n",
       "</style>\n",
       "<table border=\"1\" class=\"dataframe\">\n",
       "  <thead>\n",
       "    <tr style=\"text-align: right;\">\n",
       "      <th></th>\n",
       "      <th>date</th>\n",
       "      <th>serial_number</th>\n",
       "      <th>smart_1_raw</th>\n",
       "      <th>smart_3_raw</th>\n",
       "      <th>smart_4_raw</th>\n",
       "      <th>smart_5_raw</th>\n",
       "      <th>smart_7_raw</th>\n",
       "      <th>smart_9_raw</th>\n",
       "      <th>smart_10_raw</th>\n",
       "      <th>smart_12_raw</th>\n",
       "      <th>...</th>\n",
       "      <th>smart_193_raw_sum</th>\n",
       "      <th>smart_194_raw_sum</th>\n",
       "      <th>smart_197_raw_sum</th>\n",
       "      <th>smart_198_raw_sum</th>\n",
       "      <th>smart_199_raw_sum</th>\n",
       "      <th>smart_240_raw_sum</th>\n",
       "      <th>smart_241_raw_sum</th>\n",
       "      <th>smart_242_raw_sum</th>\n",
       "      <th>broken_day</th>\n",
       "      <th>y</th>\n",
       "    </tr>\n",
       "  </thead>\n",
       "  <tbody>\n",
       "    <tr>\n",
       "      <th>0</th>\n",
       "      <td>2017-10-07</td>\n",
       "      <td>Z304H3GQ</td>\n",
       "      <td>104748192.0</td>\n",
       "      <td>0.0</td>\n",
       "      <td>14.0</td>\n",
       "      <td>0.0</td>\n",
       "      <td>386396672.0</td>\n",
       "      <td>15189.0</td>\n",
       "      <td>0.0</td>\n",
       "      <td>13.0</td>\n",
       "      <td>...</td>\n",
       "      <td>1077941.0</td>\n",
       "      <td>96.0</td>\n",
       "      <td>0.0</td>\n",
       "      <td>0.0</td>\n",
       "      <td>0.0</td>\n",
       "      <td>67474.0</td>\n",
       "      <td>6.774596e+10</td>\n",
       "      <td>4.334737e+11</td>\n",
       "      <td>2017-10-10</td>\n",
       "      <td>4 days</td>\n",
       "    </tr>\n",
       "    <tr>\n",
       "      <th>1</th>\n",
       "      <td>2017-10-07</td>\n",
       "      <td>S3015EJ2</td>\n",
       "      <td>87223784.0</td>\n",
       "      <td>0.0</td>\n",
       "      <td>5.0</td>\n",
       "      <td>0.0</td>\n",
       "      <td>423281312.0</td>\n",
       "      <td>10898.0</td>\n",
       "      <td>0.0</td>\n",
       "      <td>5.0</td>\n",
       "      <td>...</td>\n",
       "      <td>53591.0</td>\n",
       "      <td>107.0</td>\n",
       "      <td>0.0</td>\n",
       "      <td>0.0</td>\n",
       "      <td>0.0</td>\n",
       "      <td>54066.0</td>\n",
       "      <td>5.601590e+10</td>\n",
       "      <td>1.443243e+11</td>\n",
       "      <td>2017-11-05</td>\n",
       "      <td>30 days</td>\n",
       "    </tr>\n",
       "    <tr>\n",
       "      <th>2</th>\n",
       "      <td>2017-10-07</td>\n",
       "      <td>Z30149RX</td>\n",
       "      <td>115268592.0</td>\n",
       "      <td>0.0</td>\n",
       "      <td>30.0</td>\n",
       "      <td>0.0</td>\n",
       "      <td>875151040.0</td>\n",
       "      <td>33042.0</td>\n",
       "      <td>0.0</td>\n",
       "      <td>30.0</td>\n",
       "      <td>...</td>\n",
       "      <td>214479.0</td>\n",
       "      <td>97.0</td>\n",
       "      <td>0.0</td>\n",
       "      <td>0.0</td>\n",
       "      <td>0.0</td>\n",
       "      <td>163778.0</td>\n",
       "      <td>1.436515e+11</td>\n",
       "      <td>8.385830e+11</td>\n",
       "      <td>2017-12-07</td>\n",
       "      <td>62 days</td>\n",
       "    </tr>\n",
       "    <tr>\n",
       "      <th>3</th>\n",
       "      <td>2017-10-07</td>\n",
       "      <td>Z3036CV2</td>\n",
       "      <td>239166720.0</td>\n",
       "      <td>0.0</td>\n",
       "      <td>8.0</td>\n",
       "      <td>0.0</td>\n",
       "      <td>142917344.0</td>\n",
       "      <td>22610.0</td>\n",
       "      <td>0.0</td>\n",
       "      <td>8.0</td>\n",
       "      <td>...</td>\n",
       "      <td>165090.0</td>\n",
       "      <td>106.0</td>\n",
       "      <td>240.0</td>\n",
       "      <td>240.0</td>\n",
       "      <td>0.0</td>\n",
       "      <td>112195.0</td>\n",
       "      <td>9.175893e+10</td>\n",
       "      <td>5.307706e+11</td>\n",
       "      <td>2017-10-25</td>\n",
       "      <td>19 days</td>\n",
       "    </tr>\n",
       "    <tr>\n",
       "      <th>4</th>\n",
       "      <td>2017-10-07</td>\n",
       "      <td>Z3055XCP</td>\n",
       "      <td>82190128.0</td>\n",
       "      <td>0.0</td>\n",
       "      <td>8.0</td>\n",
       "      <td>0.0</td>\n",
       "      <td>645148992.0</td>\n",
       "      <td>14549.0</td>\n",
       "      <td>0.0</td>\n",
       "      <td>8.0</td>\n",
       "      <td>...</td>\n",
       "      <td>38007.0</td>\n",
       "      <td>138.0</td>\n",
       "      <td>0.0</td>\n",
       "      <td>0.0</td>\n",
       "      <td>0.0</td>\n",
       "      <td>72093.0</td>\n",
       "      <td>1.725957e+11</td>\n",
       "      <td>2.954218e+11</td>\n",
       "      <td>2017-11-20</td>\n",
       "      <td>45 days</td>\n",
       "    </tr>\n",
       "  </tbody>\n",
       "</table>\n",
       "<p>5 rows × 101 columns</p>\n",
       "</div>"
      ],
      "text/plain": [
       "        date serial_number  smart_1_raw  smart_3_raw  smart_4_raw  \\\n",
       "0 2017-10-07      Z304H3GQ  104748192.0          0.0         14.0   \n",
       "1 2017-10-07      S3015EJ2   87223784.0          0.0          5.0   \n",
       "2 2017-10-07      Z30149RX  115268592.0          0.0         30.0   \n",
       "3 2017-10-07      Z3036CV2  239166720.0          0.0          8.0   \n",
       "4 2017-10-07      Z3055XCP   82190128.0          0.0          8.0   \n",
       "\n",
       "   smart_5_raw  smart_7_raw  smart_9_raw  smart_10_raw  smart_12_raw   ...    \\\n",
       "0          0.0  386396672.0      15189.0           0.0          13.0   ...     \n",
       "1          0.0  423281312.0      10898.0           0.0           5.0   ...     \n",
       "2          0.0  875151040.0      33042.0           0.0          30.0   ...     \n",
       "3          0.0  142917344.0      22610.0           0.0           8.0   ...     \n",
       "4          0.0  645148992.0      14549.0           0.0           8.0   ...     \n",
       "\n",
       "   smart_193_raw_sum  smart_194_raw_sum  smart_197_raw_sum  smart_198_raw_sum  \\\n",
       "0          1077941.0               96.0                0.0                0.0   \n",
       "1            53591.0              107.0                0.0                0.0   \n",
       "2           214479.0               97.0                0.0                0.0   \n",
       "3           165090.0              106.0              240.0              240.0   \n",
       "4            38007.0              138.0                0.0                0.0   \n",
       "\n",
       "   smart_199_raw_sum  smart_240_raw_sum  smart_241_raw_sum  smart_242_raw_sum  \\\n",
       "0                0.0            67474.0       6.774596e+10       4.334737e+11   \n",
       "1                0.0            54066.0       5.601590e+10       1.443243e+11   \n",
       "2                0.0           163778.0       1.436515e+11       8.385830e+11   \n",
       "3                0.0           112195.0       9.175893e+10       5.307706e+11   \n",
       "4                0.0            72093.0       1.725957e+11       2.954218e+11   \n",
       "\n",
       "   broken_day       y  \n",
       "0  2017-10-10  4 days  \n",
       "1  2017-11-05 30 days  \n",
       "2  2017-12-07 62 days  \n",
       "3  2017-10-25 19 days  \n",
       "4  2017-11-20 45 days  \n",
       "\n",
       "[5 rows x 101 columns]"
      ]
     },
     "execution_count": 13,
     "metadata": {},
     "output_type": "execute_result"
    }
   ],
   "source": [
    "dataset = dataset.join(other=diff, how='inner', rsuffix='_diff')\n",
    "dataset = dataset.join(other=sigma, how='inner', rsuffix='_sigma')\n",
    "dataset = dataset.join(other=summation, how='inner', rsuffix='_sum')\n",
    "dataset.shape\n",
    "dataset = dataset.dropna().sort_values(by=['date'], ascending=True).reset_index(drop=True)\n",
    "dataset['date'] = pd.to_datetime(dataset['date'])\n",
    "dataset['broken_day'] = dataset.groupby('serial_number')['date'].transform(lambda x: x.max())\n",
    "dataset['y'] = dataset['broken_day']  - dataset['date'] + datetime.timedelta(days=1)\n",
    "dataset.head()"
   ]
  },
  {
   "cell_type": "code",
   "execution_count": 14,
   "metadata": {},
   "outputs": [
    {
     "data": {
      "text/plain": [
       "(3011, 101)"
      ]
     },
     "execution_count": 14,
     "metadata": {},
     "output_type": "execute_result"
    }
   ],
   "source": [
    "dataset.shape"
   ]
  },
  {
   "cell_type": "code",
   "execution_count": 15,
   "metadata": {
    "collapsed": true
   },
   "outputs": [],
   "source": [
    "dataset=dataset.drop(['label'],axis=1)"
   ]
  },
  {
   "cell_type": "code",
   "execution_count": 16,
   "metadata": {
    "collapsed": true
   },
   "outputs": [],
   "source": [
    "def get_result(y_test, y_pred, threshold):\n",
    "    pred = [1 if i < threshold else 0 for i in y_pred]\n",
    "    true = [1 if i < threshold else 0 for i in y_test]\n",
    "    return (true, pred)"
   ]
  },
  {
   "cell_type": "code",
   "execution_count": 36,
   "metadata": {
    "collapsed": true
   },
   "outputs": [],
   "source": [
    "from sklearn.metrics import f1_score\n",
    "def feature_selection(dataset,theta,clf):\n",
    "    training_set = dataset.loc[dataset['broken_day'].astype(str) < '2017-12-01'].copy()\n",
    "    testing_set = dataset.loc[(dataset['broken_day'].astype(str) >= '2017-12-01') & (dataset['date'].astype(str) >= '2017-12-01')].copy()   \n",
    "    x_train=training_set.drop(['date','serial_number',\n",
    "                                     'y','broken_day'],axis=1)\n",
    "    y_train=training_set['y'].dt.days\n",
    "    x_val=testing_set.drop(['date','serial_number',\n",
    "                                     'y','broken_day'],axis=1)\n",
    "    y_val=testing_set['y'].dt.days\n",
    "    \n",
    "    clf.fit(x_train,y_train)\n",
    "    y_pred=clf.predict(x_val)\n",
    "    true,pred=get_result(y_val, y_pred, 20)\n",
    "    fmax=f1_score(true,pred)\n",
    "    \n",
    "    del_list=[]\n",
    "    feature_list=[f for f in dataset.columns if f[:5] == 'smart']\n",
    "    for feature in feature_list:\n",
    "        x_train2=x_train.drop(feature,axis=1)\n",
    "        x_val2=x_val.drop(feature,axis=1)\n",
    "        clf.fit(x_train2,y_train)\n",
    "        y_pred=clf.predict(x_val2)\n",
    "        true,pred=get_result(y_val, y_pred, 20)\n",
    "        f1=f1_score(true,pred)\n",
    "        \n",
    "        if f1>fmax:\n",
    "            fmax=f1\n",
    "            del_list.append(feature)\n",
    "            x_train=x_train2\n",
    "            x_val=x_val2\n",
    "        if len(del_list)>=len(feature_list)*(1-theta):\n",
    "            break\n",
    "    return del_list"
   ]
  },
  {
   "cell_type": "code",
   "execution_count": 26,
   "metadata": {
    "collapsed": true
   },
   "outputs": [],
   "source": [
    "from sklearn.ensemble import GradientBoostingRegressor\n",
    "clf = GradientBoostingRegressor()"
   ]
  },
  {
   "cell_type": "code",
   "execution_count": 38,
   "metadata": {},
   "outputs": [
    {
     "data": {
      "text/html": [
       "<div>\n",
       "<style scoped>\n",
       "    .dataframe tbody tr th:only-of-type {\n",
       "        vertical-align: middle;\n",
       "    }\n",
       "\n",
       "    .dataframe tbody tr th {\n",
       "        vertical-align: top;\n",
       "    }\n",
       "\n",
       "    .dataframe thead th {\n",
       "        text-align: right;\n",
       "    }\n",
       "</style>\n",
       "<table border=\"1\" class=\"dataframe\">\n",
       "  <thead>\n",
       "    <tr style=\"text-align: right;\">\n",
       "      <th></th>\n",
       "      <th>date</th>\n",
       "      <th>serial_number</th>\n",
       "      <th>smart_1_raw</th>\n",
       "      <th>smart_3_raw</th>\n",
       "      <th>smart_4_raw</th>\n",
       "      <th>smart_5_raw</th>\n",
       "      <th>smart_7_raw</th>\n",
       "      <th>smart_9_raw</th>\n",
       "      <th>smart_10_raw</th>\n",
       "      <th>smart_12_raw</th>\n",
       "      <th>...</th>\n",
       "      <th>smart_193_raw_sum</th>\n",
       "      <th>smart_194_raw_sum</th>\n",
       "      <th>smart_197_raw_sum</th>\n",
       "      <th>smart_198_raw_sum</th>\n",
       "      <th>smart_199_raw_sum</th>\n",
       "      <th>smart_240_raw_sum</th>\n",
       "      <th>smart_241_raw_sum</th>\n",
       "      <th>smart_242_raw_sum</th>\n",
       "      <th>broken_day</th>\n",
       "      <th>y</th>\n",
       "    </tr>\n",
       "  </thead>\n",
       "  <tbody>\n",
       "    <tr>\n",
       "      <th>0</th>\n",
       "      <td>2017-10-07</td>\n",
       "      <td>Z304H3GQ</td>\n",
       "      <td>104748192.0</td>\n",
       "      <td>0.0</td>\n",
       "      <td>14.0</td>\n",
       "      <td>0.0</td>\n",
       "      <td>386396672.0</td>\n",
       "      <td>15189.0</td>\n",
       "      <td>0.0</td>\n",
       "      <td>13.0</td>\n",
       "      <td>...</td>\n",
       "      <td>1077941.0</td>\n",
       "      <td>96.0</td>\n",
       "      <td>0.0</td>\n",
       "      <td>0.0</td>\n",
       "      <td>0.0</td>\n",
       "      <td>67474.0</td>\n",
       "      <td>6.774596e+10</td>\n",
       "      <td>4.334737e+11</td>\n",
       "      <td>2017-10-10</td>\n",
       "      <td>4 days</td>\n",
       "    </tr>\n",
       "    <tr>\n",
       "      <th>1</th>\n",
       "      <td>2017-10-07</td>\n",
       "      <td>S3015EJ2</td>\n",
       "      <td>87223784.0</td>\n",
       "      <td>0.0</td>\n",
       "      <td>5.0</td>\n",
       "      <td>0.0</td>\n",
       "      <td>423281312.0</td>\n",
       "      <td>10898.0</td>\n",
       "      <td>0.0</td>\n",
       "      <td>5.0</td>\n",
       "      <td>...</td>\n",
       "      <td>53591.0</td>\n",
       "      <td>107.0</td>\n",
       "      <td>0.0</td>\n",
       "      <td>0.0</td>\n",
       "      <td>0.0</td>\n",
       "      <td>54066.0</td>\n",
       "      <td>5.601590e+10</td>\n",
       "      <td>1.443243e+11</td>\n",
       "      <td>2017-11-05</td>\n",
       "      <td>30 days</td>\n",
       "    </tr>\n",
       "    <tr>\n",
       "      <th>2</th>\n",
       "      <td>2017-10-07</td>\n",
       "      <td>Z30149RX</td>\n",
       "      <td>115268592.0</td>\n",
       "      <td>0.0</td>\n",
       "      <td>30.0</td>\n",
       "      <td>0.0</td>\n",
       "      <td>875151040.0</td>\n",
       "      <td>33042.0</td>\n",
       "      <td>0.0</td>\n",
       "      <td>30.0</td>\n",
       "      <td>...</td>\n",
       "      <td>214479.0</td>\n",
       "      <td>97.0</td>\n",
       "      <td>0.0</td>\n",
       "      <td>0.0</td>\n",
       "      <td>0.0</td>\n",
       "      <td>163778.0</td>\n",
       "      <td>1.436515e+11</td>\n",
       "      <td>8.385830e+11</td>\n",
       "      <td>2017-12-07</td>\n",
       "      <td>62 days</td>\n",
       "    </tr>\n",
       "    <tr>\n",
       "      <th>3</th>\n",
       "      <td>2017-10-07</td>\n",
       "      <td>Z3036CV2</td>\n",
       "      <td>239166720.0</td>\n",
       "      <td>0.0</td>\n",
       "      <td>8.0</td>\n",
       "      <td>0.0</td>\n",
       "      <td>142917344.0</td>\n",
       "      <td>22610.0</td>\n",
       "      <td>0.0</td>\n",
       "      <td>8.0</td>\n",
       "      <td>...</td>\n",
       "      <td>165090.0</td>\n",
       "      <td>106.0</td>\n",
       "      <td>240.0</td>\n",
       "      <td>240.0</td>\n",
       "      <td>0.0</td>\n",
       "      <td>112195.0</td>\n",
       "      <td>9.175893e+10</td>\n",
       "      <td>5.307706e+11</td>\n",
       "      <td>2017-10-25</td>\n",
       "      <td>19 days</td>\n",
       "    </tr>\n",
       "    <tr>\n",
       "      <th>4</th>\n",
       "      <td>2017-10-07</td>\n",
       "      <td>Z3055XCP</td>\n",
       "      <td>82190128.0</td>\n",
       "      <td>0.0</td>\n",
       "      <td>8.0</td>\n",
       "      <td>0.0</td>\n",
       "      <td>645148992.0</td>\n",
       "      <td>14549.0</td>\n",
       "      <td>0.0</td>\n",
       "      <td>8.0</td>\n",
       "      <td>...</td>\n",
       "      <td>38007.0</td>\n",
       "      <td>138.0</td>\n",
       "      <td>0.0</td>\n",
       "      <td>0.0</td>\n",
       "      <td>0.0</td>\n",
       "      <td>72093.0</td>\n",
       "      <td>1.725957e+11</td>\n",
       "      <td>2.954218e+11</td>\n",
       "      <td>2017-11-20</td>\n",
       "      <td>45 days</td>\n",
       "    </tr>\n",
       "  </tbody>\n",
       "</table>\n",
       "<p>5 rows × 100 columns</p>\n",
       "</div>"
      ],
      "text/plain": [
       "        date serial_number  smart_1_raw  smart_3_raw  smart_4_raw  \\\n",
       "0 2017-10-07      Z304H3GQ  104748192.0          0.0         14.0   \n",
       "1 2017-10-07      S3015EJ2   87223784.0          0.0          5.0   \n",
       "2 2017-10-07      Z30149RX  115268592.0          0.0         30.0   \n",
       "3 2017-10-07      Z3036CV2  239166720.0          0.0          8.0   \n",
       "4 2017-10-07      Z3055XCP   82190128.0          0.0          8.0   \n",
       "\n",
       "   smart_5_raw  smart_7_raw  smart_9_raw  smart_10_raw  smart_12_raw   ...    \\\n",
       "0          0.0  386396672.0      15189.0           0.0          13.0   ...     \n",
       "1          0.0  423281312.0      10898.0           0.0           5.0   ...     \n",
       "2          0.0  875151040.0      33042.0           0.0          30.0   ...     \n",
       "3          0.0  142917344.0      22610.0           0.0           8.0   ...     \n",
       "4          0.0  645148992.0      14549.0           0.0           8.0   ...     \n",
       "\n",
       "   smart_193_raw_sum  smart_194_raw_sum  smart_197_raw_sum  smart_198_raw_sum  \\\n",
       "0          1077941.0               96.0                0.0                0.0   \n",
       "1            53591.0              107.0                0.0                0.0   \n",
       "2           214479.0               97.0                0.0                0.0   \n",
       "3           165090.0              106.0              240.0              240.0   \n",
       "4            38007.0              138.0                0.0                0.0   \n",
       "\n",
       "   smart_199_raw_sum  smart_240_raw_sum  smart_241_raw_sum  smart_242_raw_sum  \\\n",
       "0                0.0            67474.0       6.774596e+10       4.334737e+11   \n",
       "1                0.0            54066.0       5.601590e+10       1.443243e+11   \n",
       "2                0.0           163778.0       1.436515e+11       8.385830e+11   \n",
       "3                0.0           112195.0       9.175893e+10       5.307706e+11   \n",
       "4                0.0            72093.0       1.725957e+11       2.954218e+11   \n",
       "\n",
       "   broken_day       y  \n",
       "0  2017-10-10  4 days  \n",
       "1  2017-11-05 30 days  \n",
       "2  2017-12-07 62 days  \n",
       "3  2017-10-25 19 days  \n",
       "4  2017-11-20 45 days  \n",
       "\n",
       "[5 rows x 100 columns]"
      ]
     },
     "execution_count": 38,
     "metadata": {},
     "output_type": "execute_result"
    }
   ],
   "source": [
    "dataset.head()"
   ]
  },
  {
   "cell_type": "code",
   "execution_count": 39,
   "metadata": {
    "collapsed": true
   },
   "outputs": [],
   "source": [
    "del_list=feature_selection(dataset,0.1,clf)"
   ]
  },
  {
   "cell_type": "code",
   "execution_count": 40,
   "metadata": {},
   "outputs": [
    {
     "name": "stdout",
     "output_type": "stream",
     "text": [
      "['smart_1_raw', 'smart_3_raw', 'smart_4_raw', 'smart_10_raw', 'smart_187_raw', 'smart_188_raw', 'smart_189_raw', 'smart_190_raw', 'smart_199_raw', 'smart_184_raw_diff', 'smart_198_raw_diff']\n"
     ]
    }
   ],
   "source": [
    "print(del_list)"
   ]
  },
  {
   "cell_type": "code",
   "execution_count": 41,
   "metadata": {},
   "outputs": [
    {
     "data": {
      "text/plain": [
       "11"
      ]
     },
     "execution_count": 41,
     "metadata": {},
     "output_type": "execute_result"
    }
   ],
   "source": [
    "len(del_list)"
   ]
  },
  {
   "cell_type": "code",
   "execution_count": 17,
   "metadata": {
    "collapsed": true
   },
   "outputs": [],
   "source": [
    "def split_train_test(dataset,dele_list):\n",
    "    dataset=dataset.drop(dele_list,axis=1)\n",
    "    training_set = dataset.loc[dataset['broken_day'].astype(str) < '2017-12-01'].copy()\n",
    "    testing_set = dataset.loc[(dataset['broken_day'].astype(str) >= '2017-12-01') & (dataset['date'].astype(str) >= '2017-12-01')].copy()   \n",
    "    x_train=training_set.drop(['date','serial_number',\n",
    "                                     'y','broken_day'],axis=1)\n",
    "    y_train=training_set['y'].dt.days\n",
    "    x_val=testing_set.drop(['date','serial_number',\n",
    "                                     'y','broken_day'],axis=1)\n",
    "    y_val=testing_set['y'].dt.days\n",
    "    \n",
    "    x_train_norm = (x_train - x_train.mean()).values.astype(np.float32)\n",
    "    x_test_norm = (x_val - x_val.mean()).values.astype(np.float32)\n",
    "    return x_train_norm,y_train,x_test_norm,y_val"
   ]
  },
  {
   "cell_type": "code",
   "execution_count": 63,
   "metadata": {
    "collapsed": true
   },
   "outputs": [],
   "source": [
    "del_list=['smart_1_raw', 'smart_3_raw', 'smart_4_raw', 'smart_10_raw', 'smart_187_raw', 'smart_188_raw', 'smart_189_raw', 'smart_190_raw', 'smart_199_raw', 'smart_184_raw_diff', 'smart_198_raw_diff']"
   ]
  },
  {
   "cell_type": "code",
   "execution_count": 64,
   "metadata": {
    "collapsed": true
   },
   "outputs": [],
   "source": [
    "x_train,y_train,x_val,y_val=split_train_test(dataset,del_list)"
   ]
  },
  {
   "cell_type": "code",
   "execution_count": 65,
   "metadata": {},
   "outputs": [
    {
     "data": {
      "text/plain": [
       "(1241, 85)"
      ]
     },
     "execution_count": 65,
     "metadata": {},
     "output_type": "execute_result"
    }
   ],
   "source": [
    "x_train.shape"
   ]
  },
  {
   "cell_type": "code",
   "execution_count": 28,
   "metadata": {
    "collapsed": true
   },
   "outputs": [],
   "source": [
    "from sklearn.metrics import confusion_matrix\n",
    "def compute_metrics(predictor,x_train,y_train,x_val,y_val):\n",
    "    FPR_list=[]\n",
    "    TPR_list=[]\n",
    "    for r in range(0,90):\n",
    "        predictor.fit(x_train,y_train)\n",
    "        y_pred=predictor.predict(x_val)\n",
    "        true, pred=get_result(y_val, y_pred, r)\n",
    "        conf= confusion_matrix(true, pred).ravel()\n",
    "        if len(conf)<4:\n",
    "            continue\n",
    "        FP=conf[1]\n",
    "        FN=conf[2]\n",
    "        TP=conf[3]\n",
    "        TN=conf[0]\n",
    "        FPR = FP / (FP + TN)\n",
    "        TPR = TP / (TP + FN)\n",
    "        FPR_list.append(FPR)\n",
    "        TPR_list.append(TPR)\n",
    "    return FPR_list,TPR_list"
   ]
  },
  {
   "cell_type": "code",
   "execution_count": 66,
   "metadata": {
    "collapsed": true
   },
   "outputs": [],
   "source": [
    "FPR_list,TPR_list=compute_metrics(clf,x_train,y_train,x_val,y_val)"
   ]
  },
  {
   "cell_type": "code",
   "execution_count": 76,
   "metadata": {},
   "outputs": [
    {
     "name": "stdout",
     "output_type": "stream",
     "text": [
      "5\n"
     ]
    }
   ],
   "source": [
    "for i in range(0,len(FPR_list)):\n",
    "    if 0.1<=FPR_list[i]<0.2:\n",
    "        print(i)"
   ]
  },
  {
   "cell_type": "code",
   "execution_count": 77,
   "metadata": {},
   "outputs": [
    {
     "name": "stdout",
     "output_type": "stream",
     "text": [
      "0.326241134752\n"
     ]
    }
   ],
   "source": [
    "cdef_tpr=TPR_list[5]\n",
    "print(cdef_tpr)"
   ]
  },
  {
   "cell_type": "code",
   "execution_count": 78,
   "metadata": {},
   "outputs": [
    {
     "data": {
      "text/plain": [
       "0.16071428571428573"
      ]
     },
     "execution_count": 78,
     "metadata": {},
     "output_type": "execute_result"
    }
   ],
   "source": [
    "FPR_list[5]"
   ]
  },
  {
   "cell_type": "code",
   "execution_count": 55,
   "metadata": {
    "collapsed": true
   },
   "outputs": [],
   "source": [
    "from sklearn.ensemble import RandomForestRegressor\n",
    "from sklearn.svm import SVR\n",
    "RF=RandomForestRegressor()\n",
    "SVM=SVR()"
   ]
  },
  {
   "cell_type": "code",
   "execution_count": 59,
   "metadata": {},
   "outputs": [
    {
     "data": {
      "image/png": "[encoded data removed]",
      "text/plain": [
       "<matplotlib.figure.Figure at 0x10c8eee48>"
      ]
     },
     "metadata": {},
     "output_type": "display_data"
    }
   ],
   "source": [
    "from sklearn.metrics import roc_curve\n",
    "import matplotlib.pyplot as plt\n",
    "\n",
    "plt.plot(FPR_list, TPR_list, label=\"ROC\",ls='dashed')\n",
    "plt.plot(np.linspace(0, 1, 10), np.linspace(0, 1, 10), label=\"control\")\n",
    "# t1 = np.arange(0.0, 1.0, 0.01)\n",
    "# for n in [1, 2, 3, 4]:\n",
    "\n",
    "leg = plt.legend(loc='best', ncol=2, fancybox=True)\n",
    "leg.get_frame().set_alpha(0.5)\n",
    "\n",
    "plt.show()"
   ]
  },
  {
   "cell_type": "code",
   "execution_count": 29,
   "metadata": {
    "collapsed": true
   },
   "outputs": [],
   "source": [
    "def plot_curve(x_train,y_train,x_val,y_val):\n",
    "    ax = plt.subplot(111)\n",
    "    for predictor,name in zip([clf,RF,SVM],['clf','RF','SVM']):\n",
    "        FPR_list,TPR_list=compute_metrics(clf,x_train,y_train,x_val,y_val)\n",
    "        plt.plot(FPR_list, TPR_list, label=name)\n",
    "    plt.plot(np.linspace(0, 1, 10), np.linspace(0, 1, 10), label=\"control\", ls='dashed')\n",
    "    leg = plt.legend(loc='best', ncol=2, fancybox=True)\n",
    "    leg.get_frame().set_alpha(0.5)\n",
    "    plt.show()"
   ]
  },
  {
   "cell_type": "code",
   "execution_count": 61,
   "metadata": {},
   "outputs": [
    {
     "name": "stderr",
     "output_type": "stream",
     "text": [
      "/Users/zhilinyang/anaconda3/lib/python3.6/site-packages/ipykernel_launcher.py:17: RuntimeWarning: invalid value encountered in long_scalars\n"
     ]
    },
    {
     "data": {
      "image/png": "[encoded data removed]",
      "text/plain": [
       "<matplotlib.figure.Figure at 0x10c8d8d68>"
      ]
     },
     "metadata": {},
     "output_type": "display_data"
    }
   ],
   "source": [
    "plot_curve(x_train,y_train,x_val,y_val)"
   ]
  },
  {
   "cell_type": "code",
   "execution_count": 54,
   "metadata": {},
   "outputs": [],
   "source": [
    "from sklearn.feature_selection import mutual_info_classif\n",
    "x_train,y_train,x_val,y_val=split_train_test(dataset,[])"
   ]
  },
  {
   "cell_type": "code",
   "execution_count": 55,
   "metadata": {
    "collapsed": true
   },
   "outputs": [],
   "source": [
    "importances = mutual_info_classif(x_train, y_train)"
   ]
  },
  {
   "cell_type": "code",
   "execution_count": 56,
   "metadata": {},
   "outputs": [],
   "source": [
    "features = [c for c in dataset.columns if c[:5] == 'smart']\n",
    "selected_features = [features[i] for i in np.argwhere(importances>0.01).reshape((-1,))]"
   ]
  },
  {
   "cell_type": "code",
   "execution_count": 57,
   "metadata": {
    "collapsed": true
   },
   "outputs": [],
   "source": [
    "del_list=[f for f in features if f not in selected_features]\n",
    "x_train,y_train,x_val,y_val=split_train_test(dataset,del_list)"
   ]
  },
  {
   "cell_type": "code",
   "execution_count": 58,
   "metadata": {},
   "outputs": [
    {
     "name": "stderr",
     "output_type": "stream",
     "text": [
      "/Users/zhilinyang/anaconda3/lib/python3.6/site-packages/ipykernel_launcher.py:17: RuntimeWarning: invalid value encountered in long_scalars\n"
     ]
    }
   ],
   "source": [
    "FPR_list,TPR_list=compute_metrics(clf,x_train,y_train,x_val,y_val)"
   ]
  },
  {
   "cell_type": "code",
   "execution_count": 59,
   "metadata": {},
   "outputs": [
    {
     "name": "stdout",
     "output_type": "stream",
     "text": [
      "[0.0054794520547945206, 0.0088495575221238937, 0.0095541401273885346, 0.017241379310344827, 0.022556390977443608, 0.048979591836734691, 0.058035714285714288, 0.078048780487804878, 0.089473684210526316, 0.14204545454545456, 0.2839506172839506, 0.73154362416107388, 0.7720588235294118, 0.79838709677419351, 0.8482142857142857, 0.85999999999999999, 0.8651685393258427, 0.87341772151898733, 0.8571428571428571, 0.88524590163934425, 0.98113207547169812, 0.97777777777777775, 0.97297297297297303, 1.0, 1.0, 1.0, 1.0, 1.0, 1.0] [nan, 0.038461538461538464, 0.11764705882352941, 0.10666666666666667, 0.19191919191919191, 0.24166666666666667, 0.29078014184397161, 0.33750000000000002, 0.37714285714285717, 0.40740740740740738, 0.51724137931034486, 0.80555555555555558, 0.86899563318777295, 0.89211618257261416, 0.90513833992094861, 0.92075471698113209, 0.93478260869565222, 0.93706293706293708, 0.94237288135593222, 0.95723684210526316, 0.97756410256410253, 0.984375, 0.99085365853658536, 0.991044776119403, 0.99707602339181289, 1.0, 1.0, 1.0, 1.0]\n"
     ]
    }
   ],
   "source": [
    "print(FPR_list,TPR_list)"
   ]
  },
  {
   "cell_type": "code",
   "execution_count": 60,
   "metadata": {},
   "outputs": [
    {
     "name": "stdout",
     "output_type": "stream",
     "text": [
      "9\n"
     ]
    }
   ],
   "source": [
    "for i in range(0,len(FPR_list)):\n",
    "    if 0.1<=FPR_list[i]<0.2:\n",
    "        print(i)"
   ]
  },
  {
   "cell_type": "code",
   "execution_count": 62,
   "metadata": {},
   "outputs": [
    {
     "name": "stdout",
     "output_type": "stream",
     "text": [
      "0.407407407407\n"
     ]
    }
   ],
   "source": [
    "mu_tpr=TPR_list[9]\n",
    "print(mu_tpr)"
   ]
  },
  {
   "cell_type": "code",
   "execution_count": 61,
   "metadata": {},
   "outputs": [
    {
     "data": {
      "text/plain": [
       "0.14204545454545456"
      ]
     },
     "execution_count": 61,
     "metadata": {},
     "output_type": "execute_result"
    }
   ],
   "source": [
    "FPR_list[9]"
   ]
  },
  {
   "cell_type": "code",
   "execution_count": 39,
   "metadata": {},
   "outputs": [],
   "source": [
    "from sklearn.feature_selection import chi2\n",
    "x_train,y_train,x_val,y_val=split_train_test(dataset,[])\n",
    "chi2s, p = chi2(x_train - x_train.min(), y_train)\n",
    "selected_features = [features[i] for i in list(np.argsort(chi2s))[-30:]]"
   ]
  },
  {
   "cell_type": "code",
   "execution_count": 40,
   "metadata": {},
   "outputs": [
    {
     "data": {
      "text/plain": [
       "['smart_3_raw',\n",
       " 'smart_188_raw',\n",
       " 'smart_240_raw_diff',\n",
       " 'smart_242_raw_diff',\n",
       " 'smart_3_raw_diff',\n",
       " 'smart_198_raw_diff',\n",
       " 'smart_197_raw_diff',\n",
       " 'smart_194_raw_diff',\n",
       " 'smart_193_raw_diff',\n",
       " 'smart_192_raw_diff',\n",
       " 'smart_191_raw_diff',\n",
       " 'smart_190_raw_diff',\n",
       " 'smart_1_raw_diff',\n",
       " 'smart_188_raw_diff',\n",
       " 'smart_189_raw_diff',\n",
       " 'smart_184_raw_diff',\n",
       " 'smart_183_raw_diff',\n",
       " 'smart_12_raw_diff',\n",
       " 'smart_10_raw_diff',\n",
       " 'smart_9_raw_diff',\n",
       " 'smart_7_raw_diff',\n",
       " 'smart_5_raw_diff',\n",
       " 'smart_4_raw_diff',\n",
       " 'smart_187_raw_diff',\n",
       " 'smart_7_raw',\n",
       " 'smart_241_raw_sum',\n",
       " 'smart_241_raw_sigma',\n",
       " 'smart_1_raw_sigma',\n",
       " 'smart_242_raw_sigma',\n",
       " 'smart_7_raw_sigma']"
      ]
     },
     "execution_count": 40,
     "metadata": {},
     "output_type": "execute_result"
    }
   ],
   "source": [
    "selected_features"
   ]
  },
  {
   "cell_type": "code",
   "execution_count": 41,
   "metadata": {},
   "outputs": [
    {
     "name": "stderr",
     "output_type": "stream",
     "text": [
      "/Users/zhilinyang/anaconda3/lib/python3.6/site-packages/ipykernel_launcher.py:17: RuntimeWarning: invalid value encountered in long_scalars\n"
     ]
    }
   ],
   "source": [
    "del_list=[f for f in features if f not in selected_features]\n",
    "x_train,y_train,x_val,y_val=split_train_test(dataset,del_list)\n",
    "FPR_list,TPR_list=compute_metrics(clf,x_train,y_train,x_val,y_val)"
   ]
  },
  {
   "cell_type": "code",
   "execution_count": 47,
   "metadata": {},
   "outputs": [
    {
     "name": "stdout",
     "output_type": "stream",
     "text": [
      "1\n",
      "2\n"
     ]
    }
   ],
   "source": [
    "for i in range(0,len(FPR_list)):\n",
    "    if 0.1<=FPR_list[i]<0.2:\n",
    "        print(i)"
   ]
  },
  {
   "cell_type": "code",
   "execution_count": 48,
   "metadata": {},
   "outputs": [
    {
     "name": "stdout",
     "output_type": "stream",
     "text": [
      "0.192307692308\n"
     ]
    }
   ],
   "source": [
    "CHI_tpr=TPR_list[2]\n",
    "print(CHI_tpr)"
   ]
  },
  {
   "cell_type": "code",
   "execution_count": 51,
   "metadata": {},
   "outputs": [
    {
     "data": {
      "text/plain": [
       "0.1887905604719764"
      ]
     },
     "execution_count": 51,
     "metadata": {},
     "output_type": "execute_result"
    }
   ],
   "source": [
    "FPR_list[2]"
   ]
  },
  {
   "cell_type": "code",
   "execution_count": 79,
   "metadata": {
    "collapsed": true
   },
   "outputs": [],
   "source": [
    "from sklearn.ensemble import RandomForestRegressor\n",
    "rfg = RandomForestRegressor()\n",
    "x_train,y_train,x_val,y_val=split_train_test(dataset,[])\n",
    "rfg.fit(x_train, y_train)\n",
    "importances = rfg.feature_importances_"
   ]
  },
  {
   "cell_type": "code",
   "execution_count": 80,
   "metadata": {
    "collapsed": true
   },
   "outputs": [],
   "source": [
    "selected_features = [features[i] for i in np.argwhere(importances>0.01).reshape((-1,))]"
   ]
  },
  {
   "cell_type": "code",
   "execution_count": 82,
   "metadata": {},
   "outputs": [],
   "source": [
    "del_list=[f for f in features if f not in selected_features]\n",
    "x_train,y_train,x_val,y_val=split_train_test(dataset,del_list)"
   ]
  },
  {
   "cell_type": "code",
   "execution_count": 83,
   "metadata": {},
   "outputs": [
    {
     "name": "stderr",
     "output_type": "stream",
     "text": [
      "/Users/zhilinyang/anaconda3/lib/python3.6/site-packages/ipykernel_launcher.py:17: RuntimeWarning: invalid value encountered in long_scalars\n"
     ]
    }
   ],
   "source": [
    "FPR_list,TPR_list=compute_metrics(clf,x_train,y_train,x_val,y_val)"
   ]
  },
  {
   "cell_type": "code",
   "execution_count": 84,
   "metadata": {},
   "outputs": [
    {
     "name": "stdout",
     "output_type": "stream",
     "text": [
      "6\n"
     ]
    }
   ],
   "source": [
    "for i in range(0,len(FPR_list)):\n",
    "    if 0.1<=FPR_list[i]<0.2:\n",
    "        print(i)"
   ]
  },
  {
   "cell_type": "code",
   "execution_count": 85,
   "metadata": {},
   "outputs": [
    {
     "name": "stdout",
     "output_type": "stream",
     "text": [
      "0.325\n"
     ]
    }
   ],
   "source": [
    "rf_tpr=TPR_list[6]\n",
    "print(rf_tpr)"
   ]
  },
  {
   "cell_type": "code",
   "execution_count": 86,
   "metadata": {},
   "outputs": [
    {
     "name": "stdout",
     "output_type": "stream",
     "text": [
      "0.142857142857\n"
     ]
    }
   ],
   "source": [
    "print(FPR_list[6])"
   ]
  },
  {
   "cell_type": "code",
   "execution_count": 90,
   "metadata": {
    "collapsed": true
   },
   "outputs": [],
   "source": [
    "values = [0.33, 0.325, 0.19, 0.41]\n",
    "labels = ['Proposed', 'RF', 'Chi2', 'Mutual Info']"
   ]
  },
  {
   "cell_type": "code",
   "execution_count": 95,
   "metadata": {},
   "outputs": [
    {
     "data": {
      "text/plain": [
       "[Text(0,0,'Proposed'),\n",
       " Text(0,0,'RF'),\n",
       " Text(0,0,'Chi2'),\n",
       " Text(0,0,'Mutual Info')]"
      ]
     },
     "execution_count": 95,
     "metadata": {},
     "output_type": "execute_result"
    }
   ],
   "source": [
    "import matplotlib.pyplot as plt\n",
    "fig, ax = plt.subplots()\n",
    "a,b,c,d = plt.bar(range(len(values)), values, width=0.5)\n",
    "a.set_facecolor('r')\n",
    "b.set_facecolor('g')\n",
    "c.set_facecolor('b')\n",
    "d.set_facecolor('y')\n",
    "ax.set_xticks(np.arange(len(values)) + width/2)\n",
    "ax.set_xticklabels(labels, rotation=90)"
   ]
  },
  {
   "cell_type": "code",
   "execution_count": 96,
   "metadata": {},
   "outputs": [
    {
     "data": {
      "image/png": "[encoded data removed]",
      "text/plain": [
       "<matplotlib.figure.Figure at 0x10f5d5320>"
      ]
     },
     "metadata": {},
     "output_type": "display_data"
    }
   ],
   "source": [
    "plt.show()"
   ]
  },
  {
   "cell_type": "code",
   "execution_count": null,
   "metadata": {
    "collapsed": true
   },
   "outputs": [],
   "source": []
  }
 ],
 "metadata": {
  "kernelspec": {
   "display_name": "Python 3",
   "language": "python",
   "name": "python3"
  },
  "language_info": {
   "codemirror_mode": {
    "name": "ipython",
    "version": 3
   },
   "file_extension": ".py",
   "mimetype": "text/x-python",
   "name": "python",
   "nbconvert_exporter": "python",
   "pygments_lexer": "ipython3",
   "version": "3.6.3"
  }
 },
 "nbformat": 4,
 "nbformat_minor": 2
}
